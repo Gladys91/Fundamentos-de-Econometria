{
  "nbformat": 4,
  "nbformat_minor": 0,
  "metadata": {
    "colab": {
      "provenance": [],
      "collapsed_sections": [],
      "authorship_tag": "ABX9TyOjGZkyrPgnjZpEUFkSr0XN",
      "include_colab_link": true
    },
    "kernelspec": {
      "name": "ir",
      "display_name": "R"
    },
    "language_info": {
      "name": "R"
    }
  },
  "cells": [
    {
      "cell_type": "markdown",
      "metadata": {
        "id": "view-in-github",
        "colab_type": "text"
      },
      "source": [
        "<a href=\"https://colab.research.google.com/github/juanpalominoh/Fundamentos-de-Econometria/blob/main/Tema_5_Errores_de_Especificaci%C3%B3n_y_Teorema_Frisch_Waugh.ipynb\" target=\"_parent\"><img src=\"https://colab.research.google.com/assets/colab-badge.svg\" alt=\"Open In Colab\"/></a>"
      ]
    },
    {
      "cell_type": "markdown",
      "source": [
        "# Tema 5: Errores de especificación y Teorema Frisch-Waugh"
      ],
      "metadata": {
        "id": "5Vv2kX81YIaM"
      }
    },
    {
      "cell_type": "code",
      "source": [
        "# Configurar el tiempo limite de carga \n",
        "options(timeout=3000)\n",
        "getOption('timeout')"
      ],
      "metadata": {
        "colab": {
          "base_uri": "https://localhost:8080/",
          "height": 34
        },
        "id": "_AqEYNGJ_Ozp",
        "outputId": "5ac3f0fc-cb5a-45f4-ee9b-f55bf2678c77"
      },
      "execution_count": null,
      "outputs": [
        {
          "output_type": "display_data",
          "data": {
            "text/html": [
              "3000"
            ],
            "text/markdown": "3000",
            "text/latex": "3000",
            "text/plain": [
              "[1] 3000"
            ]
          },
          "metadata": {}
        }
      ]
    },
    {
      "cell_type": "markdown",
      "source": [
        "El link del drive donde se encuentra el archivo es: https://drive.google.com/file/d/1WFCu_CwsWhqKjO7b1R1rdVPgGmfTwFBp/view?usp=sharing"
      ],
      "metadata": {
        "id": "ZIz0eACBqynQ"
      }
    },
    {
      "cell_type": "code",
      "source": [
        "system(\"gdown --id 1WFCu_CwsWhqKjO7b1R1rdVPgGmfTwFBp\")"
      ],
      "metadata": {
        "id": "UZGEOocBqhgx"
      },
      "execution_count": null,
      "outputs": []
    },
    {
      "cell_type": "code",
      "source": [
        "unzip(\"/content/enaho_2021.zip\")"
      ],
      "metadata": {
        "id": "y1J-VlMVq9jJ"
      },
      "execution_count": null,
      "outputs": []
    },
    {
      "cell_type": "markdown",
      "source": [
        "Cargamos una base procesada de la ENAHO 2021. "
      ],
      "metadata": {
        "id": "eiYigci7-o9M"
      }
    },
    {
      "cell_type": "code",
      "source": [
        "# Cargar el modulo 5 de la ENAHO \n",
        "library(haven)\n",
        "enaho <- read_dta(\"/content/enaho_2021.dta\")\n",
        "head(enaho)"
      ],
      "metadata": {
        "colab": {
          "base_uri": "https://localhost:8080/",
          "height": 306
        },
        "id": "Abbz7lfS-rNu",
        "outputId": "d4441af7-49b8-4449-dff3-6b610fcbe4da"
      },
      "execution_count": null,
      "outputs": [
        {
          "output_type": "display_data",
          "data": {
            "text/html": [
              "<table class=\"dataframe\">\n",
              "<caption>A tibble: 6 × 32</caption>\n",
              "<thead>\n",
              "\t<tr><th scope=col>pais</th><th scope=col>aÑo</th><th scope=col>mes</th><th scope=col>dpto</th><th scope=col>zona</th><th scope=col>urban</th><th scope=col>conglome</th><th scope=col>vivienda</th><th scope=col>hogar</th><th scope=col>codperso</th><th scope=col>⋯</th><th scope=col>gruocu</th><th scope=col>skill_ocu</th><th scope=col>ingreso</th><th scope=col>lnwage</th><th scope=col>sis_pension</th><th scope=col>informal</th><th scope=col>lntamaño</th><th scope=col>fac500a</th><th scope=col>sch</th><th scope=col>exper</th></tr>\n",
              "\t<tr><th scope=col>&lt;chr&gt;</th><th scope=col>&lt;dbl&gt;</th><th scope=col>&lt;dbl&gt;</th><th scope=col>&lt;dbl+lbl&gt;</th><th scope=col>&lt;dbl+lbl&gt;</th><th scope=col>&lt;dbl+lbl&gt;</th><th scope=col>&lt;dbl&gt;</th><th scope=col>&lt;chr&gt;</th><th scope=col>&lt;chr&gt;</th><th scope=col>&lt;chr&gt;</th><th scope=col>⋯</th><th scope=col>&lt;dbl+lbl&gt;</th><th scope=col>&lt;dbl+lbl&gt;</th><th scope=col>&lt;dbl&gt;</th><th scope=col>&lt;dbl&gt;</th><th scope=col>&lt;dbl+lbl&gt;</th><th scope=col>&lt;dbl+lbl&gt;</th><th scope=col>&lt;dbl&gt;</th><th scope=col>&lt;dbl&gt;</th><th scope=col>&lt;dbl&gt;</th><th scope=col>&lt;dbl&gt;</th></tr>\n",
              "</thead>\n",
              "<tbody>\n",
              "\t<tr><td>Perú</td><td>2021</td><td>2</td><td>1</td><td>2</td><td>1</td><td>5007</td><td>003</td><td>11</td><td>01</td><td>⋯</td><td>4</td><td>2</td><td>6433.5938</td><td>8.769289</td><td>1</td><td>0</td><td>9.2101402</td><td> 68.58327</td><td>17</td><td>33</td></tr>\n",
              "\t<tr><td>Perú</td><td>2021</td><td>2</td><td>1</td><td>2</td><td>1</td><td>5007</td><td>012</td><td>11</td><td>01</td><td>⋯</td><td>5</td><td>2</td><td>1062.1659</td><td>6.968065</td><td>0</td><td>1</td><td>1.3862944</td><td> 86.84176</td><td>11</td><td> 4</td></tr>\n",
              "\t<tr><td>Perú</td><td>2021</td><td>2</td><td>1</td><td>2</td><td>1</td><td>5007</td><td>022</td><td>11</td><td>01</td><td>⋯</td><td>4</td><td>2</td><td>2224.6653</td><td>7.707362</td><td>1</td><td>0</td><td>9.2101402</td><td> 42.10129</td><td>16</td><td>40</td></tr>\n",
              "\t<tr><td>Perú</td><td>2021</td><td>2</td><td>1</td><td>2</td><td>1</td><td>5007</td><td>022</td><td>11</td><td>02</td><td>⋯</td><td>4</td><td>2</td><td>1619.2104</td><td>7.389694</td><td>1</td><td>0</td><td>9.2101402</td><td> 33.74992</td><td>14</td><td>41</td></tr>\n",
              "\t<tr><td>Perú</td><td>2021</td><td>1</td><td>1</td><td>2</td><td>1</td><td>5009</td><td>041</td><td>11</td><td>01</td><td>⋯</td><td>5</td><td>2</td><td> 397.5833</td><td>5.985404</td><td>0</td><td>1</td><td>0.6931472</td><td>222.03047</td><td> 0</td><td>56</td></tr>\n",
              "\t<tr><td>Perú</td><td>2021</td><td>1</td><td>1</td><td>2</td><td>1</td><td>5009</td><td>098</td><td>11</td><td>02</td><td>⋯</td><td>5</td><td>2</td><td>1223.1825</td><td>7.109211</td><td>0</td><td>1</td><td>1.0986123</td><td>487.35910</td><td>11</td><td>26</td></tr>\n",
              "</tbody>\n",
              "</table>\n"
            ],
            "text/markdown": "\nA tibble: 6 × 32\n\n| pais &lt;chr&gt; | aÑo &lt;dbl&gt; | mes &lt;dbl&gt; | dpto &lt;dbl+lbl&gt; | zona &lt;dbl+lbl&gt; | urban &lt;dbl+lbl&gt; | conglome &lt;dbl&gt; | vivienda &lt;chr&gt; | hogar &lt;chr&gt; | codperso &lt;chr&gt; | ⋯ ⋯ | gruocu &lt;dbl+lbl&gt; | skill_ocu &lt;dbl+lbl&gt; | ingreso &lt;dbl&gt; | lnwage &lt;dbl&gt; | sis_pension &lt;dbl+lbl&gt; | informal &lt;dbl+lbl&gt; | lntamaño &lt;dbl&gt; | fac500a &lt;dbl&gt; | sch &lt;dbl&gt; | exper &lt;dbl&gt; |\n|---|---|---|---|---|---|---|---|---|---|---|---|---|---|---|---|---|---|---|---|---|\n| Perú | 2021 | 2 | 1 | 2 | 1 | 5007 | 003 | 11 | 01 | ⋯ | 4 | 2 | 6433.5938 | 8.769289 | 1 | 0 | 9.2101402 |  68.58327 | 17 | 33 |\n| Perú | 2021 | 2 | 1 | 2 | 1 | 5007 | 012 | 11 | 01 | ⋯ | 5 | 2 | 1062.1659 | 6.968065 | 0 | 1 | 1.3862944 |  86.84176 | 11 |  4 |\n| Perú | 2021 | 2 | 1 | 2 | 1 | 5007 | 022 | 11 | 01 | ⋯ | 4 | 2 | 2224.6653 | 7.707362 | 1 | 0 | 9.2101402 |  42.10129 | 16 | 40 |\n| Perú | 2021 | 2 | 1 | 2 | 1 | 5007 | 022 | 11 | 02 | ⋯ | 4 | 2 | 1619.2104 | 7.389694 | 1 | 0 | 9.2101402 |  33.74992 | 14 | 41 |\n| Perú | 2021 | 1 | 1 | 2 | 1 | 5009 | 041 | 11 | 01 | ⋯ | 5 | 2 |  397.5833 | 5.985404 | 0 | 1 | 0.6931472 | 222.03047 |  0 | 56 |\n| Perú | 2021 | 1 | 1 | 2 | 1 | 5009 | 098 | 11 | 02 | ⋯ | 5 | 2 | 1223.1825 | 7.109211 | 0 | 1 | 1.0986123 | 487.35910 | 11 | 26 |\n\n",
            "text/latex": "A tibble: 6 × 32\n\\begin{tabular}{lllllllllllllllllllll}\n pais & aÑo & mes & dpto & zona & urban & conglome & vivienda & hogar & codperso & ⋯ & gruocu & skill\\_ocu & ingreso & lnwage & sis\\_pension & informal & lntamaño & fac500a & sch & exper\\\\\n <chr> & <dbl> & <dbl> & <dbl+lbl> & <dbl+lbl> & <dbl+lbl> & <dbl> & <chr> & <chr> & <chr> & ⋯ & <dbl+lbl> & <dbl+lbl> & <dbl> & <dbl> & <dbl+lbl> & <dbl+lbl> & <dbl> & <dbl> & <dbl> & <dbl>\\\\\n\\hline\n\t Perú & 2021 & 2 & 1 & 2 & 1 & 5007 & 003 & 11 & 01 & ⋯ & 4 & 2 & 6433.5938 & 8.769289 & 1 & 0 & 9.2101402 &  68.58327 & 17 & 33\\\\\n\t Perú & 2021 & 2 & 1 & 2 & 1 & 5007 & 012 & 11 & 01 & ⋯ & 5 & 2 & 1062.1659 & 6.968065 & 0 & 1 & 1.3862944 &  86.84176 & 11 &  4\\\\\n\t Perú & 2021 & 2 & 1 & 2 & 1 & 5007 & 022 & 11 & 01 & ⋯ & 4 & 2 & 2224.6653 & 7.707362 & 1 & 0 & 9.2101402 &  42.10129 & 16 & 40\\\\\n\t Perú & 2021 & 2 & 1 & 2 & 1 & 5007 & 022 & 11 & 02 & ⋯ & 4 & 2 & 1619.2104 & 7.389694 & 1 & 0 & 9.2101402 &  33.74992 & 14 & 41\\\\\n\t Perú & 2021 & 1 & 1 & 2 & 1 & 5009 & 041 & 11 & 01 & ⋯ & 5 & 2 &  397.5833 & 5.985404 & 0 & 1 & 0.6931472 & 222.03047 &  0 & 56\\\\\n\t Perú & 2021 & 1 & 1 & 2 & 1 & 5009 & 098 & 11 & 02 & ⋯ & 5 & 2 & 1223.1825 & 7.109211 & 0 & 1 & 1.0986123 & 487.35910 & 11 & 26\\\\\n\\end{tabular}\n",
            "text/plain": [
              "  pais aÑo  mes dpto zona urban conglome vivienda hogar codperso ⋯ gruocu\n",
              "1 Perú 2021 2   1    2    1     5007     003      11    01       ⋯ 4     \n",
              "2 Perú 2021 2   1    2    1     5007     012      11    01       ⋯ 5     \n",
              "3 Perú 2021 2   1    2    1     5007     022      11    01       ⋯ 4     \n",
              "4 Perú 2021 2   1    2    1     5007     022      11    02       ⋯ 4     \n",
              "5 Perú 2021 1   1    2    1     5009     041      11    01       ⋯ 5     \n",
              "6 Perú 2021 1   1    2    1     5009     098      11    02       ⋯ 5     \n",
              "  skill_ocu ingreso   lnwage   sis_pension informal lntamaño  fac500a   sch\n",
              "1 2         6433.5938 8.769289 1           0        9.2101402  68.58327 17 \n",
              "2 2         1062.1659 6.968065 0           1        1.3862944  86.84176 11 \n",
              "3 2         2224.6653 7.707362 1           0        9.2101402  42.10129 16 \n",
              "4 2         1619.2104 7.389694 1           0        9.2101402  33.74992 14 \n",
              "5 2          397.5833 5.985404 0           1        0.6931472 222.03047  0 \n",
              "6 2         1223.1825 7.109211 0           1        1.0986123 487.35910 11 \n",
              "  exper\n",
              "1 33   \n",
              "2  4   \n",
              "3 40   \n",
              "4 41   \n",
              "5 56   \n",
              "6 26   "
            ]
          },
          "metadata": {}
        }
      ]
    },
    {
      "cell_type": "markdown",
      "source": [
        "## Estadística Descriptiva"
      ],
      "metadata": {
        "id": "JA93eH3y-vQs"
      }
    },
    {
      "cell_type": "code",
      "source": [
        "# Ver los nombres de las variables. Revisar diccionario para saber que significa cada una de ellas.\n",
        "names(enaho)"
      ],
      "metadata": {
        "id": "gfL3IRTE-2ru",
        "colab": {
          "base_uri": "https://localhost:8080/",
          "height": 69
        },
        "outputId": "f21a2a80-4002-4635-ed7c-2ead28a309b7"
      },
      "execution_count": null,
      "outputs": [
        {
          "output_type": "display_data",
          "data": {
            "text/html": [
              "<style>\n",
              ".list-inline {list-style: none; margin:0; padding: 0}\n",
              ".list-inline>li {display: inline-block}\n",
              ".list-inline>li:not(:last-child)::after {content: \"\\00b7\"; padding: 0 .5ex}\n",
              "</style>\n",
              "<ol class=list-inline><li>'pais'</li><li>'aÑo'</li><li>'mes'</li><li>'dpto'</li><li>'zona'</li><li>'urban'</li><li>'conglome'</li><li>'vivienda'</li><li>'hogar'</li><li>'codperso'</li><li>'mujer'</li><li>'edad'</li><li>'civil'</li><li>'educ'</li><li>'jefe'</li><li>'residente'</li><li>'indigena'</li><li>'tenure'</li><li>'pea'</li><li>'peao'</li><li>'act_sec'</li><li>'sector'</li><li>'gruocu'</li><li>'skill_ocu'</li><li>'ingreso'</li><li>'lnwage'</li><li>'sis_pension'</li><li>'informal'</li><li>'lntamaño'</li><li>'fac500a'</li><li>'sch'</li><li>'exper'</li></ol>\n"
            ],
            "text/markdown": "1. 'pais'\n2. 'aÑo'\n3. 'mes'\n4. 'dpto'\n5. 'zona'\n6. 'urban'\n7. 'conglome'\n8. 'vivienda'\n9. 'hogar'\n10. 'codperso'\n11. 'mujer'\n12. 'edad'\n13. 'civil'\n14. 'educ'\n15. 'jefe'\n16. 'residente'\n17. 'indigena'\n18. 'tenure'\n19. 'pea'\n20. 'peao'\n21. 'act_sec'\n22. 'sector'\n23. 'gruocu'\n24. 'skill_ocu'\n25. 'ingreso'\n26. 'lnwage'\n27. 'sis_pension'\n28. 'informal'\n29. 'lntamaño'\n30. 'fac500a'\n31. 'sch'\n32. 'exper'\n\n\n",
            "text/latex": "\\begin{enumerate*}\n\\item 'pais'\n\\item 'aÑo'\n\\item 'mes'\n\\item 'dpto'\n\\item 'zona'\n\\item 'urban'\n\\item 'conglome'\n\\item 'vivienda'\n\\item 'hogar'\n\\item 'codperso'\n\\item 'mujer'\n\\item 'edad'\n\\item 'civil'\n\\item 'educ'\n\\item 'jefe'\n\\item 'residente'\n\\item 'indigena'\n\\item 'tenure'\n\\item 'pea'\n\\item 'peao'\n\\item 'act\\_sec'\n\\item 'sector'\n\\item 'gruocu'\n\\item 'skill\\_ocu'\n\\item 'ingreso'\n\\item 'lnwage'\n\\item 'sis\\_pension'\n\\item 'informal'\n\\item 'lntamaño'\n\\item 'fac500a'\n\\item 'sch'\n\\item 'exper'\n\\end{enumerate*}\n",
            "text/plain": [
              " [1] \"pais\"        \"aÑo\"         \"mes\"         \"dpto\"        \"zona\"       \n",
              " [6] \"urban\"       \"conglome\"    \"vivienda\"    \"hogar\"       \"codperso\"   \n",
              "[11] \"mujer\"       \"edad\"        \"civil\"       \"educ\"        \"jefe\"       \n",
              "[16] \"residente\"   \"indigena\"    \"tenure\"      \"pea\"         \"peao\"       \n",
              "[21] \"act_sec\"     \"sector\"      \"gruocu\"      \"skill_ocu\"   \"ingreso\"    \n",
              "[26] \"lnwage\"      \"sis_pension\" \"informal\"    \"lntamaño\"    \"fac500a\"    \n",
              "[31] \"sch\"         \"exper\"      "
            ]
          },
          "metadata": {}
        }
      ]
    },
    {
      "cell_type": "code",
      "source": [
        "summary(enaho)"
      ],
      "metadata": {
        "colab": {
          "base_uri": "https://localhost:8080/",
          "height": 1000
        },
        "id": "mWUA6B2wOXr5",
        "outputId": "9e3908f1-2815-40bf-b9a4-6d7f60bf420c"
      },
      "execution_count": null,
      "outputs": [
        {
          "output_type": "display_data",
          "data": {
            "text/plain": [
              "     pais                aÑo            mes             dpto      \n",
              " Length:45158       Min.   :2021   Min.   : 1.00   Min.   : 1.00  \n",
              " Class :character   1st Qu.:2021   1st Qu.: 4.00   1st Qu.: 8.00  \n",
              " Mode  :character   Median :2021   Median : 7.00   Median :14.00  \n",
              "                    Mean   :2021   Mean   : 6.52   Mean   :13.29  \n",
              "                    3rd Qu.:2021   3rd Qu.: 9.00   3rd Qu.:19.00  \n",
              "                    Max.   :2021   Max.   :12.00   Max.   :25.00  \n",
              "                                                                  \n",
              "      zona           urban           conglome       vivienda        \n",
              " Min.   :1.000   Min.   :0.0000   Min.   : 5007   Length:45158      \n",
              " 1st Qu.:1.000   1st Qu.:0.0000   1st Qu.:15034   Class :character  \n",
              " Median :2.000   Median :1.0000   Median :16854   Mode  :character  \n",
              " Mean   :2.143   Mean   :0.6879   Mean   :15328                     \n",
              " 3rd Qu.:3.000   3rd Qu.:1.0000   3rd Qu.:18649                     \n",
              " Max.   :4.000   Max.   :1.0000   Max.   :21001                     \n",
              "                                                                    \n",
              "    hogar             codperso             mujer             edad      \n",
              " Length:45158       Length:45158       Min.   :0.0000   Min.   :14.00  \n",
              " Class :character   Class :character   1st Qu.:0.0000   1st Qu.:30.00  \n",
              " Mode  :character   Mode  :character   Median :0.0000   Median :41.00  \n",
              "                                       Mean   :0.4281   Mean   :40.54  \n",
              "                                       3rd Qu.:1.0000   3rd Qu.:51.00  \n",
              "                                       Max.   :1.0000   Max.   :65.00  \n",
              "                                                                       \n",
              "     civil            educ            jefe          residente    indigena     \n",
              " Min.   :1.000   Min.   :1.000   Min.   :0.0000   Min.   :1   Min.   :0.0000  \n",
              " 1st Qu.:1.000   1st Qu.:3.000   1st Qu.:0.0000   1st Qu.:1   1st Qu.:1.0000  \n",
              " Median :1.000   Median :3.000   Median :1.0000   Median :1   Median :1.0000  \n",
              " Mean   :2.068   Mean   :3.249   Mean   :0.5156   Mean   :1   Mean   :0.8932  \n",
              " 3rd Qu.:3.000   3rd Qu.:4.000   3rd Qu.:1.0000   3rd Qu.:1   3rd Qu.:1.0000  \n",
              " Max.   :4.000   Max.   :6.000   Max.   :1.0000   Max.   :1   Max.   :1.0000  \n",
              "                                                                              \n",
              "     tenure            pea         peao      act_sec           sector     \n",
              " Min.   : 0.000   Min.   :1   Min.   :1   Min.   : 1.000   Min.   :1.000  \n",
              " 1st Qu.: 0.000   1st Qu.:1   1st Qu.:1   1st Qu.: 1.000   1st Qu.:1.000  \n",
              " Median : 2.000   Median :1   Median :1   Median : 7.000   Median :3.000  \n",
              " Mean   : 7.632   Mean   :1   Mean   :1   Mean   : 7.025   Mean   :2.234  \n",
              " 3rd Qu.:11.000   3rd Qu.:1   3rd Qu.:1   3rd Qu.: 9.000   3rd Qu.:3.000  \n",
              " Max.   :55.000   Max.   :1   Max.   :1   Max.   :21.000   Max.   :3.000  \n",
              " NA's   :1746                                                             \n",
              "     gruocu        skill_ocu       ingreso             lnwage       \n",
              " Min.   :1.000   Min.   :1.00   Min.   :    1.75   Min.   : 0.5596  \n",
              " 1st Qu.:5.000   1st Qu.:2.00   1st Qu.:  460.26   1st Qu.: 6.1318  \n",
              " Median :6.000   Median :2.00   Median :  955.96   Median : 6.8627  \n",
              " Mean   :6.288   Mean   :2.14   Mean   : 1323.76   Mean   : 6.7041  \n",
              " 3rd Qu.:9.000   3rd Qu.:3.00   3rd Qu.: 1620.17   3rd Qu.: 7.3903  \n",
              " Max.   :9.000   Max.   :3.00   Max.   :52063.25   Max.   :10.8602  \n",
              "                                                                    \n",
              "  sis_pension        informal         lntamaño        fac500a        \n",
              " Min.   :0.0000   Min.   :0.0000   Min.   :0.000   Min.   :   0.235  \n",
              " 1st Qu.:0.0000   1st Qu.:1.0000   1st Qu.:0.000   1st Qu.: 102.116  \n",
              " Median :0.0000   Median :1.0000   Median :1.099   Median : 213.513  \n",
              " Mean   :0.3644   Mean   :0.7546   Mean   :2.259   Mean   : 315.049  \n",
              " 3rd Qu.:1.0000   3rd Qu.:1.0000   3rd Qu.:2.303   3rd Qu.: 388.602  \n",
              " Max.   :1.0000   Max.   :1.0000   Max.   :9.210   Max.   :3173.394  \n",
              "                                   NA's   :175                       \n",
              "      sch            exper      \n",
              " Min.   : 0.00   Min.   :-2.00  \n",
              " 1st Qu.: 7.00   1st Qu.:12.00  \n",
              " Median :11.00   Median :24.00  \n",
              " Mean   :10.12   Mean   :24.42  \n",
              " 3rd Qu.:14.00   3rd Qu.:36.00  \n",
              " Max.   :18.00   Max.   :59.00  \n",
              "                                "
            ]
          },
          "metadata": {}
        }
      ]
    },
    {
      "cell_type": "markdown",
      "source": [
        "## Omisión de Variables Relevantes"
      ],
      "metadata": {
        "id": "V8_Vw3yNKysy"
      }
    },
    {
      "cell_type": "markdown",
      "source": [
        "El primer modelo es \n",
        "\\begin{gather*}\n",
        "log(ingreso) = \\beta_{1} + \\beta_{2} sch + \\epsilon\n",
        "\\end{gather*}"
      ],
      "metadata": {
        "id": "z8Km-lokLBSR"
      }
    },
    {
      "cell_type": "code",
      "source": [
        "ols_1 <- lm(lnwage ~ sch, data = enaho)\n",
        "summary(ols_1)"
      ],
      "metadata": {
        "colab": {
          "base_uri": "https://localhost:8080/",
          "height": 329
        },
        "id": "PrV-fwRd__ba",
        "outputId": "52b78076-1f51-4585-85c8-d539c1811ee0"
      },
      "execution_count": null,
      "outputs": [
        {
          "output_type": "display_data",
          "data": {
            "text/plain": [
              "\n",
              "Call:\n",
              "lm(formula = lnwage ~ sch, data = enaho)\n",
              "\n",
              "Residuals:\n",
              "    Min      1Q  Median      3Q     Max \n",
              "-6.4085 -0.5001  0.1618  0.6457  4.3800 \n",
              "\n",
              "Coefficients:\n",
              "            Estimate Std. Error t value Pr(>|t|)    \n",
              "(Intercept) 5.775694   0.011913  484.83   <2e-16 ***\n",
              "sch         0.091727   0.001081   84.84   <2e-16 ***\n",
              "---\n",
              "Signif. codes:  0 ‘***’ 0.001 ‘**’ 0.01 ‘*’ 0.05 ‘.’ 0.1 ‘ ’ 1\n",
              "\n",
              "Residual standard error: 1 on 45156 degrees of freedom\n",
              "Multiple R-squared:  0.1375,\tAdjusted R-squared:  0.1375 \n",
              "F-statistic:  7198 on 1 and 45156 DF,  p-value: < 2.2e-16\n"
            ]
          },
          "metadata": {}
        }
      ]
    },
    {
      "cell_type": "markdown",
      "source": [
        "Sin embargo, alguien puede argumentar que la relación entre salarios y escolaridad está siendo impulsada por las diferencias de residencia. El segundo modelo es \n",
        "\\begin{gather*}\n",
        "log(ingreso) = \\beta_{1} + \\beta_{2} sch + \\beta_{3} urban + \\epsilon\n",
        "\\end{gather*}"
      ],
      "metadata": {
        "id": "wbakztZSLPkw"
      }
    },
    {
      "cell_type": "code",
      "source": [
        "ols_2 <- lm(lnwage ~ sch + urban, data = enaho)\n",
        "summary(ols_2)"
      ],
      "metadata": {
        "colab": {
          "base_uri": "https://localhost:8080/",
          "height": 347
        },
        "id": "YLM4XzwsLbuc",
        "outputId": "1cf4c350-f571-45b1-e03c-bfd92258ad5d"
      },
      "execution_count": null,
      "outputs": [
        {
          "output_type": "display_data",
          "data": {
            "text/plain": [
              "\n",
              "Call:\n",
              "lm(formula = lnwage ~ sch + urban, data = enaho)\n",
              "\n",
              "Residuals:\n",
              "    Min      1Q  Median      3Q     Max \n",
              "-6.4668 -0.4804  0.1520  0.6400  4.4612 \n",
              "\n",
              "Coefficients:\n",
              "            Estimate Std. Error t value Pr(>|t|)    \n",
              "(Intercept) 5.694484   0.012174  467.76   <2e-16 ***\n",
              "sch         0.079223   0.001164   68.07   <2e-16 ***\n",
              "urban       0.302029   0.010935   27.62   <2e-16 ***\n",
              "---\n",
              "Signif. codes:  0 ‘***’ 0.001 ‘**’ 0.01 ‘*’ 0.05 ‘.’ 0.1 ‘ ’ 1\n",
              "\n",
              "Residual standard error: 0.9919 on 45155 degrees of freedom\n",
              "Multiple R-squared:  0.1518,\tAdjusted R-squared:  0.1518 \n",
              "F-statistic:  4041 on 2 and 45155 DF,  p-value: < 2.2e-16\n"
            ]
          },
          "metadata": {}
        }
      ]
    },
    {
      "cell_type": "code",
      "source": [
        "install.packages(\"memisc\")\n",
        "library(\"memisc\")"
      ],
      "metadata": {
        "colab": {
          "base_uri": "https://localhost:8080/"
        },
        "id": "8nelyCHfN7UL",
        "outputId": "14bb5767-af0d-4e9c-df9b-ac113712d855"
      },
      "execution_count": null,
      "outputs": [
        {
          "output_type": "stream",
          "name": "stderr",
          "text": [
            "Installing package into ‘/usr/local/lib/R/site-library’\n",
            "(as ‘lib’ is unspecified)\n",
            "\n",
            "Loading required package: lattice\n",
            "\n",
            "Loading required package: MASS\n",
            "\n",
            "\n",
            "Attaching package: ‘memisc’\n",
            "\n",
            "\n",
            "The following objects are masked from ‘package:stats’:\n",
            "\n",
            "    contr.sum, contr.treatment, contrasts\n",
            "\n",
            "\n",
            "The following object is masked from ‘package:base’:\n",
            "\n",
            "    as.array\n",
            "\n",
            "\n"
          ]
        }
      ]
    },
    {
      "cell_type": "code",
      "source": [
        "table_1 <- mtable(\"Model 1\" = ols_1,\n",
        "                  \"Model 2\" = ols_2,\n",
        "            summary.stats = c(\"N\", \"R-squared\"),\n",
        "            coef.style = \"default\", \n",
        "            digits=3)\n",
        "table_1"
      ],
      "metadata": {
        "colab": {
          "base_uri": "https://localhost:8080/",
          "height": 296
        },
        "id": "SyfMDncaN6jY",
        "outputId": "7ca3b090-df00-4dcb-a38f-81a8d4090b52"
      },
      "execution_count": null,
      "outputs": [
        {
          "output_type": "display_data",
          "data": {
            "text/html": [
              "<table class=\"mtable\" style=\"border-collapse: collapse; border-style: none; margin: 2ex auto;\">\n",
              "<tr style=\"border-style: none;\"><td colspan=\"1\" style=\"padding-top: 3px; padding-bottom: 3px; padding-left: 0.5ex; padding-right: 0.5ex; margin-top: 0px; margin-bottom: 0px; border-style: none; border-width: 0px; text-align: left; border-top: 1px solid;\"></td><td colspan=\"3\" style=\"padding-top: 3px; padding-bottom: 3px; padding-left: 0.5ex; padding-right: 0.5ex; margin-top: 0px; margin-bottom: 0px; border-style: none; border-width: 0px; text-align: center; border-top: 1px solid;\">Model 1</td><td colspan=\"3\" style=\"padding-top: 3px; padding-bottom: 3px; padding-left: 0.5ex; padding-right: 0.5ex; margin-top: 0px; margin-bottom: 0px; border-style: none; border-width: 0px; text-align: center; border-top: 1px solid;\">Model 2</td></tr>\n",
              "<tr style=\"border-style: none;\"><td style=\"padding-top: 3px; padding-bottom: 3px; padding-left: 0.3em; padding-right: 0.5ex; margin-top: 0px; margin-bottom: 0px; border-style: none; border-width: 0px; text-align: left; border-top: 1px solid;\">(Intercept)</td><td style=\"padding-top: 3px; padding-bottom: 3px; padding-left: 0.5ex; padding-right: 0.5ex; margin-top: 0px; margin-bottom: 0px; border-style: none; border-width: 0px; text-align: right; margin-right: 0px; padding-right: 0px; padding-left: 0.3em; border-top: 1px solid;\">5</td><td style=\"padding-top: 3px; padding-bottom: 3px; padding-left: 0.5ex; padding-right: 0.5ex; margin-top: 0px; margin-bottom: 0px; border-style: none; border-width: 0px; text-align: center; margin-left: 0px; margin-right: 0px; padding-right: 0px; padding-left: 0px; width: 1px; border-top: 1px solid;\">.</td><td style=\"padding-top: 3px; padding-bottom: 3px; padding-left: 0.5ex; padding-right: 0.5ex; margin-top: 0px; margin-bottom: 0px; border-style: none; border-width: 0px; text-align: left; margin-left: 0px; padding-left: 0px; padding-right: 0.3em; border-top: 1px solid;\">776<span class=\"signif.symbol\">***</span></td><td style=\"padding-top: 3px; padding-bottom: 3px; padding-left: 0.5ex; padding-right: 0.5ex; margin-top: 0px; margin-bottom: 0px; border-style: none; border-width: 0px; text-align: right; margin-right: 0px; padding-right: 0px; padding-left: 0.3em; border-top: 1px solid;\">5</td><td style=\"padding-top: 3px; padding-bottom: 3px; padding-left: 0.5ex; padding-right: 0.5ex; margin-top: 0px; margin-bottom: 0px; border-style: none; border-width: 0px; text-align: center; margin-left: 0px; margin-right: 0px; padding-right: 0px; padding-left: 0px; width: 1px; border-top: 1px solid;\">.</td><td style=\"padding-top: 3px; padding-bottom: 3px; padding-left: 0.5ex; padding-right: 0.5ex; margin-top: 0px; margin-bottom: 0px; border-style: none; border-width: 0px; text-align: left; margin-left: 0px; padding-left: 0px; padding-right: 0.3em; border-top: 1px solid;\">694<span class=\"signif.symbol\">***</span></td></tr>\n",
              "<tr style=\"border-style: none;\"><td style=\"padding-top: 3px; padding-bottom: 3px; padding-left: 0.3em; padding-right: 0.5ex; margin-top: 0px; margin-bottom: 0px; border-style: none; border-width: 0px; text-align: left;\"></td><td style=\"padding-top: 3px; padding-bottom: 3px; padding-left: 0.5ex; padding-right: 0.5ex; margin-top: 0px; margin-bottom: 0px; border-style: none; border-width: 0px; text-align: right; margin-right: 0px; padding-right: 0px; padding-left: 0.3em;\">(0</td><td style=\"padding-top: 3px; padding-bottom: 3px; padding-left: 0.5ex; padding-right: 0.5ex; margin-top: 0px; margin-bottom: 0px; border-style: none; border-width: 0px; text-align: center; margin-left: 0px; margin-right: 0px; padding-right: 0px; padding-left: 0px; width: 1px;\">.</td><td style=\"padding-top: 3px; padding-bottom: 3px; padding-left: 0.5ex; padding-right: 0.5ex; margin-top: 0px; margin-bottom: 0px; border-style: none; border-width: 0px; text-align: left; margin-left: 0px; padding-left: 0px; padding-right: 0.3em;\">012)</td><td style=\"padding-top: 3px; padding-bottom: 3px; padding-left: 0.5ex; padding-right: 0.5ex; margin-top: 0px; margin-bottom: 0px; border-style: none; border-width: 0px; text-align: right; margin-right: 0px; padding-right: 0px; padding-left: 0.3em;\">(0</td><td style=\"padding-top: 3px; padding-bottom: 3px; padding-left: 0.5ex; padding-right: 0.5ex; margin-top: 0px; margin-bottom: 0px; border-style: none; border-width: 0px; text-align: center; margin-left: 0px; margin-right: 0px; padding-right: 0px; padding-left: 0px; width: 1px;\">.</td><td style=\"padding-top: 3px; padding-bottom: 3px; padding-left: 0.5ex; padding-right: 0.5ex; margin-top: 0px; margin-bottom: 0px; border-style: none; border-width: 0px; text-align: left; margin-left: 0px; padding-left: 0px; padding-right: 0.3em;\">012)</td></tr>\n",
              "<tr style=\"border-style: none;\"><td style=\"padding-top: 3px; padding-bottom: 3px; padding-left: 0.3em; padding-right: 0.5ex; margin-top: 0px; margin-bottom: 0px; border-style: none; border-width: 0px; text-align: left;\">sch</td><td style=\"padding-top: 3px; padding-bottom: 3px; padding-left: 0.5ex; padding-right: 0.5ex; margin-top: 0px; margin-bottom: 0px; border-style: none; border-width: 0px; text-align: right; margin-right: 0px; padding-right: 0px; padding-left: 0.3em;\">0</td><td style=\"padding-top: 3px; padding-bottom: 3px; padding-left: 0.5ex; padding-right: 0.5ex; margin-top: 0px; margin-bottom: 0px; border-style: none; border-width: 0px; text-align: center; margin-left: 0px; margin-right: 0px; padding-right: 0px; padding-left: 0px; width: 1px;\">.</td><td style=\"padding-top: 3px; padding-bottom: 3px; padding-left: 0.5ex; padding-right: 0.5ex; margin-top: 0px; margin-bottom: 0px; border-style: none; border-width: 0px; text-align: left; margin-left: 0px; padding-left: 0px; padding-right: 0.3em;\">092<span class=\"signif.symbol\">***</span></td><td style=\"padding-top: 3px; padding-bottom: 3px; padding-left: 0.5ex; padding-right: 0.5ex; margin-top: 0px; margin-bottom: 0px; border-style: none; border-width: 0px; text-align: right; margin-right: 0px; padding-right: 0px; padding-left: 0.3em;\">0</td><td style=\"padding-top: 3px; padding-bottom: 3px; padding-left: 0.5ex; padding-right: 0.5ex; margin-top: 0px; margin-bottom: 0px; border-style: none; border-width: 0px; text-align: center; margin-left: 0px; margin-right: 0px; padding-right: 0px; padding-left: 0px; width: 1px;\">.</td><td style=\"padding-top: 3px; padding-bottom: 3px; padding-left: 0.5ex; padding-right: 0.5ex; margin-top: 0px; margin-bottom: 0px; border-style: none; border-width: 0px; text-align: left; margin-left: 0px; padding-left: 0px; padding-right: 0.3em;\">079<span class=\"signif.symbol\">***</span></td></tr>\n",
              "<tr style=\"border-style: none;\"><td style=\"padding-top: 3px; padding-bottom: 3px; padding-left: 0.3em; padding-right: 0.5ex; margin-top: 0px; margin-bottom: 0px; border-style: none; border-width: 0px; text-align: left;\"></td><td style=\"padding-top: 3px; padding-bottom: 3px; padding-left: 0.5ex; padding-right: 0.5ex; margin-top: 0px; margin-bottom: 0px; border-style: none; border-width: 0px; text-align: right; margin-right: 0px; padding-right: 0px; padding-left: 0.3em;\">(0</td><td style=\"padding-top: 3px; padding-bottom: 3px; padding-left: 0.5ex; padding-right: 0.5ex; margin-top: 0px; margin-bottom: 0px; border-style: none; border-width: 0px; text-align: center; margin-left: 0px; margin-right: 0px; padding-right: 0px; padding-left: 0px; width: 1px;\">.</td><td style=\"padding-top: 3px; padding-bottom: 3px; padding-left: 0.5ex; padding-right: 0.5ex; margin-top: 0px; margin-bottom: 0px; border-style: none; border-width: 0px; text-align: left; margin-left: 0px; padding-left: 0px; padding-right: 0.3em;\">001)</td><td style=\"padding-top: 3px; padding-bottom: 3px; padding-left: 0.5ex; padding-right: 0.5ex; margin-top: 0px; margin-bottom: 0px; border-style: none; border-width: 0px; text-align: right; margin-right: 0px; padding-right: 0px; padding-left: 0.3em;\">(0</td><td style=\"padding-top: 3px; padding-bottom: 3px; padding-left: 0.5ex; padding-right: 0.5ex; margin-top: 0px; margin-bottom: 0px; border-style: none; border-width: 0px; text-align: center; margin-left: 0px; margin-right: 0px; padding-right: 0px; padding-left: 0px; width: 1px;\">.</td><td style=\"padding-top: 3px; padding-bottom: 3px; padding-left: 0.5ex; padding-right: 0.5ex; margin-top: 0px; margin-bottom: 0px; border-style: none; border-width: 0px; text-align: left; margin-left: 0px; padding-left: 0px; padding-right: 0.3em;\">001)</td></tr>\n",
              "<tr style=\"border-style: none;\"><td style=\"padding-top: 3px; padding-bottom: 3px; padding-left: 0.3em; padding-right: 0.5ex; margin-top: 0px; margin-bottom: 0px; border-style: none; border-width: 0px; text-align: left;\">urban</td><td style=\"padding-top: 3px; padding-bottom: 3px; padding-left: 0.5ex; padding-right: 0.5ex; margin-top: 0px; margin-bottom: 0px; border-style: none; border-width: 0px; text-align: right; margin-right: 0px; padding-right: 0px; padding-left: 0.3em;\"></td><td style=\"padding-top: 3px; padding-bottom: 3px; padding-left: 0.5ex; padding-right: 0.5ex; margin-top: 0px; margin-bottom: 0px; border-style: none; border-width: 0px; text-align: center; margin-left: 0px; margin-right: 0px; padding-right: 0px; padding-left: 0px; width: 1px;\"></td><td style=\"padding-top: 3px; padding-bottom: 3px; padding-left: 0.5ex; padding-right: 0.5ex; margin-top: 0px; margin-bottom: 0px; border-style: none; border-width: 0px; text-align: left; margin-left: 0px; padding-left: 0px; padding-right: 0.3em;\"></td><td style=\"padding-top: 3px; padding-bottom: 3px; padding-left: 0.5ex; padding-right: 0.5ex; margin-top: 0px; margin-bottom: 0px; border-style: none; border-width: 0px; text-align: right; margin-right: 0px; padding-right: 0px; padding-left: 0.3em;\">0</td><td style=\"padding-top: 3px; padding-bottom: 3px; padding-left: 0.5ex; padding-right: 0.5ex; margin-top: 0px; margin-bottom: 0px; border-style: none; border-width: 0px; text-align: center; margin-left: 0px; margin-right: 0px; padding-right: 0px; padding-left: 0px; width: 1px;\">.</td><td style=\"padding-top: 3px; padding-bottom: 3px; padding-left: 0.5ex; padding-right: 0.5ex; margin-top: 0px; margin-bottom: 0px; border-style: none; border-width: 0px; text-align: left; margin-left: 0px; padding-left: 0px; padding-right: 0.3em;\">302<span class=\"signif.symbol\">***</span></td></tr>\n",
              "<tr style=\"border-style: none;\"><td style=\"padding-top: 3px; padding-bottom: 3px; padding-left: 0.3em; padding-right: 0.5ex; margin-top: 0px; margin-bottom: 0px; border-style: none; border-width: 0px; text-align: left;\"></td><td style=\"padding-top: 3px; padding-bottom: 3px; padding-left: 0.5ex; padding-right: 0.5ex; margin-top: 0px; margin-bottom: 0px; border-style: none; border-width: 0px; text-align: right; margin-right: 0px; padding-right: 0px; padding-left: 0.3em;\"></td><td style=\"padding-top: 3px; padding-bottom: 3px; padding-left: 0.5ex; padding-right: 0.5ex; margin-top: 0px; margin-bottom: 0px; border-style: none; border-width: 0px; text-align: center; margin-left: 0px; margin-right: 0px; padding-right: 0px; padding-left: 0px; width: 1px;\"></td><td style=\"padding-top: 3px; padding-bottom: 3px; padding-left: 0.5ex; padding-right: 0.5ex; margin-top: 0px; margin-bottom: 0px; border-style: none; border-width: 0px; text-align: left; margin-left: 0px; padding-left: 0px; padding-right: 0.3em;\"></td><td style=\"padding-top: 3px; padding-bottom: 3px; padding-left: 0.5ex; padding-right: 0.5ex; margin-top: 0px; margin-bottom: 0px; border-style: none; border-width: 0px; text-align: right; margin-right: 0px; padding-right: 0px; padding-left: 0.3em;\">(0</td><td style=\"padding-top: 3px; padding-bottom: 3px; padding-left: 0.5ex; padding-right: 0.5ex; margin-top: 0px; margin-bottom: 0px; border-style: none; border-width: 0px; text-align: center; margin-left: 0px; margin-right: 0px; padding-right: 0px; padding-left: 0px; width: 1px;\">.</td><td style=\"padding-top: 3px; padding-bottom: 3px; padding-left: 0.5ex; padding-right: 0.5ex; margin-top: 0px; margin-bottom: 0px; border-style: none; border-width: 0px; text-align: left; margin-left: 0px; padding-left: 0px; padding-right: 0.3em;\">011)</td></tr>\n",
              "<tr style=\"border-style: none;\"><td style=\"padding-top: 3px; padding-bottom: 3px; padding-left: 0.3em; padding-right: 0.5ex; margin-top: 0px; margin-bottom: 0px; border-style: none; border-width: 0px; text-align: left; border-top: 1px solid;\">N</td><td style=\"padding-top: 3px; padding-bottom: 3px; padding-left: 0.5ex; padding-right: 0.5ex; margin-top: 0px; margin-bottom: 0px; border-style: none; border-width: 0px; text-align: right; margin-right: 0px; padding-right: 0px; padding-left: 0.3em; border-top: 1px solid;\">45158</td><td style=\"padding-top: 3px; padding-bottom: 3px; padding-left: 0.5ex; padding-right: 0.5ex; margin-top: 0px; margin-bottom: 0px; border-style: none; border-width: 0px; text-align: center; margin-left: 0px; margin-right: 0px; padding-right: 0px; padding-left: 0px; width: 1px; border-top: 1px solid;\"></td><td style=\"padding-top: 3px; padding-bottom: 3px; padding-left: 0.5ex; padding-right: 0.5ex; margin-top: 0px; margin-bottom: 0px; border-style: none; border-width: 0px; text-align: left; margin-left: 0px; padding-left: 0px; padding-right: 0.3em; border-top: 1px solid;\"></td><td style=\"padding-top: 3px; padding-bottom: 3px; padding-left: 0.5ex; padding-right: 0.5ex; margin-top: 0px; margin-bottom: 0px; border-style: none; border-width: 0px; text-align: right; margin-right: 0px; padding-right: 0px; padding-left: 0.3em; border-top: 1px solid;\">45158</td><td style=\"padding-top: 3px; padding-bottom: 3px; padding-left: 0.5ex; padding-right: 0.5ex; margin-top: 0px; margin-bottom: 0px; border-style: none; border-width: 0px; text-align: center; margin-left: 0px; margin-right: 0px; padding-right: 0px; padding-left: 0px; width: 1px; border-top: 1px solid;\"></td><td style=\"padding-top: 3px; padding-bottom: 3px; padding-left: 0.5ex; padding-right: 0.5ex; margin-top: 0px; margin-bottom: 0px; border-style: none; border-width: 0px; text-align: left; margin-left: 0px; padding-left: 0px; padding-right: 0.3em; border-top: 1px solid;\"></td></tr>\n",
              "<tr style=\"border-style: none;\"><td style=\"padding-top: 3px; padding-bottom: 3px; padding-left: 0.3em; padding-right: 0.5ex; margin-top: 0px; margin-bottom: 0px; border-style: none; border-width: 0px; text-align: left; border-bottom: 1px solid;\">R-squared</td><td style=\"padding-top: 3px; padding-bottom: 3px; padding-left: 0.5ex; padding-right: 0.5ex; margin-top: 0px; margin-bottom: 0px; border-style: none; border-width: 0px; text-align: right; margin-right: 0px; padding-right: 0px; padding-left: 0.3em; border-bottom: 1px solid;\">0</td><td style=\"padding-top: 3px; padding-bottom: 3px; padding-left: 0.5ex; padding-right: 0.5ex; margin-top: 0px; margin-bottom: 0px; border-style: none; border-width: 0px; text-align: center; margin-left: 0px; margin-right: 0px; padding-right: 0px; padding-left: 0px; width: 1px; border-bottom: 1px solid;\">.</td><td style=\"padding-top: 3px; padding-bottom: 3px; padding-left: 0.5ex; padding-right: 0.5ex; margin-top: 0px; margin-bottom: 0px; border-style: none; border-width: 0px; text-align: left; margin-left: 0px; padding-left: 0px; padding-right: 0.3em; border-bottom: 1px solid;\">137</td><td style=\"padding-top: 3px; padding-bottom: 3px; padding-left: 0.5ex; padding-right: 0.5ex; margin-top: 0px; margin-bottom: 0px; border-style: none; border-width: 0px; text-align: right; margin-right: 0px; padding-right: 0px; padding-left: 0.3em; border-bottom: 1px solid;\">0</td><td style=\"padding-top: 3px; padding-bottom: 3px; padding-left: 0.5ex; padding-right: 0.5ex; margin-top: 0px; margin-bottom: 0px; border-style: none; border-width: 0px; text-align: center; margin-left: 0px; margin-right: 0px; padding-right: 0px; padding-left: 0px; width: 1px; border-bottom: 1px solid;\">.</td><td style=\"padding-top: 3px; padding-bottom: 3px; padding-left: 0.5ex; padding-right: 0.5ex; margin-top: 0px; margin-bottom: 0px; border-style: none; border-width: 0px; text-align: left; margin-left: 0px; padding-left: 0px; padding-right: 0.3em; border-bottom: 1px solid;\">152</td></tr>\n",
              "<tr style=\"border-style: none;\"><td style=\"padding-top: 3px; padding-bottom: 3px; padding-left: 0.5ex; padding-right: 0.5ex; margin-top: 0px; margin-bottom: 0px; border-style: none; border-width: 0px;\" colspan=\"7\"><p style=\"width: inherit;\">Significance: *** = p < 0.001; ** = p < 0.01; * = p < 0.05</p>\n",
              "</td></tr>\n",
              "</table>\n"
            ],
            "text/latex": "\\begin{tabular}{lclcl}\n\\toprule\n && \n\\multicolumn{1}{c}{Model 1} && \n\\multicolumn{1}{c}{Model 2}\\\\\n\\midrule\n(Intercept) && $5.776^{***}$ && $5.694^{***}$\\\\\n            && $(0.012)$ && $(0.012)$\\\\\nsch         && $0.092^{***}$ && $0.079^{***}$\\\\\n            && $(0.001)$ && $(0.001)$\\\\\nurban       && $$ && $0.302^{***}$\\\\\n            && $$ && $(0.011)$\\\\\n\\midrule\nN           && $45158    $      && $45158    $     \\\\\nR-squared   &&      $    0.137$ &&      $    0.152$\\\\\n\\bottomrule\n\\multicolumn{5}{p{.5\\linewidth}}{Significance: \n              $*** \\equiv p < 0{.}001$; \n              $** \\equiv p < 0{.}01$; \n              $* \\equiv p < 0{.}05$}\\\\\n\\end{tabular}",
            "text/plain": [
              "\n",
              "Calls:\n",
              "Model 1: lm(formula = lnwage ~ sch, data = enaho)\n",
              "Model 2: lm(formula = lnwage ~ sch + urban, data = enaho)\n",
              "\n",
              "===========================================\n",
              "                 Model 1       Model 2     \n",
              "-------------------------------------------\n",
              "  (Intercept)      5.776***      5.694***  \n",
              "                  (0.012)       (0.012)    \n",
              "  sch              0.092***      0.079***  \n",
              "                  (0.001)       (0.001)    \n",
              "  urban                          0.302***  \n",
              "                                (0.011)    \n",
              "-------------------------------------------\n",
              "  N            45158         45158         \n",
              "  R-squared        0.137         0.152     \n",
              "===========================================\n",
              "  Significance: *** = p < 0.001;   \n",
              "                ** = p < 0.01;   \n",
              "                * = p < 0.05  "
            ]
          },
          "metadata": {}
        }
      ]
    },
    {
      "cell_type": "markdown",
      "source": [
        "El retorno a la educación se reduce de 9.17% a 7.92% cuando se controla por la variable \"urban\". ¿Este coeficiente está sobreestimado? Ver que el coeficiente para sch en modelo 2 es menor que en modelo 1. ¿Por qué? Esto se relaciona con la formula de variable omitida. La variable \"urban\" es omitida en modelo 1. Por lo tanto: \n",
        "\n",
        "\\begin{gather*}\n",
        "E(\\hat{\\beta}_{2}|sch)=\\beta_{2} + \\beta_{3}\\hat{\\gamma}\n",
        "\\end{gather*}\n",
        "\n",
        "donde $\\beta_{3}$ es la relación entre ingresos y area, y $\\hat{\\gamma}$ es el coeficiente de la pendiente de la regresión de \"urban\" sobre \"sch\". Dado que individuos que viven en área urbana ganan en promedio más que los que viven en área rural $\\beta_{3}>0$. Además, para obtener $\\hat{\\gamma}$, corremos el siguiente modelo:"
      ],
      "metadata": {
        "id": "HOivUOzTLhf7"
      }
    },
    {
      "cell_type": "code",
      "source": [
        "summary(lm(sch ~ urban, data = enaho))"
      ],
      "metadata": {
        "colab": {
          "base_uri": "https://localhost:8080/",
          "height": 329
        },
        "id": "bHS9U0mIN5_V",
        "outputId": "920703bd-30f9-4cea-fe97-758a42ca6bdb"
      },
      "execution_count": null,
      "outputs": [
        {
          "output_type": "display_data",
          "data": {
            "text/plain": [
              "\n",
              "Call:\n",
              "lm(formula = sch ~ urban, data = enaho)\n",
              "\n",
              "Residuals:\n",
              "     Min       1Q   Median       3Q      Max \n",
              "-11.2624  -2.2624  -0.2624   3.3926  10.3926 \n",
              "\n",
              "Coefficients:\n",
              "            Estimate Std. Error t value Pr(>|t|)    \n",
              "(Intercept)  7.60737    0.03379  225.17   <2e-16 ***\n",
              "urban        3.65508    0.04073   89.73   <2e-16 ***\n",
              "---\n",
              "Signif. codes:  0 ‘***’ 0.001 ‘**’ 0.01 ‘*’ 0.05 ‘.’ 0.1 ‘ ’ 1\n",
              "\n",
              "Residual standard error: 4.011 on 45156 degrees of freedom\n",
              "Multiple R-squared:  0.1513,\tAdjusted R-squared:  0.1513 \n",
              "F-statistic:  8052 on 1 and 45156 DF,  p-value: < 2.2e-16\n"
            ]
          },
          "metadata": {}
        }
      ]
    },
    {
      "cell_type": "markdown",
      "source": [
        "El coeficiente de urban implica que, para la muestra analizada, individuos en área urbana en promedio son más educados que individuos que viven en área rural, por lo tanto $\\hat{\\gamma}>0$. Estas dos observaciones implica que $\\hat{\\beta}_{2}$ es sesgado hacia arriba en modelo 1."
      ],
      "metadata": {
        "id": "3WhDl64xQSdZ"
      }
    },
    {
      "cell_type": "markdown",
      "source": [
        "## Usando operaciones matriciales"
      ],
      "metadata": {
        "id": "7OhjPseOReqJ"
      }
    },
    {
      "cell_type": "code",
      "source": [
        "X <- cbind(1,\n",
        "          enaho$sch, \n",
        "          enaho$urban)\n",
        "y <- enaho$lnwage"
      ],
      "metadata": {
        "id": "mShLQ4lVRhF8"
      },
      "execution_count": null,
      "outputs": []
    },
    {
      "cell_type": "code",
      "source": [
        "b_hat <- solve(crossprod(X)) %*% crossprod(X, y)\n",
        "b_hat"
      ],
      "metadata": {
        "colab": {
          "base_uri": "https://localhost:8080/",
          "height": 146
        },
        "id": "MbnAM_1wRrkh",
        "outputId": "2622d692-32b8-4c56-8f90-332d434cbbbe"
      },
      "execution_count": null,
      "outputs": [
        {
          "output_type": "display_data",
          "data": {
            "text/html": [
              "<table class=\"dataframe\">\n",
              "<caption>A matrix: 3 × 1 of type dbl</caption>\n",
              "<tbody>\n",
              "\t<tr><td>5.69448441</td></tr>\n",
              "\t<tr><td>0.07922293</td></tr>\n",
              "\t<tr><td>0.30202883</td></tr>\n",
              "</tbody>\n",
              "</table>\n"
            ],
            "text/markdown": "\nA matrix: 3 × 1 of type dbl\n\n| 5.69448441 |\n| 0.07922293 |\n| 0.30202883 |\n\n",
            "text/latex": "A matrix: 3 × 1 of type dbl\n\\begin{tabular}{l}\n\t 5.69448441\\\\\n\t 0.07922293\\\\\n\t 0.30202883\\\\\n\\end{tabular}\n",
            "text/plain": [
              "     [,1]      \n",
              "[1,] 5.69448441\n",
              "[2,] 0.07922293\n",
              "[3,] 0.30202883"
            ]
          },
          "metadata": {}
        }
      ]
    },
    {
      "cell_type": "code",
      "source": [
        "# Reportamos el sigma^2\n",
        "y_hat <- X %*% b_hat\n",
        "e_hat <- y - y_hat\n",
        "sigma2_hat <- crossprod(e_hat) / (length(y) - ncol(X))\n",
        "sigma2_hat"
      ],
      "metadata": {
        "colab": {
          "base_uri": "https://localhost:8080/",
          "height": 83
        },
        "id": "Ax_BuGyiSB2J",
        "outputId": "d8b1a4ab-85d0-44b8-a4fe-a0293fd4884b"
      },
      "execution_count": null,
      "outputs": [
        {
          "output_type": "display_data",
          "data": {
            "text/html": [
              "<table class=\"dataframe\">\n",
              "<caption>A matrix: 1 × 1 of type dbl</caption>\n",
              "<tbody>\n",
              "\t<tr><td>0.9838437</td></tr>\n",
              "</tbody>\n",
              "</table>\n"
            ],
            "text/markdown": "\nA matrix: 1 × 1 of type dbl\n\n| 0.9838437 |\n\n",
            "text/latex": "A matrix: 1 × 1 of type dbl\n\\begin{tabular}{l}\n\t 0.9838437\\\\\n\\end{tabular}\n",
            "text/plain": [
              "     [,1]     \n",
              "[1,] 0.9838437"
            ]
          },
          "metadata": {}
        }
      ]
    },
    {
      "cell_type": "code",
      "source": [
        "# Matriz de varianza covarianzas\n",
        "V_hat <- drop(sigma2_hat) * solve(crossprod(X))\n",
        "se <- sqrt(diag(V_hat))\n",
        "se"
      ],
      "metadata": {
        "colab": {
          "base_uri": "https://localhost:8080/",
          "height": 34
        },
        "id": "TTKppHaFSE75",
        "outputId": "48f172cd-e6f9-4234-c3d9-ea820e0c2800"
      },
      "execution_count": null,
      "outputs": [
        {
          "output_type": "display_data",
          "data": {
            "text/html": [
              "<style>\n",
              ".list-inline {list-style: none; margin:0; padding: 0}\n",
              ".list-inline>li {display: inline-block}\n",
              ".list-inline>li:not(:last-child)::after {content: \"\\00b7\"; padding: 0 .5ex}\n",
              "</style>\n",
              "<ol class=list-inline><li>0.0121738999622326</li><li>0.0011638331246006</li><li>0.0109353039429639</li></ol>\n"
            ],
            "text/markdown": "1. 0.0121738999622326\n2. 0.0011638331246006\n3. 0.0109353039429639\n\n\n",
            "text/latex": "\\begin{enumerate*}\n\\item 0.0121738999622326\n\\item 0.0011638331246006\n\\item 0.0109353039429639\n\\end{enumerate*}\n",
            "text/plain": [
              "[1] 0.012173900 0.001163833 0.010935304"
            ]
          },
          "metadata": {}
        }
      ]
    },
    {
      "cell_type": "markdown",
      "source": [
        "## Inclusión de variables irrelevantes"
      ],
      "metadata": {
        "id": "UGawSHN6Sek4"
      }
    },
    {
      "cell_type": "code",
      "source": [
        "ols_3 <- lm(lnwage ~ sch + urban + conglome, data = enaho)\n",
        "summary(ols_3)"
      ],
      "metadata": {
        "colab": {
          "base_uri": "https://localhost:8080/",
          "height": 364
        },
        "id": "lzHTzmhwSjz5",
        "outputId": "5061d86a-1c81-40cb-e873-3d6391701471"
      },
      "execution_count": null,
      "outputs": [
        {
          "output_type": "display_data",
          "data": {
            "text/plain": [
              "\n",
              "Call:\n",
              "lm(formula = lnwage ~ sch + urban + conglome, data = enaho)\n",
              "\n",
              "Residuals:\n",
              "    Min      1Q  Median      3Q     Max \n",
              "-6.4625 -0.4802  0.1523  0.6396  4.4640 \n",
              "\n",
              "Coefficients:\n",
              "              Estimate Std. Error t value Pr(>|t|)    \n",
              "(Intercept)  5.711e+00  1.986e-02 287.561   <2e-16 ***\n",
              "sch          7.919e-02  1.164e-03  68.024   <2e-16 ***\n",
              "urban        3.030e-01  1.097e-02  27.613   <2e-16 ***\n",
              "conglome    -1.093e-06  1.045e-06  -1.046    0.296    \n",
              "---\n",
              "Signif. codes:  0 ‘***’ 0.001 ‘**’ 0.01 ‘*’ 0.05 ‘.’ 0.1 ‘ ’ 1\n",
              "\n",
              "Residual standard error: 0.9919 on 45154 degrees of freedom\n",
              "Multiple R-squared:  0.1518,\tAdjusted R-squared:  0.1518 \n",
              "F-statistic:  2694 on 3 and 45154 DF,  p-value: < 2.2e-16\n"
            ]
          },
          "metadata": {}
        }
      ]
    },
    {
      "cell_type": "code",
      "source": [
        "table_2 <- mtable(\"Model 1\" = ols_1,\n",
        "                  \"Model 2\" = ols_2,\n",
        "                  \"Model 3\" = ols_3,\n",
        "            summary.stats = c(\"N\", \"R-squared\"),\n",
        "            coef.style = \"default\", \n",
        "            digits=8)\n",
        "table_2"
      ],
      "metadata": {
        "colab": {
          "base_uri": "https://localhost:8080/",
          "height": 343
        },
        "id": "7dUFV_OZSwkk",
        "outputId": "f9abec4f-b87e-4315-f52c-a835a5a3b319"
      },
      "execution_count": null,
      "outputs": [
        {
          "output_type": "display_data",
          "data": {
            "text/html": [
              "<table class=\"mtable\" style=\"border-collapse: collapse; border-style: none; margin: 2ex auto;\">\n",
              "<tr style=\"border-style: none;\"><td colspan=\"1\" style=\"padding-top: 3px; padding-bottom: 3px; padding-left: 0.5ex; padding-right: 0.5ex; margin-top: 0px; margin-bottom: 0px; border-style: none; border-width: 0px; text-align: left; border-top: 1px solid;\"></td><td colspan=\"3\" style=\"padding-top: 3px; padding-bottom: 3px; padding-left: 0.5ex; padding-right: 0.5ex; margin-top: 0px; margin-bottom: 0px; border-style: none; border-width: 0px; text-align: center; border-top: 1px solid;\">Model 1</td><td colspan=\"3\" style=\"padding-top: 3px; padding-bottom: 3px; padding-left: 0.5ex; padding-right: 0.5ex; margin-top: 0px; margin-bottom: 0px; border-style: none; border-width: 0px; text-align: center; border-top: 1px solid;\">Model 2</td><td colspan=\"3\" style=\"padding-top: 3px; padding-bottom: 3px; padding-left: 0.5ex; padding-right: 0.5ex; margin-top: 0px; margin-bottom: 0px; border-style: none; border-width: 0px; text-align: center; border-top: 1px solid;\">Model 3</td></tr>\n",
              "<tr style=\"border-style: none;\"><td style=\"padding-top: 3px; padding-bottom: 3px; padding-left: 0.3em; padding-right: 0.5ex; margin-top: 0px; margin-bottom: 0px; border-style: none; border-width: 0px; text-align: left; border-top: 1px solid;\">(Intercept)</td><td style=\"padding-top: 3px; padding-bottom: 3px; padding-left: 0.5ex; padding-right: 0.5ex; margin-top: 0px; margin-bottom: 0px; border-style: none; border-width: 0px; text-align: right; margin-right: 0px; padding-right: 0px; padding-left: 0.3em; border-top: 1px solid;\">5</td><td style=\"padding-top: 3px; padding-bottom: 3px; padding-left: 0.5ex; padding-right: 0.5ex; margin-top: 0px; margin-bottom: 0px; border-style: none; border-width: 0px; text-align: center; margin-left: 0px; margin-right: 0px; padding-right: 0px; padding-left: 0px; width: 1px; border-top: 1px solid;\">.</td><td style=\"padding-top: 3px; padding-bottom: 3px; padding-left: 0.5ex; padding-right: 0.5ex; margin-top: 0px; margin-bottom: 0px; border-style: none; border-width: 0px; text-align: left; margin-left: 0px; padding-left: 0px; padding-right: 0.3em; border-top: 1px solid;\">77569417<span class=\"signif.symbol\">***</span></td><td style=\"padding-top: 3px; padding-bottom: 3px; padding-left: 0.5ex; padding-right: 0.5ex; margin-top: 0px; margin-bottom: 0px; border-style: none; border-width: 0px; text-align: right; margin-right: 0px; padding-right: 0px; padding-left: 0.3em; border-top: 1px solid;\">5</td><td style=\"padding-top: 3px; padding-bottom: 3px; padding-left: 0.5ex; padding-right: 0.5ex; margin-top: 0px; margin-bottom: 0px; border-style: none; border-width: 0px; text-align: center; margin-left: 0px; margin-right: 0px; padding-right: 0px; padding-left: 0px; width: 1px; border-top: 1px solid;\">.</td><td style=\"padding-top: 3px; padding-bottom: 3px; padding-left: 0.5ex; padding-right: 0.5ex; margin-top: 0px; margin-bottom: 0px; border-style: none; border-width: 0px; text-align: left; margin-left: 0px; padding-left: 0px; padding-right: 0.3em; border-top: 1px solid;\">69448441<span class=\"signif.symbol\">***</span></td><td style=\"padding-top: 3px; padding-bottom: 3px; padding-left: 0.5ex; padding-right: 0.5ex; margin-top: 0px; margin-bottom: 0px; border-style: none; border-width: 0px; text-align: right; margin-right: 0px; padding-right: 0px; padding-left: 0.3em; border-top: 1px solid;\">5</td><td style=\"padding-top: 3px; padding-bottom: 3px; padding-left: 0.5ex; padding-right: 0.5ex; margin-top: 0px; margin-bottom: 0px; border-style: none; border-width: 0px; text-align: center; margin-left: 0px; margin-right: 0px; padding-right: 0px; padding-left: 0px; width: 1px; border-top: 1px solid;\">.</td><td style=\"padding-top: 3px; padding-bottom: 3px; padding-left: 0.5ex; padding-right: 0.5ex; margin-top: 0px; margin-bottom: 0px; border-style: none; border-width: 0px; text-align: left; margin-left: 0px; padding-left: 0px; padding-right: 0.3em; border-top: 1px solid;\">71089249<span class=\"signif.symbol\">***</span></td></tr>\n",
              "<tr style=\"border-style: none;\"><td style=\"padding-top: 3px; padding-bottom: 3px; padding-left: 0.3em; padding-right: 0.5ex; margin-top: 0px; margin-bottom: 0px; border-style: none; border-width: 0px; text-align: left;\"></td><td style=\"padding-top: 3px; padding-bottom: 3px; padding-left: 0.5ex; padding-right: 0.5ex; margin-top: 0px; margin-bottom: 0px; border-style: none; border-width: 0px; text-align: right; margin-right: 0px; padding-right: 0px; padding-left: 0.3em;\">(0</td><td style=\"padding-top: 3px; padding-bottom: 3px; padding-left: 0.5ex; padding-right: 0.5ex; margin-top: 0px; margin-bottom: 0px; border-style: none; border-width: 0px; text-align: center; margin-left: 0px; margin-right: 0px; padding-right: 0px; padding-left: 0px; width: 1px;\">.</td><td style=\"padding-top: 3px; padding-bottom: 3px; padding-left: 0.5ex; padding-right: 0.5ex; margin-top: 0px; margin-bottom: 0px; border-style: none; border-width: 0px; text-align: left; margin-left: 0px; padding-left: 0px; padding-right: 0.3em;\">01191273)</td><td style=\"padding-top: 3px; padding-bottom: 3px; padding-left: 0.5ex; padding-right: 0.5ex; margin-top: 0px; margin-bottom: 0px; border-style: none; border-width: 0px; text-align: right; margin-right: 0px; padding-right: 0px; padding-left: 0.3em;\">(0</td><td style=\"padding-top: 3px; padding-bottom: 3px; padding-left: 0.5ex; padding-right: 0.5ex; margin-top: 0px; margin-bottom: 0px; border-style: none; border-width: 0px; text-align: center; margin-left: 0px; margin-right: 0px; padding-right: 0px; padding-left: 0px; width: 1px;\">.</td><td style=\"padding-top: 3px; padding-bottom: 3px; padding-left: 0.5ex; padding-right: 0.5ex; margin-top: 0px; margin-bottom: 0px; border-style: none; border-width: 0px; text-align: left; margin-left: 0px; padding-left: 0px; padding-right: 0.3em;\">01217390)</td><td style=\"padding-top: 3px; padding-bottom: 3px; padding-left: 0.5ex; padding-right: 0.5ex; margin-top: 0px; margin-bottom: 0px; border-style: none; border-width: 0px; text-align: right; margin-right: 0px; padding-right: 0px; padding-left: 0.3em;\">(0</td><td style=\"padding-top: 3px; padding-bottom: 3px; padding-left: 0.5ex; padding-right: 0.5ex; margin-top: 0px; margin-bottom: 0px; border-style: none; border-width: 0px; text-align: center; margin-left: 0px; margin-right: 0px; padding-right: 0px; padding-left: 0px; width: 1px;\">.</td><td style=\"padding-top: 3px; padding-bottom: 3px; padding-left: 0.5ex; padding-right: 0.5ex; margin-top: 0px; margin-bottom: 0px; border-style: none; border-width: 0px; text-align: left; margin-left: 0px; padding-left: 0px; padding-right: 0.3em;\">01985978)</td></tr>\n",
              "<tr style=\"border-style: none;\"><td style=\"padding-top: 3px; padding-bottom: 3px; padding-left: 0.3em; padding-right: 0.5ex; margin-top: 0px; margin-bottom: 0px; border-style: none; border-width: 0px; text-align: left;\">sch</td><td style=\"padding-top: 3px; padding-bottom: 3px; padding-left: 0.5ex; padding-right: 0.5ex; margin-top: 0px; margin-bottom: 0px; border-style: none; border-width: 0px; text-align: right; margin-right: 0px; padding-right: 0px; padding-left: 0.3em;\">0</td><td style=\"padding-top: 3px; padding-bottom: 3px; padding-left: 0.5ex; padding-right: 0.5ex; margin-top: 0px; margin-bottom: 0px; border-style: none; border-width: 0px; text-align: center; margin-left: 0px; margin-right: 0px; padding-right: 0px; padding-left: 0px; width: 1px;\">.</td><td style=\"padding-top: 3px; padding-bottom: 3px; padding-left: 0.5ex; padding-right: 0.5ex; margin-top: 0px; margin-bottom: 0px; border-style: none; border-width: 0px; text-align: left; margin-left: 0px; padding-left: 0px; padding-right: 0.3em;\">09172738<span class=\"signif.symbol\">***</span></td><td style=\"padding-top: 3px; padding-bottom: 3px; padding-left: 0.5ex; padding-right: 0.5ex; margin-top: 0px; margin-bottom: 0px; border-style: none; border-width: 0px; text-align: right; margin-right: 0px; padding-right: 0px; padding-left: 0.3em;\">0</td><td style=\"padding-top: 3px; padding-bottom: 3px; padding-left: 0.5ex; padding-right: 0.5ex; margin-top: 0px; margin-bottom: 0px; border-style: none; border-width: 0px; text-align: center; margin-left: 0px; margin-right: 0px; padding-right: 0px; padding-left: 0px; width: 1px;\">.</td><td style=\"padding-top: 3px; padding-bottom: 3px; padding-left: 0.5ex; padding-right: 0.5ex; margin-top: 0px; margin-bottom: 0px; border-style: none; border-width: 0px; text-align: left; margin-left: 0px; padding-left: 0px; padding-right: 0.3em;\">07922293<span class=\"signif.symbol\">***</span></td><td style=\"padding-top: 3px; padding-bottom: 3px; padding-left: 0.5ex; padding-right: 0.5ex; margin-top: 0px; margin-bottom: 0px; border-style: none; border-width: 0px; text-align: right; margin-right: 0px; padding-right: 0px; padding-left: 0.3em;\">0</td><td style=\"padding-top: 3px; padding-bottom: 3px; padding-left: 0.5ex; padding-right: 0.5ex; margin-top: 0px; margin-bottom: 0px; border-style: none; border-width: 0px; text-align: center; margin-left: 0px; margin-right: 0px; padding-right: 0px; padding-left: 0px; width: 1px;\">.</td><td style=\"padding-top: 3px; padding-bottom: 3px; padding-left: 0.5ex; padding-right: 0.5ex; margin-top: 0px; margin-bottom: 0px; border-style: none; border-width: 0px; text-align: left; margin-left: 0px; padding-left: 0px; padding-right: 0.3em;\">07919287<span class=\"signif.symbol\">***</span></td></tr>\n",
              "<tr style=\"border-style: none;\"><td style=\"padding-top: 3px; padding-bottom: 3px; padding-left: 0.3em; padding-right: 0.5ex; margin-top: 0px; margin-bottom: 0px; border-style: none; border-width: 0px; text-align: left;\"></td><td style=\"padding-top: 3px; padding-bottom: 3px; padding-left: 0.5ex; padding-right: 0.5ex; margin-top: 0px; margin-bottom: 0px; border-style: none; border-width: 0px; text-align: right; margin-right: 0px; padding-right: 0px; padding-left: 0.3em;\">(0</td><td style=\"padding-top: 3px; padding-bottom: 3px; padding-left: 0.5ex; padding-right: 0.5ex; margin-top: 0px; margin-bottom: 0px; border-style: none; border-width: 0px; text-align: center; margin-left: 0px; margin-right: 0px; padding-right: 0px; padding-left: 0px; width: 1px;\">.</td><td style=\"padding-top: 3px; padding-bottom: 3px; padding-left: 0.5ex; padding-right: 0.5ex; margin-top: 0px; margin-bottom: 0px; border-style: none; border-width: 0px; text-align: left; margin-left: 0px; padding-left: 0px; padding-right: 0.3em;\">00108117)</td><td style=\"padding-top: 3px; padding-bottom: 3px; padding-left: 0.5ex; padding-right: 0.5ex; margin-top: 0px; margin-bottom: 0px; border-style: none; border-width: 0px; text-align: right; margin-right: 0px; padding-right: 0px; padding-left: 0.3em;\">(0</td><td style=\"padding-top: 3px; padding-bottom: 3px; padding-left: 0.5ex; padding-right: 0.5ex; margin-top: 0px; margin-bottom: 0px; border-style: none; border-width: 0px; text-align: center; margin-left: 0px; margin-right: 0px; padding-right: 0px; padding-left: 0px; width: 1px;\">.</td><td style=\"padding-top: 3px; padding-bottom: 3px; padding-left: 0.5ex; padding-right: 0.5ex; margin-top: 0px; margin-bottom: 0px; border-style: none; border-width: 0px; text-align: left; margin-left: 0px; padding-left: 0px; padding-right: 0.3em;\">00116383)</td><td style=\"padding-top: 3px; padding-bottom: 3px; padding-left: 0.5ex; padding-right: 0.5ex; margin-top: 0px; margin-bottom: 0px; border-style: none; border-width: 0px; text-align: right; margin-right: 0px; padding-right: 0px; padding-left: 0.3em;\">(0</td><td style=\"padding-top: 3px; padding-bottom: 3px; padding-left: 0.5ex; padding-right: 0.5ex; margin-top: 0px; margin-bottom: 0px; border-style: none; border-width: 0px; text-align: center; margin-left: 0px; margin-right: 0px; padding-right: 0px; padding-left: 0px; width: 1px;\">.</td><td style=\"padding-top: 3px; padding-bottom: 3px; padding-left: 0.5ex; padding-right: 0.5ex; margin-top: 0px; margin-bottom: 0px; border-style: none; border-width: 0px; text-align: left; margin-left: 0px; padding-left: 0px; padding-right: 0.3em;\">00116419)</td></tr>\n",
              "<tr style=\"border-style: none;\"><td style=\"padding-top: 3px; padding-bottom: 3px; padding-left: 0.3em; padding-right: 0.5ex; margin-top: 0px; margin-bottom: 0px; border-style: none; border-width: 0px; text-align: left;\">urban</td><td style=\"padding-top: 3px; padding-bottom: 3px; padding-left: 0.5ex; padding-right: 0.5ex; margin-top: 0px; margin-bottom: 0px; border-style: none; border-width: 0px; text-align: right; margin-right: 0px; padding-right: 0px; padding-left: 0.3em;\"></td><td style=\"padding-top: 3px; padding-bottom: 3px; padding-left: 0.5ex; padding-right: 0.5ex; margin-top: 0px; margin-bottom: 0px; border-style: none; border-width: 0px; text-align: center; margin-left: 0px; margin-right: 0px; padding-right: 0px; padding-left: 0px; width: 1px;\"></td><td style=\"padding-top: 3px; padding-bottom: 3px; padding-left: 0.5ex; padding-right: 0.5ex; margin-top: 0px; margin-bottom: 0px; border-style: none; border-width: 0px; text-align: left; margin-left: 0px; padding-left: 0px; padding-right: 0.3em;\"></td><td style=\"padding-top: 3px; padding-bottom: 3px; padding-left: 0.5ex; padding-right: 0.5ex; margin-top: 0px; margin-bottom: 0px; border-style: none; border-width: 0px; text-align: right; margin-right: 0px; padding-right: 0px; padding-left: 0.3em;\">0</td><td style=\"padding-top: 3px; padding-bottom: 3px; padding-left: 0.5ex; padding-right: 0.5ex; margin-top: 0px; margin-bottom: 0px; border-style: none; border-width: 0px; text-align: center; margin-left: 0px; margin-right: 0px; padding-right: 0px; padding-left: 0px; width: 1px;\">.</td><td style=\"padding-top: 3px; padding-bottom: 3px; padding-left: 0.5ex; padding-right: 0.5ex; margin-top: 0px; margin-bottom: 0px; border-style: none; border-width: 0px; text-align: left; margin-left: 0px; padding-left: 0px; padding-right: 0.3em;\">30202883<span class=\"signif.symbol\">***</span></td><td style=\"padding-top: 3px; padding-bottom: 3px; padding-left: 0.5ex; padding-right: 0.5ex; margin-top: 0px; margin-bottom: 0px; border-style: none; border-width: 0px; text-align: right; margin-right: 0px; padding-right: 0px; padding-left: 0.3em;\">0</td><td style=\"padding-top: 3px; padding-bottom: 3px; padding-left: 0.5ex; padding-right: 0.5ex; margin-top: 0px; margin-bottom: 0px; border-style: none; border-width: 0px; text-align: center; margin-left: 0px; margin-right: 0px; padding-right: 0px; padding-left: 0px; width: 1px;\">.</td><td style=\"padding-top: 3px; padding-bottom: 3px; padding-left: 0.5ex; padding-right: 0.5ex; margin-top: 0px; margin-bottom: 0px; border-style: none; border-width: 0px; text-align: left; margin-left: 0px; padding-left: 0px; padding-right: 0.3em;\">30296148<span class=\"signif.symbol\">***</span></td></tr>\n",
              "<tr style=\"border-style: none;\"><td style=\"padding-top: 3px; padding-bottom: 3px; padding-left: 0.3em; padding-right: 0.5ex; margin-top: 0px; margin-bottom: 0px; border-style: none; border-width: 0px; text-align: left;\"></td><td style=\"padding-top: 3px; padding-bottom: 3px; padding-left: 0.5ex; padding-right: 0.5ex; margin-top: 0px; margin-bottom: 0px; border-style: none; border-width: 0px; text-align: right; margin-right: 0px; padding-right: 0px; padding-left: 0.3em;\"></td><td style=\"padding-top: 3px; padding-bottom: 3px; padding-left: 0.5ex; padding-right: 0.5ex; margin-top: 0px; margin-bottom: 0px; border-style: none; border-width: 0px; text-align: center; margin-left: 0px; margin-right: 0px; padding-right: 0px; padding-left: 0px; width: 1px;\"></td><td style=\"padding-top: 3px; padding-bottom: 3px; padding-left: 0.5ex; padding-right: 0.5ex; margin-top: 0px; margin-bottom: 0px; border-style: none; border-width: 0px; text-align: left; margin-left: 0px; padding-left: 0px; padding-right: 0.3em;\"></td><td style=\"padding-top: 3px; padding-bottom: 3px; padding-left: 0.5ex; padding-right: 0.5ex; margin-top: 0px; margin-bottom: 0px; border-style: none; border-width: 0px; text-align: right; margin-right: 0px; padding-right: 0px; padding-left: 0.3em;\">(0</td><td style=\"padding-top: 3px; padding-bottom: 3px; padding-left: 0.5ex; padding-right: 0.5ex; margin-top: 0px; margin-bottom: 0px; border-style: none; border-width: 0px; text-align: center; margin-left: 0px; margin-right: 0px; padding-right: 0px; padding-left: 0px; width: 1px;\">.</td><td style=\"padding-top: 3px; padding-bottom: 3px; padding-left: 0.5ex; padding-right: 0.5ex; margin-top: 0px; margin-bottom: 0px; border-style: none; border-width: 0px; text-align: left; margin-left: 0px; padding-left: 0px; padding-right: 0.3em;\">01093530)</td><td style=\"padding-top: 3px; padding-bottom: 3px; padding-left: 0.5ex; padding-right: 0.5ex; margin-top: 0px; margin-bottom: 0px; border-style: none; border-width: 0px; text-align: right; margin-right: 0px; padding-right: 0px; padding-left: 0.3em;\">(0</td><td style=\"padding-top: 3px; padding-bottom: 3px; padding-left: 0.5ex; padding-right: 0.5ex; margin-top: 0px; margin-bottom: 0px; border-style: none; border-width: 0px; text-align: center; margin-left: 0px; margin-right: 0px; padding-right: 0px; padding-left: 0px; width: 1px;\">.</td><td style=\"padding-top: 3px; padding-bottom: 3px; padding-left: 0.5ex; padding-right: 0.5ex; margin-top: 0px; margin-bottom: 0px; border-style: none; border-width: 0px; text-align: left; margin-left: 0px; padding-left: 0px; padding-right: 0.3em;\">01097160)</td></tr>\n",
              "<tr style=\"border-style: none;\"><td style=\"padding-top: 3px; padding-bottom: 3px; padding-left: 0.3em; padding-right: 0.5ex; margin-top: 0px; margin-bottom: 0px; border-style: none; border-width: 0px; text-align: left;\">conglome</td><td style=\"padding-top: 3px; padding-bottom: 3px; padding-left: 0.5ex; padding-right: 0.5ex; margin-top: 0px; margin-bottom: 0px; border-style: none; border-width: 0px; text-align: right; margin-right: 0px; padding-right: 0px; padding-left: 0.3em;\"></td><td style=\"padding-top: 3px; padding-bottom: 3px; padding-left: 0.5ex; padding-right: 0.5ex; margin-top: 0px; margin-bottom: 0px; border-style: none; border-width: 0px; text-align: center; margin-left: 0px; margin-right: 0px; padding-right: 0px; padding-left: 0px; width: 1px;\"></td><td style=\"padding-top: 3px; padding-bottom: 3px; padding-left: 0.5ex; padding-right: 0.5ex; margin-top: 0px; margin-bottom: 0px; border-style: none; border-width: 0px; text-align: left; margin-left: 0px; padding-left: 0px; padding-right: 0.3em;\"></td><td style=\"padding-top: 3px; padding-bottom: 3px; padding-left: 0.5ex; padding-right: 0.5ex; margin-top: 0px; margin-bottom: 0px; border-style: none; border-width: 0px; text-align: right; margin-right: 0px; padding-right: 0px; padding-left: 0.3em;\"></td><td style=\"padding-top: 3px; padding-bottom: 3px; padding-left: 0.5ex; padding-right: 0.5ex; margin-top: 0px; margin-bottom: 0px; border-style: none; border-width: 0px; text-align: center; margin-left: 0px; margin-right: 0px; padding-right: 0px; padding-left: 0px; width: 1px;\"></td><td style=\"padding-top: 3px; padding-bottom: 3px; padding-left: 0.5ex; padding-right: 0.5ex; margin-top: 0px; margin-bottom: 0px; border-style: none; border-width: 0px; text-align: left; margin-left: 0px; padding-left: 0px; padding-right: 0.3em;\"></td><td style=\"padding-top: 3px; padding-bottom: 3px; padding-left: 0.5ex; padding-right: 0.5ex; margin-top: 0px; margin-bottom: 0px; border-style: none; border-width: 0px; text-align: right; margin-right: 0px; padding-right: 0px; padding-left: 0.3em;\">−0</td><td style=\"padding-top: 3px; padding-bottom: 3px; padding-left: 0.5ex; padding-right: 0.5ex; margin-top: 0px; margin-bottom: 0px; border-style: none; border-width: 0px; text-align: center; margin-left: 0px; margin-right: 0px; padding-right: 0px; padding-left: 0px; width: 1px;\">.</td><td style=\"padding-top: 3px; padding-bottom: 3px; padding-left: 0.5ex; padding-right: 0.5ex; margin-top: 0px; margin-bottom: 0px; border-style: none; border-width: 0px; text-align: left; margin-left: 0px; padding-left: 0px; padding-right: 0.3em;\">00000109</td></tr>\n",
              "<tr style=\"border-style: none;\"><td style=\"padding-top: 3px; padding-bottom: 3px; padding-left: 0.3em; padding-right: 0.5ex; margin-top: 0px; margin-bottom: 0px; border-style: none; border-width: 0px; text-align: left;\"></td><td style=\"padding-top: 3px; padding-bottom: 3px; padding-left: 0.5ex; padding-right: 0.5ex; margin-top: 0px; margin-bottom: 0px; border-style: none; border-width: 0px; text-align: right; margin-right: 0px; padding-right: 0px; padding-left: 0.3em;\"></td><td style=\"padding-top: 3px; padding-bottom: 3px; padding-left: 0.5ex; padding-right: 0.5ex; margin-top: 0px; margin-bottom: 0px; border-style: none; border-width: 0px; text-align: center; margin-left: 0px; margin-right: 0px; padding-right: 0px; padding-left: 0px; width: 1px;\"></td><td style=\"padding-top: 3px; padding-bottom: 3px; padding-left: 0.5ex; padding-right: 0.5ex; margin-top: 0px; margin-bottom: 0px; border-style: none; border-width: 0px; text-align: left; margin-left: 0px; padding-left: 0px; padding-right: 0.3em;\"></td><td style=\"padding-top: 3px; padding-bottom: 3px; padding-left: 0.5ex; padding-right: 0.5ex; margin-top: 0px; margin-bottom: 0px; border-style: none; border-width: 0px; text-align: right; margin-right: 0px; padding-right: 0px; padding-left: 0.3em;\"></td><td style=\"padding-top: 3px; padding-bottom: 3px; padding-left: 0.5ex; padding-right: 0.5ex; margin-top: 0px; margin-bottom: 0px; border-style: none; border-width: 0px; text-align: center; margin-left: 0px; margin-right: 0px; padding-right: 0px; padding-left: 0px; width: 1px;\"></td><td style=\"padding-top: 3px; padding-bottom: 3px; padding-left: 0.5ex; padding-right: 0.5ex; margin-top: 0px; margin-bottom: 0px; border-style: none; border-width: 0px; text-align: left; margin-left: 0px; padding-left: 0px; padding-right: 0.3em;\"></td><td style=\"padding-top: 3px; padding-bottom: 3px; padding-left: 0.5ex; padding-right: 0.5ex; margin-top: 0px; margin-bottom: 0px; border-style: none; border-width: 0px; text-align: right; margin-right: 0px; padding-right: 0px; padding-left: 0.3em;\">(0</td><td style=\"padding-top: 3px; padding-bottom: 3px; padding-left: 0.5ex; padding-right: 0.5ex; margin-top: 0px; margin-bottom: 0px; border-style: none; border-width: 0px; text-align: center; margin-left: 0px; margin-right: 0px; padding-right: 0px; padding-left: 0px; width: 1px;\">.</td><td style=\"padding-top: 3px; padding-bottom: 3px; padding-left: 0.5ex; padding-right: 0.5ex; margin-top: 0px; margin-bottom: 0px; border-style: none; border-width: 0px; text-align: left; margin-left: 0px; padding-left: 0px; padding-right: 0.3em;\">00000104)</td></tr>\n",
              "<tr style=\"border-style: none;\"><td style=\"padding-top: 3px; padding-bottom: 3px; padding-left: 0.3em; padding-right: 0.5ex; margin-top: 0px; margin-bottom: 0px; border-style: none; border-width: 0px; text-align: left; border-top: 1px solid;\">N</td><td style=\"padding-top: 3px; padding-bottom: 3px; padding-left: 0.5ex; padding-right: 0.5ex; margin-top: 0px; margin-bottom: 0px; border-style: none; border-width: 0px; text-align: right; margin-right: 0px; padding-right: 0px; padding-left: 0.3em; border-top: 1px solid;\">45158</td><td style=\"padding-top: 3px; padding-bottom: 3px; padding-left: 0.5ex; padding-right: 0.5ex; margin-top: 0px; margin-bottom: 0px; border-style: none; border-width: 0px; text-align: center; margin-left: 0px; margin-right: 0px; padding-right: 0px; padding-left: 0px; width: 1px; border-top: 1px solid;\"></td><td style=\"padding-top: 3px; padding-bottom: 3px; padding-left: 0.5ex; padding-right: 0.5ex; margin-top: 0px; margin-bottom: 0px; border-style: none; border-width: 0px; text-align: left; margin-left: 0px; padding-left: 0px; padding-right: 0.3em; border-top: 1px solid;\"></td><td style=\"padding-top: 3px; padding-bottom: 3px; padding-left: 0.5ex; padding-right: 0.5ex; margin-top: 0px; margin-bottom: 0px; border-style: none; border-width: 0px; text-align: right; margin-right: 0px; padding-right: 0px; padding-left: 0.3em; border-top: 1px solid;\">45158</td><td style=\"padding-top: 3px; padding-bottom: 3px; padding-left: 0.5ex; padding-right: 0.5ex; margin-top: 0px; margin-bottom: 0px; border-style: none; border-width: 0px; text-align: center; margin-left: 0px; margin-right: 0px; padding-right: 0px; padding-left: 0px; width: 1px; border-top: 1px solid;\"></td><td style=\"padding-top: 3px; padding-bottom: 3px; padding-left: 0.5ex; padding-right: 0.5ex; margin-top: 0px; margin-bottom: 0px; border-style: none; border-width: 0px; text-align: left; margin-left: 0px; padding-left: 0px; padding-right: 0.3em; border-top: 1px solid;\"></td><td style=\"padding-top: 3px; padding-bottom: 3px; padding-left: 0.5ex; padding-right: 0.5ex; margin-top: 0px; margin-bottom: 0px; border-style: none; border-width: 0px; text-align: right; margin-right: 0px; padding-right: 0px; padding-left: 0.3em; border-top: 1px solid;\">45158</td><td style=\"padding-top: 3px; padding-bottom: 3px; padding-left: 0.5ex; padding-right: 0.5ex; margin-top: 0px; margin-bottom: 0px; border-style: none; border-width: 0px; text-align: center; margin-left: 0px; margin-right: 0px; padding-right: 0px; padding-left: 0px; width: 1px; border-top: 1px solid;\"></td><td style=\"padding-top: 3px; padding-bottom: 3px; padding-left: 0.5ex; padding-right: 0.5ex; margin-top: 0px; margin-bottom: 0px; border-style: none; border-width: 0px; text-align: left; margin-left: 0px; padding-left: 0px; padding-right: 0.3em; border-top: 1px solid;\"></td></tr>\n",
              "<tr style=\"border-style: none;\"><td style=\"padding-top: 3px; padding-bottom: 3px; padding-left: 0.3em; padding-right: 0.5ex; margin-top: 0px; margin-bottom: 0px; border-style: none; border-width: 0px; text-align: left; border-bottom: 1px solid;\">R-squared</td><td style=\"padding-top: 3px; padding-bottom: 3px; padding-left: 0.5ex; padding-right: 0.5ex; margin-top: 0px; margin-bottom: 0px; border-style: none; border-width: 0px; text-align: right; margin-right: 0px; padding-right: 0px; padding-left: 0.3em; border-bottom: 1px solid;\">0</td><td style=\"padding-top: 3px; padding-bottom: 3px; padding-left: 0.5ex; padding-right: 0.5ex; margin-top: 0px; margin-bottom: 0px; border-style: none; border-width: 0px; text-align: center; margin-left: 0px; margin-right: 0px; padding-right: 0px; padding-left: 0px; width: 1px; border-bottom: 1px solid;\">.</td><td style=\"padding-top: 3px; padding-bottom: 3px; padding-left: 0.5ex; padding-right: 0.5ex; margin-top: 0px; margin-bottom: 0px; border-style: none; border-width: 0px; text-align: left; margin-left: 0px; padding-left: 0px; padding-right: 0.3em; border-bottom: 1px solid;\">13748644</td><td style=\"padding-top: 3px; padding-bottom: 3px; padding-left: 0.5ex; padding-right: 0.5ex; margin-top: 0px; margin-bottom: 0px; border-style: none; border-width: 0px; text-align: right; margin-right: 0px; padding-right: 0px; padding-left: 0.3em; border-bottom: 1px solid;\">0</td><td style=\"padding-top: 3px; padding-bottom: 3px; padding-left: 0.5ex; padding-right: 0.5ex; margin-top: 0px; margin-bottom: 0px; border-style: none; border-width: 0px; text-align: center; margin-left: 0px; margin-right: 0px; padding-right: 0px; padding-left: 0px; width: 1px; border-bottom: 1px solid;\">.</td><td style=\"padding-top: 3px; padding-bottom: 3px; padding-left: 0.5ex; padding-right: 0.5ex; margin-top: 0px; margin-bottom: 0px; border-style: none; border-width: 0px; text-align: left; margin-left: 0px; padding-left: 0px; padding-right: 0.3em; border-bottom: 1px solid;\">15181556</td><td style=\"padding-top: 3px; padding-bottom: 3px; padding-left: 0.5ex; padding-right: 0.5ex; margin-top: 0px; margin-bottom: 0px; border-style: none; border-width: 0px; text-align: right; margin-right: 0px; padding-right: 0px; padding-left: 0.3em; border-bottom: 1px solid;\">0</td><td style=\"padding-top: 3px; padding-bottom: 3px; padding-left: 0.5ex; padding-right: 0.5ex; margin-top: 0px; margin-bottom: 0px; border-style: none; border-width: 0px; text-align: center; margin-left: 0px; margin-right: 0px; padding-right: 0px; padding-left: 0px; width: 1px; border-bottom: 1px solid;\">.</td><td style=\"padding-top: 3px; padding-bottom: 3px; padding-left: 0.5ex; padding-right: 0.5ex; margin-top: 0px; margin-bottom: 0px; border-style: none; border-width: 0px; text-align: left; margin-left: 0px; padding-left: 0px; padding-right: 0.3em; border-bottom: 1px solid;\">15183610</td></tr>\n",
              "<tr style=\"border-style: none;\"><td style=\"padding-top: 3px; padding-bottom: 3px; padding-left: 0.5ex; padding-right: 0.5ex; margin-top: 0px; margin-bottom: 0px; border-style: none; border-width: 0px;\" colspan=\"10\"><p style=\"width: inherit;\">Significance: *** = p < 0.001; ** = p < 0.01; * = p < 0.05</p>\n",
              "</td></tr>\n",
              "</table>\n"
            ],
            "text/latex": "\\begin{tabular}{lclclcl}\n\\toprule\n && \n\\multicolumn{1}{c}{Model 1} && \n\\multicolumn{1}{c}{Model 2} && \n\\multicolumn{1}{c}{Model 3}\\\\\n\\midrule\n(Intercept) && $5.77569417^{***}$ && $5.69448441^{***}$ && $5.71089249^{***}$\\\\\n            && $(0.01191273)$ && $(0.01217390)$ && $(0.01985978)$\\\\\nsch         && $0.09172738^{***}$ && $0.07922293^{***}$ && $0.07919287^{***}$\\\\\n            && $(0.00108117)$ && $(0.00116383)$ && $(0.00116419)$\\\\\nurban       && $$ && $0.30202883^{***}$ && $0.30296148^{***}$\\\\\n            && $$ && $(0.01093530)$ && $(0.01097160)$\\\\\nconglome    && $$ && $$ && $-0.00000109$\\\\\n            && $$ && $$ && $(0.00000104)$\\\\\n\\midrule\nN           && $45158         $           && $45158         $           && $45158         $          \\\\\nR-squared   &&           $    0.13748644$ &&           $    0.15181556$ &&           $    0.15183610$\\\\\n\\bottomrule\n\\multicolumn{7}{p{.5\\linewidth}}{Significance: \n              $*** \\equiv p < 0{.}001$; \n              $** \\equiv p < 0{.}01$; \n              $* \\equiv p < 0{.}05$}\\\\\n\\end{tabular}",
            "text/plain": [
              "\n",
              "Calls:\n",
              "Model 1: lm(formula = lnwage ~ sch, data = enaho)\n",
              "Model 2: lm(formula = lnwage ~ sch + urban, data = enaho)\n",
              "Model 3: lm(formula = lnwage ~ sch + urban + conglome, data = enaho)\n",
              "\n",
              "========================================================================\n",
              "                    Model 1            Model 2            Model 3       \n",
              "------------------------------------------------------------------------\n",
              "  (Intercept)      5.77569417***      5.69448441***      5.71089249***  \n",
              "                  (0.01191273)       (0.01217390)       (0.01985978)    \n",
              "  sch              0.09172738***      0.07922293***      0.07919287***  \n",
              "                  (0.00108117)       (0.00116383)       (0.00116419)    \n",
              "  urban                               0.30202883***      0.30296148***  \n",
              "                                     (0.01093530)       (0.01097160)    \n",
              "  conglome                                              -0.00000109     \n",
              "                                                        (0.00000104)    \n",
              "------------------------------------------------------------------------\n",
              "  N            45158              45158              45158              \n",
              "  R-squared        0.13748644         0.15181556         0.15183610     \n",
              "========================================================================\n",
              "  Significance: *** = p < 0.001; ** = p < 0.01; * = p < 0.05  "
            ]
          },
          "metadata": {}
        }
      ]
    },
    {
      "cell_type": "markdown",
      "source": [
        "Los errores estándar de los coeficientes aumentan. "
      ],
      "metadata": {
        "id": "kELwOckubOD0"
      }
    },
    {
      "cell_type": "markdown",
      "source": [
        "## Teorema Frisch-Waugh"
      ],
      "metadata": {
        "id": "d30dB7U4S9iy"
      }
    },
    {
      "cell_type": "markdown",
      "source": [
        "Deseamos estudiar el impacto puro de la educación sobre los salario, entonces se debería limpiar el efecto del área. Se hace un procedimiento en tres etapas:"
      ],
      "metadata": {
        "id": "d4Xay3H2TELh"
      }
    },
    {
      "cell_type": "markdown",
      "source": [
        "1. Regresionamos escolaridad contra área y calculamos los residuos. Estos residuos son aquella parte de la escolaridad que no es explicada por el área.\n",
        "\n",
        "\\begin{gather*}\n",
        "sch = a_{1} + a_{2} urban + \\epsilon\n",
        "\\end{gather*}\n",
        "\n",
        "Los residuos estimados son:\n",
        "\n",
        "\\begin{gather*}\n",
        "\\hat{\\epsilon}_{sch} = sch - \\hat{a}_{1} + \\hat{a}_{2} urban\n",
        "\\end{gather*}"
      ],
      "metadata": {
        "id": "xUOKdKW5TQhI"
      }
    },
    {
      "cell_type": "code",
      "source": [
        "ols4 <- lm(sch ~ urban, data=enaho)\n",
        "summary(ols4)"
      ],
      "metadata": {
        "colab": {
          "base_uri": "https://localhost:8080/",
          "height": 329
        },
        "id": "HD9jJ3J8VUdw",
        "outputId": "8aff8ef2-bf10-48ff-c77b-49aec5426cdf"
      },
      "execution_count": null,
      "outputs": [
        {
          "output_type": "display_data",
          "data": {
            "text/plain": [
              "\n",
              "Call:\n",
              "lm(formula = sch ~ urban, data = enaho)\n",
              "\n",
              "Residuals:\n",
              "     Min       1Q   Median       3Q      Max \n",
              "-11.2624  -2.2624  -0.2624   3.3926  10.3926 \n",
              "\n",
              "Coefficients:\n",
              "            Estimate Std. Error t value Pr(>|t|)    \n",
              "(Intercept)  7.60737    0.03379  225.17   <2e-16 ***\n",
              "urban        3.65508    0.04073   89.73   <2e-16 ***\n",
              "---\n",
              "Signif. codes:  0 ‘***’ 0.001 ‘**’ 0.01 ‘*’ 0.05 ‘.’ 0.1 ‘ ’ 1\n",
              "\n",
              "Residual standard error: 4.011 on 45156 degrees of freedom\n",
              "Multiple R-squared:  0.1513,\tAdjusted R-squared:  0.1513 \n",
              "F-statistic:  8052 on 1 and 45156 DF,  p-value: < 2.2e-16\n"
            ]
          },
          "metadata": {}
        }
      ]
    },
    {
      "cell_type": "code",
      "source": [
        "# Calcular residuos\n",
        "enaho$e_sch <- fitted(ols4) - enaho$sch"
      ],
      "metadata": {
        "id": "knfHWmtYVeG4"
      },
      "execution_count": null,
      "outputs": []
    },
    {
      "cell_type": "markdown",
      "source": [
        "2. Regresionamos al lnwage contra el area y también calculamos los residuos de esta relación. De esta manera, se obtiene la variabilidad de los salarios sin influencia del área:\n",
        "\n",
        "\\begin{gather*}\n",
        "log(ingreso) = b_{1} + b_{2} urban + v\n",
        "\\end{gather*}\n",
        "\n",
        "Los residuos estimados son:\n",
        "\n",
        "\\begin{gather*}\n",
        "\\hat{\\epsilon}_{lnwage} = lnwage - \\hat{b}_{1} + \\hat{b}_{2} urban\n",
        "\\end{gather*}"
      ],
      "metadata": {
        "id": "L-G_f5jITp3F"
      }
    },
    {
      "cell_type": "code",
      "source": [
        "ols5 <- lm(lnwage ~ urban, data=enaho)\n",
        "summary(ols5)"
      ],
      "metadata": {
        "colab": {
          "base_uri": "https://localhost:8080/",
          "height": 329
        },
        "id": "ei4zlyxuV2JM",
        "outputId": "3d2e95ac-8615-4947-9c61-d498a0890d6c"
      },
      "execution_count": null,
      "outputs": [
        {
          "output_type": "display_data",
          "data": {
            "text/plain": [
              "\n",
              "Call:\n",
              "lm(formula = lnwage ~ urban, data = enaho)\n",
              "\n",
              "Residuals:\n",
              "    Min      1Q  Median      3Q     Max \n",
              "-6.3291 -0.5348  0.1266  0.6729  4.2751 \n",
              "\n",
              "Coefficients:\n",
              "            Estimate Std. Error t value Pr(>|t|)    \n",
              "(Intercept) 6.297162   0.008774  717.73   <2e-16 ***\n",
              "urban       0.591595   0.010578   55.93   <2e-16 ***\n",
              "---\n",
              "Signif. codes:  0 ‘***’ 0.001 ‘**’ 0.01 ‘*’ 0.05 ‘.’ 0.1 ‘ ’ 1\n",
              "\n",
              "Residual standard error: 1.042 on 45156 degrees of freedom\n",
              "Multiple R-squared:  0.06478,\tAdjusted R-squared:  0.06476 \n",
              "F-statistic:  3128 on 1 and 45156 DF,  p-value: < 2.2e-16\n"
            ]
          },
          "metadata": {}
        }
      ]
    },
    {
      "cell_type": "code",
      "source": [
        "# Calcular residuos\n",
        "enaho$e_lnwage <- fitted(ols5) - enaho$lnwage"
      ],
      "metadata": {
        "id": "nKr0oyNnV6Tw"
      },
      "execution_count": null,
      "outputs": []
    },
    {
      "cell_type": "markdown",
      "source": [
        "3. Regresionamos a los residuos de los ingresos contra los residuos de la escolaridad en un modelo sin intercepto:\n",
        "\n",
        "\\begin{gather*}\n",
        "\\hat{\\epsilon}_{lnwage} = g\\hat{\\epsilon}_{sch} + p\n",
        "\\end{gather*}"
      ],
      "metadata": {
        "id": "UvxD5GWcUkCz"
      }
    },
    {
      "cell_type": "code",
      "source": [
        "summary(lm(e_lnwage ~ e_sch -1, data=enaho))"
      ],
      "metadata": {
        "colab": {
          "base_uri": "https://localhost:8080/",
          "height": 312
        },
        "id": "Yap2f8VTWDZF",
        "outputId": "3690d21a-7c10-4873-d7ae-b5c01951ecad"
      },
      "execution_count": null,
      "outputs": [
        {
          "output_type": "display_data",
          "data": {
            "text/plain": [
              "\n",
              "Call:\n",
              "lm(formula = e_lnwage ~ e_sch - 1, data = enaho)\n",
              "\n",
              "Residuals:\n",
              "    Min      1Q  Median      3Q     Max \n",
              "-4.4612 -0.6400 -0.1520  0.4804  6.4668 \n",
              "\n",
              "Coefficients:\n",
              "      Estimate Std. Error t value Pr(>|t|)    \n",
              "e_sch 0.079223   0.001164   68.07   <2e-16 ***\n",
              "---\n",
              "Signif. codes:  0 ‘***’ 0.001 ‘**’ 0.01 ‘*’ 0.05 ‘.’ 0.1 ‘ ’ 1\n",
              "\n",
              "Residual standard error: 0.9919 on 45157 degrees of freedom\n",
              "Multiple R-squared:  0.09307,\tAdjusted R-squared:  0.09305 \n",
              "F-statistic:  4634 on 1 and 45157 DF,  p-value: < 2.2e-16\n"
            ]
          },
          "metadata": {}
        }
      ]
    },
    {
      "cell_type": "markdown",
      "source": [
        "El teorema de Frisch-Waugh afirma que el estimador $g$ es exactamente el mismo que el estimador de la pendiente de la sch obtenido por MCO del modelo: \n",
        "\\begin{gather*}\n",
        "log(ingreso) = \\beta_{1} + \\beta_{2} sch + \\beta_{3} urban + \\epsilon\n",
        "\\end{gather*}"
      ],
      "metadata": {
        "id": "AeIqBCSfVEiM"
      }
    },
    {
      "cell_type": "code",
      "source": [
        "summary(lm(lnwage ~ sch + urban, data=enaho))"
      ],
      "metadata": {
        "colab": {
          "base_uri": "https://localhost:8080/",
          "height": 347
        },
        "id": "HGqvDrsJWBYO",
        "outputId": "f7e9de02-2beb-46f9-f621-115ba8973db1"
      },
      "execution_count": null,
      "outputs": [
        {
          "output_type": "display_data",
          "data": {
            "text/plain": [
              "\n",
              "Call:\n",
              "lm(formula = lnwage ~ sch + urban, data = enaho)\n",
              "\n",
              "Residuals:\n",
              "    Min      1Q  Median      3Q     Max \n",
              "-6.4668 -0.4804  0.1520  0.6400  4.4612 \n",
              "\n",
              "Coefficients:\n",
              "            Estimate Std. Error t value Pr(>|t|)    \n",
              "(Intercept) 5.694484   0.012174  467.76   <2e-16 ***\n",
              "sch         0.079223   0.001164   68.07   <2e-16 ***\n",
              "urban       0.302029   0.010935   27.62   <2e-16 ***\n",
              "---\n",
              "Signif. codes:  0 ‘***’ 0.001 ‘**’ 0.01 ‘*’ 0.05 ‘.’ 0.1 ‘ ’ 1\n",
              "\n",
              "Residual standard error: 0.9919 on 45155 degrees of freedom\n",
              "Multiple R-squared:  0.1518,\tAdjusted R-squared:  0.1518 \n",
              "F-statistic:  4041 on 2 and 45155 DF,  p-value: < 2.2e-16\n"
            ]
          },
          "metadata": {}
        }
      ]
    },
    {
      "cell_type": "markdown",
      "source": [
        "En conclusión, incorporar a \"urban\" como un regresor equivale a \"limpiar\" su efecto de las demás variables del modelo."
      ],
      "metadata": {
        "id": "1aIP7AjFVMsM"
      }
    }
  ]
}