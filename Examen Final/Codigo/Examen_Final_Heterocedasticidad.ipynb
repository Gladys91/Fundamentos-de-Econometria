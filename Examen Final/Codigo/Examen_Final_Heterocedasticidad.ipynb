{
  "nbformat": 4,
  "nbformat_minor": 0,
  "metadata": {
    "colab": {
      "provenance": [],
      "authorship_tag": "ABX9TyN8kj7BuaCi8Yva77SmHAuK",
      "include_colab_link": true
    },
    "kernelspec": {
      "name": "ir",
      "display_name": "R"
    },
    "language_info": {
      "name": "R"
    }
  },
  "cells": [
    {
      "cell_type": "markdown",
      "metadata": {
        "id": "view-in-github",
        "colab_type": "text"
      },
      "source": [
        "<a href=\"https://colab.research.google.com/github/juanpalominoh/Fundamentos-de-Econometria/blob/main/Examen_Final_Heterocedasticidad.ipynb\" target=\"_parent\"><img src=\"https://colab.research.google.com/assets/colab-badge.svg\" alt=\"Open In Colab\"/></a>"
      ]
    },
    {
      "cell_type": "markdown",
      "source": [
        "# Importar base"
      ],
      "metadata": {
        "id": "qP6xkKKMwUEa"
      }
    },
    {
      "cell_type": "code",
      "execution_count": null,
      "metadata": {
        "id": "zcLuyxqutuab"
      },
      "outputs": [],
      "source": [
        "library(readxl)"
      ]
    },
    {
      "cell_type": "code",
      "source": [
        "base <- read_excel(\"base_anemia.xlsx\")"
      ],
      "metadata": {
        "id": "tbccx9qSt0ka"
      },
      "execution_count": null,
      "outputs": []
    },
    {
      "cell_type": "code",
      "source": [
        "names(base)"
      ],
      "metadata": {
        "colab": {
          "base_uri": "https://localhost:8080/",
          "height": 52
        },
        "id": "YsZUWW8MuZPG",
        "outputId": "6885e506-7c0b-4729-d87c-6502a2df0be6"
      },
      "execution_count": null,
      "outputs": [
        {
          "output_type": "display_data",
          "data": {
            "text/html": [
              "<style>\n",
              ".list-inline {list-style: none; margin:0; padding: 0}\n",
              ".list-inline>li {display: inline-block}\n",
              ".list-inline>li:not(:last-child)::after {content: \"\\00b7\"; padding: 0 .5ex}\n",
              "</style>\n",
              "<ol class=list-inline><li>'hhid'</li><li>'hvidx'</li><li>'bord'</li><li>'hwidx'</li><li>'sexo'</li><li>'pesoalnacer'</li><li>'edadmeses'</li><li>'hemoglobina'</li><li>'anemia'</li><li>'educmadre'</li><li>'area'</li><li>'mad_primaria'</li><li>'mad_secund'</li><li>'mad_superior'</li></ol>\n"
            ],
            "text/markdown": "1. 'hhid'\n2. 'hvidx'\n3. 'bord'\n4. 'hwidx'\n5. 'sexo'\n6. 'pesoalnacer'\n7. 'edadmeses'\n8. 'hemoglobina'\n9. 'anemia'\n10. 'educmadre'\n11. 'area'\n12. 'mad_primaria'\n13. 'mad_secund'\n14. 'mad_superior'\n\n\n",
            "text/latex": "\\begin{enumerate*}\n\\item 'hhid'\n\\item 'hvidx'\n\\item 'bord'\n\\item 'hwidx'\n\\item 'sexo'\n\\item 'pesoalnacer'\n\\item 'edadmeses'\n\\item 'hemoglobina'\n\\item 'anemia'\n\\item 'educmadre'\n\\item 'area'\n\\item 'mad\\_primaria'\n\\item 'mad\\_secund'\n\\item 'mad\\_superior'\n\\end{enumerate*}\n",
            "text/plain": [
              " [1] \"hhid\"         \"hvidx\"        \"bord\"         \"hwidx\"        \"sexo\"        \n",
              " [6] \"pesoalnacer\"  \"edadmeses\"    \"hemoglobina\"  \"anemia\"       \"educmadre\"   \n",
              "[11] \"area\"         \"mad_primaria\" \"mad_secund\"   \"mad_superior\""
            ]
          },
          "metadata": {}
        }
      ]
    },
    {
      "cell_type": "markdown",
      "source": [
        "# Regresión OLS"
      ],
      "metadata": {
        "id": "mrH4JF0WwQjg"
      }
    },
    {
      "cell_type": "code",
      "source": [
        "options(prompt=\"R> \", digits=4, scipen=999)"
      ],
      "metadata": {
        "id": "LSzeghAZwW7q"
      },
      "execution_count": null,
      "outputs": []
    },
    {
      "cell_type": "code",
      "source": [
        "ols <- lm(hemoglobina ~ sexo + pesoalnacer + edadmeses + mad_secund + mad_superior + area, \n",
        "          data = base)\n",
        "summary(ols)"
      ],
      "metadata": {
        "colab": {
          "base_uri": "https://localhost:8080/",
          "height": 451
        },
        "id": "9hEw9WZZuYBx",
        "outputId": "6572a095-b489-4fc5-d9b0-d4ad9ee74416"
      },
      "execution_count": null,
      "outputs": [
        {
          "output_type": "display_data",
          "data": {
            "text/plain": [
              "\n",
              "Call:\n",
              "lm(formula = hemoglobina ~ sexo + pesoalnacer + edadmeses + mad_secund + \n",
              "    mad_superior + area, data = base)\n",
              "\n",
              "Residuals:\n",
              "   Min     1Q Median     3Q    Max \n",
              "-47.31  -6.22   0.31   6.58  43.84 \n",
              "\n",
              "Coefficients:\n",
              "              Estimate Std. Error t value             Pr(>|t|)    \n",
              "(Intercept)  103.14602    0.64412  160.14 < 0.0000000000000002 ***\n",
              "sexoMujer      0.78933    0.18817    4.19      0.0000275126340 ***\n",
              "pesoalnacer    0.23889    0.17355    1.38                0.169    \n",
              "edadmeses      0.23866    0.00591   40.42 < 0.0000000000000002 ***\n",
              "mad_secund     0.55202    0.26495    2.08                0.037 *  \n",
              "mad_superior   3.04918    0.29462   10.35 < 0.0000000000000002 ***\n",
              "areaUrbano     1.56060    0.22490    6.94      0.0000000000042 ***\n",
              "---\n",
              "Signif. codes:  0 ‘***’ 0.001 ‘**’ 0.01 ‘*’ 0.05 ‘.’ 0.1 ‘ ’ 1\n",
              "\n",
              "Residual standard error: 9.97 on 11357 degrees of freedom\n",
              "  (433 observations deleted due to missingness)\n",
              "Multiple R-squared:  0.149,\tAdjusted R-squared:  0.149 \n",
              "F-statistic:  332 on 6 and 11357 DF,  p-value: <0.0000000000000002\n"
            ]
          },
          "metadata": {}
        }
      ]
    },
    {
      "cell_type": "markdown",
      "source": [
        "# Test White "
      ],
      "metadata": {
        "id": "kHKB_0JTv9Ll"
      }
    },
    {
      "cell_type": "code",
      "source": [
        "install.packages(\"lmtest\")\n",
        "library(lmtest)"
      ],
      "metadata": {
        "colab": {
          "base_uri": "https://localhost:8080/"
        },
        "id": "idVuMEwGuzJs",
        "outputId": "cfac64c9-cbc9-4ff0-c39d-3f1339fb148c"
      },
      "execution_count": null,
      "outputs": [
        {
          "output_type": "stream",
          "name": "stderr",
          "text": [
            "Installing package into ‘/usr/local/lib/R/site-library’\n",
            "(as ‘lib’ is unspecified)\n",
            "\n",
            "also installing the dependency ‘zoo’\n",
            "\n",
            "\n",
            "Loading required package: zoo\n",
            "\n",
            "\n",
            "Attaching package: ‘zoo’\n",
            "\n",
            "\n",
            "The following objects are masked from ‘package:base’:\n",
            "\n",
            "    as.Date, as.Date.numeric\n",
            "\n",
            "\n"
          ]
        }
      ]
    },
    {
      "cell_type": "code",
      "source": [
        "prueba_white <- bptest(ols,\n",
        "                      ~ sexo + pesoalnacer + edadmeses + mad_secund + mad_superior + area +\n",
        "                        (sexo*pesoalnacer) + (sexo*edadmeses) + (sexo*mad_secund) + (sexo*mad_superior) + (sexo*area) + \n",
        "                        I(pesoalnacer^2) + (pesoalnacer*edadmeses) + (pesoalnacer*mad_secund) + (pesoalnacer*mad_superior) + (pesoalnacer*area) +\n",
        "                        I(edadmeses^2) + (edadmeses*mad_secund) + (edadmeses*mad_superior) + (edadmeses*area) +\n",
        "                        (mad_secund*mad_superior) + (mad_secund*area) + \n",
        "                        (mad_superior*area),\n",
        "                        data = base)\n",
        "print(prueba_white)"
      ],
      "metadata": {
        "colab": {
          "base_uri": "https://localhost:8080/"
        },
        "id": "MBfNfhhju05_",
        "outputId": "c7202a18-f5b3-43a1-f88f-77fd4fcf1c67"
      },
      "execution_count": null,
      "outputs": [
        {
          "output_type": "stream",
          "name": "stdout",
          "text": [
            "\n",
            "\tstudentized Breusch-Pagan test\n",
            "\n",
            "data:  ols\n",
            "BP = 239, df = 22, p-value <0.0000000000000002\n",
            "\n"
          ]
        }
      ]
    },
    {
      "cell_type": "markdown",
      "source": [
        "Con un valor del test de White de 239 y un nivel de significancia del 1%, se rechaza la H0 de homocedasticidad. Por lo tanto, existe heterocedasticidad en el modelo.\n"
      ],
      "metadata": {
        "id": "v4grtbpzwzJw"
      }
    },
    {
      "cell_type": "markdown",
      "source": [
        "# Test Breusch-Pagan/Godfrey"
      ],
      "metadata": {
        "id": "mO6hI3ZYwCNG"
      }
    },
    {
      "cell_type": "code",
      "source": [
        "bpg <- bptest(hemoglobina ~ sexo + pesoalnacer + edadmeses + mad_secund + mad_superior + area, \n",
        "              studentize = F, data=base)\n",
        "bpg"
      ],
      "metadata": {
        "colab": {
          "base_uri": "https://localhost:8080/",
          "height": 104
        },
        "id": "3ry6iWbgwEMr",
        "outputId": "9798234e-07fd-4944-b479-6fcb43a56818"
      },
      "execution_count": null,
      "outputs": [
        {
          "output_type": "display_data",
          "data": {
            "text/plain": [
              "\n",
              "\tBreusch-Pagan test\n",
              "\n",
              "data:  hemoglobina ~ sexo + pesoalnacer + edadmeses + mad_secund + mad_superior +     area\n",
              "BP = 233, df = 6, p-value <0.0000000000000002\n"
            ]
          },
          "metadata": {}
        }
      ]
    },
    {
      "cell_type": "markdown",
      "source": [
        "Con un valor del test de BP de 233 y un nivel de significancia del 1%, se rechaza la H0 de homocedasticidad. Por lo tanto, existe heterocedasticidad en el modelo.\n"
      ],
      "metadata": {
        "id": "ha67nbCLw9oE"
      }
    }
  ]
}