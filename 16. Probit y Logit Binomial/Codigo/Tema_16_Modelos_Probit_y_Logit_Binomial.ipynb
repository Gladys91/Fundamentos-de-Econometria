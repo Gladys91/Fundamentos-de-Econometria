{
  "nbformat": 4,
  "nbformat_minor": 0,
  "metadata": {
    "colab": {
      "provenance": [],
      "toc_visible": true,
      "authorship_tag": "ABX9TyOXukc6hooKfpBc/8niBpO2",
      "include_colab_link": true
    },
    "kernelspec": {
      "name": "ir",
      "display_name": "R"
    },
    "language_info": {
      "name": "R"
    }
  },
  "cells": [
    {
      "cell_type": "markdown",
      "metadata": {
        "id": "view-in-github",
        "colab_type": "text"
      },
      "source": [
        "<a href=\"https://colab.research.google.com/github/juanpalominoh/Fundamentos-de-Econometria/blob/main/Tema_16_Modelos_Probit_y_Logit_Binomial.ipynb\" target=\"_parent\"><img src=\"https://colab.research.google.com/assets/colab-badge.svg\" alt=\"Open In Colab\"/></a>"
      ]
    },
    {
      "cell_type": "markdown",
      "source": [
        "# **Modelos Probit y Logit Binomial**"
      ],
      "metadata": {
        "id": "T-M1byUK_wa2"
      }
    },
    {
      "cell_type": "code",
      "source": [
        "install.packages(\"rio\")      # Instalamos paquete para leer datos\n",
        "install.packages(\"skimr\")    # Realizar descripción estadística\n",
        "install.packages(\"memisc\")   # Paquete para realizar tablas"
      ],
      "metadata": {
        "colab": {
          "base_uri": "https://localhost:8080/"
        },
        "id": "5_6l3KtpCeXC",
        "outputId": "c34341e5-c0c9-4c41-97b3-5f63d642d002"
      },
      "execution_count": null,
      "outputs": [
        {
          "output_type": "stream",
          "name": "stderr",
          "text": [
            "Installing package into ‘/usr/local/lib/R/site-library’\n",
            "(as ‘lib’ is unspecified)\n",
            "\n",
            "also installing the dependency ‘openxlsx’\n",
            "\n",
            "\n"
          ]
        }
      ]
    },
    {
      "cell_type": "code",
      "source": [
        "library(rio)\n",
        "library(skimr)\n",
        "library(memisc)"
      ],
      "metadata": {
        "id": "QKf88vG_Epm0"
      },
      "execution_count": null,
      "outputs": []
    },
    {
      "cell_type": "code",
      "execution_count": null,
      "metadata": {
        "colab": {
          "base_uri": "https://localhost:8080/",
          "height": 306
        },
        "id": "uFK-KLKY_tyI",
        "outputId": "faba3520-4aab-463e-b903-2d591cf9a63a"
      },
      "outputs": [
        {
          "output_type": "display_data",
          "data": {
            "text/html": [
              "<table class=\"dataframe\">\n",
              "<caption>A data.frame: 6 × 27</caption>\n",
              "<thead>\n",
              "\t<tr><th></th><th scope=col>HHID</th><th scope=col>HVIDX</th><th scope=col>HWIDX</th><th scope=col>BORD</th><th scope=col>sexo</th><th scope=col>pesoalnacer</th><th scope=col>edadmeses</th><th scope=col>edadniño012</th><th scope=col>edadniño1335</th><th scope=col>edadniño3659</th><th scope=col>⋯</th><th scope=col>lengmaterna</th><th scope=col>wealth_index</th><th scope=col>riqueza</th><th scope=col>region</th><th scope=col>area</th><th scope=col>altitud</th><th scope=col>estrato</th><th scope=col>V005</th><th scope=col>peso</th><th scope=col>anemiamadre</th></tr>\n",
              "\t<tr><th></th><th scope=col>&lt;chr&gt;</th><th scope=col>&lt;dbl&gt;</th><th scope=col>&lt;dbl&gt;</th><th scope=col>&lt;dbl&gt;</th><th scope=col>&lt;dbl&gt;</th><th scope=col>&lt;dbl&gt;</th><th scope=col>&lt;dbl&gt;</th><th scope=col>&lt;dbl&gt;</th><th scope=col>&lt;dbl&gt;</th><th scope=col>&lt;dbl&gt;</th><th scope=col>⋯</th><th scope=col>&lt;dbl&gt;</th><th scope=col>&lt;dbl&gt;</th><th scope=col>&lt;dbl&gt;</th><th scope=col>&lt;dbl&gt;</th><th scope=col>&lt;dbl&gt;</th><th scope=col>&lt;dbl&gt;</th><th scope=col>&lt;dbl&gt;</th><th scope=col>&lt;dbl&gt;</th><th scope=col>&lt;dbl&gt;</th><th scope=col>&lt;dbl&gt;</th></tr>\n",
              "</thead>\n",
              "<tbody>\n",
              "\t<tr><th scope=row>1</th><td>000100301</td><td>2</td><td>1</td><td>1</td><td>0</td><td>3.73</td><td>15</td><td>0</td><td>1</td><td>0</td><td>⋯</td><td>0</td><td>3</td><td> 0.45172107</td><td>1</td><td>1</td><td>2338</td><td>3</td><td>113988</td><td>0.113988</td><td>1</td></tr>\n",
              "\t<tr><th scope=row>2</th><td>000100401</td><td>1</td><td>1</td><td>6</td><td>0</td><td>2.53</td><td>22</td><td>0</td><td>1</td><td>0</td><td>⋯</td><td>1</td><td>1</td><td>-0.94687147</td><td>1</td><td>1</td><td>2338</td><td>3</td><td>113988</td><td>0.113988</td><td>1</td></tr>\n",
              "\t<tr><th scope=row>3</th><td>000100801</td><td>2</td><td>1</td><td>4</td><td>1</td><td>2.00</td><td>18</td><td>0</td><td>1</td><td>0</td><td>⋯</td><td>1</td><td>4</td><td> 1.28247649</td><td>1</td><td>1</td><td>2338</td><td>3</td><td>113988</td><td>0.113988</td><td>0</td></tr>\n",
              "\t<tr><th scope=row>4</th><td>000104201</td><td>2</td><td>1</td><td>1</td><td>0</td><td>3.10</td><td>41</td><td>0</td><td>0</td><td>1</td><td>⋯</td><td>1</td><td>2</td><td> 0.01761552</td><td>1</td><td>1</td><td>2338</td><td>3</td><td>113988</td><td>0.113988</td><td>0</td></tr>\n",
              "\t<tr><th scope=row>5</th><td>000107001</td><td>1</td><td>1</td><td>2</td><td>1</td><td>2.90</td><td>22</td><td>0</td><td>1</td><td>0</td><td>⋯</td><td>1</td><td>3</td><td> 0.43292466</td><td>1</td><td>1</td><td>2338</td><td>3</td><td>113988</td><td>0.113988</td><td>0</td></tr>\n",
              "\t<tr><th scope=row>6</th><td>000205401</td><td>4</td><td>1</td><td>1</td><td>0</td><td>3.27</td><td>37</td><td>0</td><td>0</td><td>1</td><td>⋯</td><td>1</td><td>2</td><td> 0.09705763</td><td>1</td><td>1</td><td>2338</td><td>1</td><td>106423</td><td>0.106423</td><td>0</td></tr>\n",
              "</tbody>\n",
              "</table>\n"
            ],
            "text/markdown": "\nA data.frame: 6 × 27\n\n| <!--/--> | HHID &lt;chr&gt; | HVIDX &lt;dbl&gt; | HWIDX &lt;dbl&gt; | BORD &lt;dbl&gt; | sexo &lt;dbl&gt; | pesoalnacer &lt;dbl&gt; | edadmeses &lt;dbl&gt; | edadniño012 &lt;dbl&gt; | edadniño1335 &lt;dbl&gt; | edadniño3659 &lt;dbl&gt; | ⋯ ⋯ | lengmaterna &lt;dbl&gt; | wealth_index &lt;dbl&gt; | riqueza &lt;dbl&gt; | region &lt;dbl&gt; | area &lt;dbl&gt; | altitud &lt;dbl&gt; | estrato &lt;dbl&gt; | V005 &lt;dbl&gt; | peso &lt;dbl&gt; | anemiamadre &lt;dbl&gt; |\n|---|---|---|---|---|---|---|---|---|---|---|---|---|---|---|---|---|---|---|---|---|---|\n| 1 | 000100301 | 2 | 1 | 1 | 0 | 3.73 | 15 | 0 | 1 | 0 | ⋯ | 0 | 3 |  0.45172107 | 1 | 1 | 2338 | 3 | 113988 | 0.113988 | 1 |\n| 2 | 000100401 | 1 | 1 | 6 | 0 | 2.53 | 22 | 0 | 1 | 0 | ⋯ | 1 | 1 | -0.94687147 | 1 | 1 | 2338 | 3 | 113988 | 0.113988 | 1 |\n| 3 | 000100801 | 2 | 1 | 4 | 1 | 2.00 | 18 | 0 | 1 | 0 | ⋯ | 1 | 4 |  1.28247649 | 1 | 1 | 2338 | 3 | 113988 | 0.113988 | 0 |\n| 4 | 000104201 | 2 | 1 | 1 | 0 | 3.10 | 41 | 0 | 0 | 1 | ⋯ | 1 | 2 |  0.01761552 | 1 | 1 | 2338 | 3 | 113988 | 0.113988 | 0 |\n| 5 | 000107001 | 1 | 1 | 2 | 1 | 2.90 | 22 | 0 | 1 | 0 | ⋯ | 1 | 3 |  0.43292466 | 1 | 1 | 2338 | 3 | 113988 | 0.113988 | 0 |\n| 6 | 000205401 | 4 | 1 | 1 | 0 | 3.27 | 37 | 0 | 0 | 1 | ⋯ | 1 | 2 |  0.09705763 | 1 | 1 | 2338 | 1 | 106423 | 0.106423 | 0 |\n\n",
            "text/latex": "A data.frame: 6 × 27\n\\begin{tabular}{r|lllllllllllllllllllll}\n  & HHID & HVIDX & HWIDX & BORD & sexo & pesoalnacer & edadmeses & edadniño012 & edadniño1335 & edadniño3659 & ⋯ & lengmaterna & wealth\\_index & riqueza & region & area & altitud & estrato & V005 & peso & anemiamadre\\\\\n  & <chr> & <dbl> & <dbl> & <dbl> & <dbl> & <dbl> & <dbl> & <dbl> & <dbl> & <dbl> & ⋯ & <dbl> & <dbl> & <dbl> & <dbl> & <dbl> & <dbl> & <dbl> & <dbl> & <dbl> & <dbl>\\\\\n\\hline\n\t1 & 000100301 & 2 & 1 & 1 & 0 & 3.73 & 15 & 0 & 1 & 0 & ⋯ & 0 & 3 &  0.45172107 & 1 & 1 & 2338 & 3 & 113988 & 0.113988 & 1\\\\\n\t2 & 000100401 & 1 & 1 & 6 & 0 & 2.53 & 22 & 0 & 1 & 0 & ⋯ & 1 & 1 & -0.94687147 & 1 & 1 & 2338 & 3 & 113988 & 0.113988 & 1\\\\\n\t3 & 000100801 & 2 & 1 & 4 & 1 & 2.00 & 18 & 0 & 1 & 0 & ⋯ & 1 & 4 &  1.28247649 & 1 & 1 & 2338 & 3 & 113988 & 0.113988 & 0\\\\\n\t4 & 000104201 & 2 & 1 & 1 & 0 & 3.10 & 41 & 0 & 0 & 1 & ⋯ & 1 & 2 &  0.01761552 & 1 & 1 & 2338 & 3 & 113988 & 0.113988 & 0\\\\\n\t5 & 000107001 & 1 & 1 & 2 & 1 & 2.90 & 22 & 0 & 1 & 0 & ⋯ & 1 & 3 &  0.43292466 & 1 & 1 & 2338 & 3 & 113988 & 0.113988 & 0\\\\\n\t6 & 000205401 & 4 & 1 & 1 & 0 & 3.27 & 37 & 0 & 0 & 1 & ⋯ & 1 & 2 &  0.09705763 & 1 & 1 & 2338 & 1 & 106423 & 0.106423 & 0\\\\\n\\end{tabular}\n",
            "text/plain": [
              "  HHID      HVIDX HWIDX BORD sexo pesoalnacer edadmeses edadniño012\n",
              "1 000100301 2     1     1    0    3.73        15        0          \n",
              "2 000100401 1     1     6    0    2.53        22        0          \n",
              "3 000100801 2     1     4    1    2.00        18        0          \n",
              "4 000104201 2     1     1    0    3.10        41        0          \n",
              "5 000107001 1     1     2    1    2.90        22        0          \n",
              "6 000205401 4     1     1    0    3.27        37        0          \n",
              "  edadniño1335 edadniño3659 ⋯ lengmaterna wealth_index riqueza     region area\n",
              "1 1            0            ⋯ 0           3             0.45172107 1      1   \n",
              "2 1            0            ⋯ 1           1            -0.94687147 1      1   \n",
              "3 1            0            ⋯ 1           4             1.28247649 1      1   \n",
              "4 0            1            ⋯ 1           2             0.01761552 1      1   \n",
              "5 1            0            ⋯ 1           3             0.43292466 1      1   \n",
              "6 0            1            ⋯ 1           2             0.09705763 1      1   \n",
              "  altitud estrato V005   peso     anemiamadre\n",
              "1 2338    3       113988 0.113988 1          \n",
              "2 2338    3       113988 0.113988 1          \n",
              "3 2338    3       113988 0.113988 0          \n",
              "4 2338    3       113988 0.113988 0          \n",
              "5 2338    3       113988 0.113988 0          \n",
              "6 2338    1       106423 0.106423 0          "
            ]
          },
          "metadata": {}
        }
      ],
      "source": [
        "# Importamos la BBDD\n",
        "base <- import(\"/content/base_anemia.dta\")\n",
        "head(base)"
      ]
    },
    {
      "cell_type": "markdown",
      "source": [
        "## **Estadísticas Descriptivas**"
      ],
      "metadata": {
        "id": "LkyhksMQGpn2"
      }
    },
    {
      "cell_type": "code",
      "source": [
        "# Estadísticas descriptivas\n",
        "skimr::skim(base)"
      ],
      "metadata": {
        "colab": {
          "base_uri": "https://localhost:8080/"
        },
        "id": "KmYkSumeHTA0",
        "outputId": "aa05f0b8-3137-42b3-b5a1-3b6252964667"
      },
      "execution_count": null,
      "outputs": [
        {
          "output_type": "stream",
          "name": "stdout",
          "text": [
            "── Data Summary ────────────────────────\n",
            "                           Values\n",
            "Name                       base  \n",
            "Number of rows             20466 \n",
            "Number of columns          27    \n",
            "_______________________          \n",
            "Column type frequency:           \n",
            "  character                1     \n",
            "  numeric                  26    \n",
            "________________________         \n",
            "Group variables            None  \n",
            "\n",
            "── Variable type: character ────────────────────────────────────────────────────\n",
            "  skim_variable n_missing complete_rate min max empty n_unique whitespace\n",
            "\u001b[90m1\u001b[39m HHID                  0             1   9   9     0    \u001b[4m1\u001b[24m\u001b[4m7\u001b[24m778          0\n",
            "\n",
            "── Variable type: numeric ──────────────────────────────────────────────────────\n",
            "   skim_variable n_missing complete_rate        mean         sd         p0\n",
            "\u001b[90m 1\u001b[39m HVIDX                 0         1          2.24        1.29      1     \n",
            "\u001b[90m 2\u001b[39m HWIDX                 0         1          1.14        0.360     1     \n",
            "\u001b[90m 3\u001b[39m BORD                  0         1          2.42        1.53      1     \n",
            "\u001b[90m 4\u001b[39m sexo                  0         1          0.494       0.500     0     \n",
            "\u001b[90m 5\u001b[39m pesoalnacer         604         0.970      3.27        0.532     0.780 \n",
            "\u001b[90m 6\u001b[39m edadmeses             0         1         31.3        16.1       4     \n",
            "\u001b[90m 7\u001b[39m edadniño012           0         1          0.172       0.377     0     \n",
            "\u001b[90m 8\u001b[39m edadniño1335          0         1          0.394       0.489     0     \n",
            "\u001b[90m 9\u001b[39m edadniño3659          0         1          0.434       0.496     0     \n",
            "\u001b[90m10\u001b[39m d_anemia              0         1          0.321       0.467     0     \n",
            "\u001b[90m11\u001b[39m anemia                0         1          1.41        0.647     1     \n",
            "\u001b[90m12\u001b[39m conglome              0         1       \u001b[4m1\u001b[24m664.        943.        1     \n",
            "\u001b[90m13\u001b[39m hogar                 0         1         63.0        45.5       1     \n",
            "\u001b[90m14\u001b[39m edadmadre             0         1         30.6         6.89     13     \n",
            "\u001b[90m15\u001b[39m sch_madre             0         1         10.5         3.79      0     \n",
            "\u001b[90m16\u001b[39m educmadre             0         1          1.14        0.708     0     \n",
            "\u001b[90m17\u001b[39m lengmaterna        \u001b[4m1\u001b[24m455         0.929      0.908       0.295     0     \n",
            "\u001b[90m18\u001b[39m wealth_index          0         1          2.46        1.30      1     \n",
            "\u001b[90m19\u001b[39m riqueza               0         1          0.062\u001b[4m8\u001b[24m      0.958    -\u001b[31m2\u001b[39m\u001b[31m.\u001b[39m\u001b[31m0\u001b[39m\u001b[31m2\u001b[39m  \n",
            "\u001b[90m20\u001b[39m region                0         1         13.2         6.96      1     \n",
            "\u001b[90m21\u001b[39m area                  0         1          0.682       0.466     0     \n",
            "\u001b[90m22\u001b[39m altitud               0         1       \u001b[4m1\u001b[24m290.       \u001b[4m1\u001b[24m435.        5     \n",
            "\u001b[90m23\u001b[39m estrato               0         1        128.         69.4       1     \n",
            "\u001b[90m24\u001b[39m V005                  0         1     \u001b[4m4\u001b[24m\u001b[4m2\u001b[24m\u001b[4m4\u001b[24m138.     \u001b[4m3\u001b[24m\u001b[4m3\u001b[24m\u001b[4m3\u001b[24m546.    \u001b[4m1\u001b[24m\u001b[4m7\u001b[24m334     \n",
            "\u001b[90m25\u001b[39m peso                  0         1          0.424       0.334     0.017\u001b[4m3\u001b[24m\n",
            "\u001b[90m26\u001b[39m anemiamadre          12         0.999      0.198       0.399     0     \n",
            "          p25         p50        p75       p100 hist \n",
            "\u001b[90m 1\u001b[39m      2          2           2          13    ▇▁▁▁▁\n",
            "\u001b[90m 2\u001b[39m      1          1           1           4    ▇▁▁▁▁\n",
            "\u001b[90m 3\u001b[39m      1          2           3          14    ▇▂▁▁▁\n",
            "\u001b[90m 4\u001b[39m      0          0           1           1    ▇▁▁▁▇\n",
            "\u001b[90m 5\u001b[39m      2.97       3.30        3.60        5.80 ▁▂▇▂▁\n",
            "\u001b[90m 6\u001b[39m     17         32          45          59    ▇▆▇▇▇\n",
            "\u001b[90m 7\u001b[39m      0          0           0           1    ▇▁▁▁▂\n",
            "\u001b[90m 8\u001b[39m      0          0           1           1    ▇▁▁▁▅\n",
            "\u001b[90m 9\u001b[39m      0          0           1           1    ▇▁▁▁▆\n",
            "\u001b[90m10\u001b[39m      0          0           1           1    ▇▁▁▁▃\n",
            "\u001b[90m11\u001b[39m      1          1           2           4    ▇▃▁▁▁\n",
            "\u001b[90m12\u001b[39m    832       \u001b[4m1\u001b[24m697        \u001b[4m2\u001b[24m462        \u001b[4m3\u001b[24m254    ▇▇▇▇▇\n",
            "\u001b[90m13\u001b[39m     27         55          91         480    ▇▂▁▁▁\n",
            "\u001b[90m14\u001b[39m     25         30          36          49    ▂▇▇▆▂\n",
            "\u001b[90m15\u001b[39m      8         11          14          18    ▁▂▂▇▂\n",
            "\u001b[90m16\u001b[39m      1          1           2           2    ▃▁▇▁▆\n",
            "\u001b[90m17\u001b[39m      1          1           1           2    ▁▁▇▁▁\n",
            "\u001b[90m18\u001b[39m      1          2           3           5    ▇▇▅▃▂\n",
            "\u001b[90m19\u001b[39m     -\u001b[31m0\u001b[39m\u001b[31m.\u001b[39m\u001b[31m731\u001b[39m      0.065\u001b[4m5\u001b[24m      0.816       2.19 ▃▇▇▇▃\n",
            "\u001b[90m20\u001b[39m      7         14          19          25    ▆▅▇▆▆\n",
            "\u001b[90m21\u001b[39m      0          1           1           1    ▃▁▁▁▇\n",
            "\u001b[90m22\u001b[39m    116        432        \u001b[4m2\u001b[24m707.       \u001b[4m5\u001b[24m053    ▇▁▂▂▁\n",
            "\u001b[90m23\u001b[39m     66        137         182         250    ▅▆▇▆▆\n",
            "\u001b[90m24\u001b[39m \u001b[4m1\u001b[24m\u001b[4m5\u001b[24m\u001b[4m9\u001b[24m068     \u001b[4m3\u001b[24m\u001b[4m6\u001b[24m\u001b[4m0\u001b[24m780.     \u001b[4m5\u001b[24m\u001b[4m4\u001b[24m\u001b[4m7\u001b[24m512     2\u001b[4m1\u001b[24m\u001b[4m7\u001b[24m\u001b[4m0\u001b[24m592    ▇▃▁▁▁\n",
            "\u001b[90m25\u001b[39m      0.159      0.361       0.548       2.17 ▇▃▁▁▁\n",
            "\u001b[90m26\u001b[39m      0          0           0           1    ▇▁▁▁▂\n"
          ]
        },
        {
          "output_type": "stream",
          "name": "stderr",
          "text": [
            "Warning message in is.null(text_repr) || nchar(text_repr) == 0L:\n",
            "“'length(x) = 2 > 1' in coercion to 'logical(1)'”\n"
          ]
        }
      ]
    },
    {
      "cell_type": "markdown",
      "source": [
        "## **Estimación de los modelos**"
      ],
      "metadata": {
        "id": "o8WBTtw3H3zU"
      }
    },
    {
      "cell_type": "markdown",
      "source": [
        "Vamos a estimar el siguiente modelo:\n",
        "\\begin{gather*}\n",
        "anemia_{i} = \\beta_{1} + \\beta_{2} sexo_i + \\beta_{3} edad_i + \\beta_{4} pesoalnacer_i + \\beta_{5} edadmadre_i + \\beta_{6} educmadre_i + \\beta_{7} lengmaterna_i + \\beta_{8} anemiamadre_i + \\beta_{9} area_i + \\beta_{10} wealthindex_i + \\epsilon_{i}\n",
        "\\end{gather*}"
      ],
      "metadata": {
        "id": "Y0pEniTDF0sc"
      }
    },
    {
      "cell_type": "markdown",
      "source": [
        "### **Modelo Probabilidad Lineal (MPL)**"
      ],
      "metadata": {
        "id": "7vDtx-IEIMih"
      }
    },
    {
      "cell_type": "code",
      "source": [
        "mod_ols <- lm(d_anemia ~ sexo + edadmeses + pesoalnacer + edadmadre + factor(educmadre) + \n",
        "  factor(lengmaterna) + anemiamadre + area + factor(wealth_index), data=base)\n",
        "summary(mod_ols)"
      ],
      "metadata": {
        "colab": {
          "base_uri": "https://localhost:8080/",
          "height": 607
        },
        "id": "18B8tCCfGdqJ",
        "outputId": "41bf7118-3e58-477f-8727-ec01c013a528"
      },
      "execution_count": null,
      "outputs": [
        {
          "output_type": "display_data",
          "data": {
            "text/plain": [
              "\n",
              "Call:\n",
              "lm(formula = d_anemia ~ sexo + edadmeses + pesoalnacer + edadmadre + \n",
              "    factor(educmadre) + factor(lengmaterna) + anemiamadre + area + \n",
              "    factor(wealth_index), data = base)\n",
              "\n",
              "Residuals:\n",
              "    Min      1Q  Median      3Q     Max \n",
              "-0.8496 -0.3258 -0.1596  0.4548  1.0788 \n",
              "\n",
              "Coefficients:\n",
              "                        Estimate Std. Error t value Pr(>|t|)    \n",
              "(Intercept)            0.7866109  0.0277067  28.391  < 2e-16 ***\n",
              "sexo                  -0.0499668  0.0063828  -7.828 5.21e-15 ***\n",
              "edadmeses             -0.0088269  0.0001997 -44.205  < 2e-16 ***\n",
              "pesoalnacer            0.0016082  0.0060805   0.264  0.79141    \n",
              "edadmadre             -0.0014534  0.0004893  -2.970  0.00298 ** \n",
              "factor(educmadre)1     0.0029795  0.0094918   0.314  0.75359    \n",
              "factor(educmadre)2    -0.0271613  0.0108744  -2.498  0.01251 *  \n",
              "factor(lengmaterna)1  -0.0941233  0.0122654  -7.674 1.75e-14 ***\n",
              "factor(lengmaterna)2  -0.0989788  0.0771349  -1.283  0.19944    \n",
              "anemiamadre            0.1238127  0.0080768  15.329  < 2e-16 ***\n",
              "area                   0.0188121  0.0097162   1.936  0.05286 .  \n",
              "factor(wealth_index)2 -0.0504327  0.0104485  -4.827 1.40e-06 ***\n",
              "factor(wealth_index)3 -0.1090138  0.0122330  -8.911  < 2e-16 ***\n",
              "factor(wealth_index)4 -0.1484375  0.0134673 -11.022  < 2e-16 ***\n",
              "factor(wealth_index)5 -0.1823831  0.0154115 -11.834  < 2e-16 ***\n",
              "---\n",
              "Signif. codes:  0 ‘***’ 0.001 ‘**’ 0.01 ‘*’ 0.05 ‘.’ 0.1 ‘ ’ 1\n",
              "\n",
              "Residual standard error: 0.431 on 18420 degrees of freedom\n",
              "  (2031 observations deleted due to missingness)\n",
              "Multiple R-squared:  0.142,\tAdjusted R-squared:  0.1414 \n",
              "F-statistic: 217.8 on 14 and 18420 DF,  p-value: < 2.2e-16\n"
            ]
          },
          "metadata": {}
        }
      ]
    },
    {
      "cell_type": "markdown",
      "source": [
        "### **Modelo Probit Binomial**"
      ],
      "metadata": {
        "id": "rkUtQ1jFJlrY"
      }
    },
    {
      "cell_type": "code",
      "source": [
        "mod_probit <- glm(d_anemia ~ sexo + edadmeses + pesoalnacer + edadmadre + factor(educmadre) + \n",
        "  factor(lengmaterna) + anemiamadre + area + factor(wealth_index), \n",
        "  data=base, family=binomial(link=\"probit\"))\n",
        "summary(mod_probit)"
      ],
      "metadata": {
        "colab": {
          "base_uri": "https://localhost:8080/",
          "height": 694
        },
        "id": "qkv6xcYmJsVk",
        "outputId": "4608a591-f180-43f1-fef6-6d43d931fd71"
      },
      "execution_count": null,
      "outputs": [
        {
          "output_type": "display_data",
          "data": {
            "text/plain": [
              "\n",
              "Call:\n",
              "glm(formula = d_anemia ~ sexo + edadmeses + pesoalnacer + edadmadre + \n",
              "    factor(educmadre) + factor(lengmaterna) + anemiamadre + area + \n",
              "    factor(wealth_index), family = binomial(link = \"probit\"), \n",
              "    data = base)\n",
              "\n",
              "Deviance Residuals: \n",
              "    Min       1Q   Median       3Q      Max  \n",
              "-1.9849  -0.8506  -0.5734   1.0660   2.5919  \n",
              "\n",
              "Coefficients:\n",
              "                        Estimate Std. Error z value Pr(>|z|)    \n",
              "(Intercept)            0.8931420  0.0881103  10.137  < 2e-16 ***\n",
              "sexo                  -0.1560489  0.0204655  -7.625 2.44e-14 ***\n",
              "edadmeses             -0.0272626  0.0006623 -41.161  < 2e-16 ***\n",
              "pesoalnacer            0.0062238  0.0194708   0.320  0.74923    \n",
              "edadmadre             -0.0044673  0.0015651  -2.854  0.00431 ** \n",
              "factor(educmadre)1     0.0108447  0.0296887   0.365  0.71490    \n",
              "factor(educmadre)2    -0.0847472  0.0345187  -2.455  0.01408 *  \n",
              "factor(lengmaterna)1  -0.2702120  0.0375229  -7.201 5.97e-13 ***\n",
              "factor(lengmaterna)2  -0.2846491  0.2461920  -1.156  0.24760    \n",
              "anemiamadre            0.3716323  0.0251092  14.801  < 2e-16 ***\n",
              "area                   0.0521714  0.0304440   1.714  0.08659 .  \n",
              "factor(wealth_index)2 -0.1460112  0.0324899  -4.494 6.99e-06 ***\n",
              "factor(wealth_index)3 -0.3311658  0.0385575  -8.589  < 2e-16 ***\n",
              "factor(wealth_index)4 -0.4642257  0.0432240 -10.740  < 2e-16 ***\n",
              "factor(wealth_index)5 -0.6157830  0.0514005 -11.980  < 2e-16 ***\n",
              "---\n",
              "Signif. codes:  0 ‘***’ 0.001 ‘**’ 0.01 ‘*’ 0.05 ‘.’ 0.1 ‘ ’ 1\n",
              "\n",
              "(Dispersion parameter for binomial family taken to be 1)\n",
              "\n",
              "    Null deviance: 23015  on 18434  degrees of freedom\n",
              "Residual deviance: 20249  on 18420  degrees of freedom\n",
              "  (2031 observations deleted due to missingness)\n",
              "AIC: 20279\n",
              "\n",
              "Number of Fisher Scoring iterations: 4\n"
            ]
          },
          "metadata": {}
        }
      ]
    },
    {
      "cell_type": "markdown",
      "source": [
        "### **Modelo Logit Binomial**"
      ],
      "metadata": {
        "id": "ndhG16mfSY1W"
      }
    },
    {
      "cell_type": "code",
      "source": [
        "mod_logit <- glm(d_anemia ~ sexo + edadmeses + pesoalnacer + edadmadre + factor(educmadre) + \n",
        "  factor(lengmaterna) + anemiamadre + area + factor(wealth_index), \n",
        "  data=base, family=binomial(link=\"logit\"))\n",
        "summary(mod_logit)"
      ],
      "metadata": {
        "colab": {
          "base_uri": "https://localhost:8080/",
          "height": 694
        },
        "id": "0QwpNBYIKcPJ",
        "outputId": "99feaf30-d796-4d26-bf6f-893a3d428bad"
      },
      "execution_count": null,
      "outputs": [
        {
          "output_type": "display_data",
          "data": {
            "text/plain": [
              "\n",
              "Call:\n",
              "glm(formula = d_anemia ~ sexo + edadmeses + pesoalnacer + edadmadre + \n",
              "    factor(educmadre) + factor(lengmaterna) + anemiamadre + area + \n",
              "    factor(wealth_index), family = binomial(link = \"logit\"), \n",
              "    data = base)\n",
              "\n",
              "Deviance Residuals: \n",
              "    Min       1Q   Median       3Q      Max  \n",
              "-1.9900  -0.8411  -0.5714   1.0551   2.4948  \n",
              "\n",
              "Coefficients:\n",
              "                       Estimate Std. Error z value Pr(>|z|)    \n",
              "(Intercept)            1.534617   0.148245  10.352  < 2e-16 ***\n",
              "sexo                  -0.267124   0.034525  -7.737 1.02e-14 ***\n",
              "edadmeses             -0.046172   0.001145 -40.317  < 2e-16 ***\n",
              "pesoalnacer            0.009674   0.032817   0.295  0.76815    \n",
              "edadmadre             -0.007830   0.002637  -2.969  0.00298 ** \n",
              "factor(educmadre)1     0.012890   0.049569   0.260  0.79483    \n",
              "factor(educmadre)2    -0.152774   0.058001  -2.634  0.00844 ** \n",
              "factor(lengmaterna)1  -0.452995   0.062144  -7.289 3.11e-13 ***\n",
              "factor(lengmaterna)2  -0.477224   0.413447  -1.154  0.24840    \n",
              "anemiamadre            0.619366   0.041905  14.780  < 2e-16 ***\n",
              "area                   0.091917   0.050876   1.807  0.07081 .  \n",
              "factor(wealth_index)2 -0.242007   0.054138  -4.470 7.81e-06 ***\n",
              "factor(wealth_index)3 -0.549685   0.064620  -8.506  < 2e-16 ***\n",
              "factor(wealth_index)4 -0.786465   0.073142 -10.753  < 2e-16 ***\n",
              "factor(wealth_index)5 -1.041350   0.088553 -11.760  < 2e-16 ***\n",
              "---\n",
              "Signif. codes:  0 ‘***’ 0.001 ‘**’ 0.01 ‘*’ 0.05 ‘.’ 0.1 ‘ ’ 1\n",
              "\n",
              "(Dispersion parameter for binomial family taken to be 1)\n",
              "\n",
              "    Null deviance: 23015  on 18434  degrees of freedom\n",
              "Residual deviance: 20237  on 18420  degrees of freedom\n",
              "  (2031 observations deleted due to missingness)\n",
              "AIC: 20267\n",
              "\n",
              "Number of Fisher Scoring iterations: 4\n"
            ]
          },
          "metadata": {}
        }
      ]
    },
    {
      "cell_type": "code",
      "source": [
        "# Ver los resultados \n",
        "table <- mtable(\"MPL\" = mod_ols,\n",
        "                \"Probit\" = mod_probit,\n",
        "                \"Logit\" = mod_logit,\n",
        "            summary.stats = TRUE,\n",
        "            coef.style = \"default\", \n",
        "            digits=3)\n",
        "\n",
        "(table <- relabel(table,\n",
        "          \"(Intercept)\" = \"Constant\",\n",
        "          \"factor(educmadre): 1/0\" = \"Secundaria Madre\",\n",
        "          \"factor(educmadre): 2/0\" = \"Superior Madre\",\n",
        "          \"factor(lengmaterna): 1/0\" = \"Lengua indígena\",\n",
        "          \"factor(lengmaterna): 2/0\" = \"Lengua extranjera\",\n",
        "          anemiamadre = \"Madre tiene anemia\",\n",
        "          area=\"Urbano\",\n",
        "          \"factor(wealth_index): 2/1\"=\"WI Pobre\",\n",
        "          \"factor(wealth_index): 3/1\"=\"WI Medio\",\n",
        "          \"factor(wealth_index): 4/1\"=\"WI Rico\",\n",
        "          \"factor(wealth_index): 5/1\"=\"WI Más rico\"\n",
        "          )\n",
        ")"
      ],
      "metadata": {
        "colab": {
          "base_uri": "https://localhost:8080/",
          "height": 937
        },
        "id": "rWlDkX8wKouf",
        "outputId": "6eb263e5-b85c-4ada-bb6b-8a1f5caeff45"
      },
      "execution_count": null,
      "outputs": [
        {
          "output_type": "display_data",
          "data": {
            "text/plain": [
              "\n",
              "Calls:\n",
              "MPL: lm(formula = d_anemia ~ sexo + edadmeses + pesoalnacer + edadmadre + \n",
              "    factor(educmadre) + factor(lengmaterna) + anemiamadre + area + \n",
              "    factor(wealth_index), data = base)\n",
              "Probit: glm(formula = d_anemia ~ sexo + edadmeses + pesoalnacer + edadmadre + \n",
              "    factor(educmadre) + factor(lengmaterna) + anemiamadre + area + \n",
              "    factor(wealth_index), family = binomial(link = \"probit\"), \n",
              "    data = base)\n",
              "Logit: glm(formula = d_anemia ~ sexo + edadmeses + pesoalnacer + edadmadre + \n",
              "    factor(educmadre) + factor(lengmaterna) + anemiamadre + area + \n",
              "    factor(wealth_index), family = binomial(link = \"logit\"), \n",
              "    data = base)\n",
              "\n",
              "==================================================================\n",
              "                          MPL          Probit          Logit      \n",
              "------------------------------------------------------------------\n",
              "  Constant                0.787***       0.893***       1.535***  \n",
              "                         (0.028)        (0.088)        (0.148)    \n",
              "  sexo                   -0.050***      -0.156***      -0.267***  \n",
              "                         (0.006)        (0.020)        (0.035)    \n",
              "  edadmeses              -0.009***      -0.027***      -0.046***  \n",
              "                         (0.000)        (0.001)        (0.001)    \n",
              "  pesoalnacer             0.002          0.006          0.010     \n",
              "                         (0.006)        (0.019)        (0.033)    \n",
              "  edadmadre              -0.001**       -0.004**       -0.008**   \n",
              "                         (0.000)        (0.002)        (0.003)    \n",
              "  Secundaria Madre        0.003          0.011          0.013     \n",
              "                         (0.009)        (0.030)        (0.050)    \n",
              "  Superior Madre         -0.027*        -0.085*        -0.153**   \n",
              "                         (0.011)        (0.035)        (0.058)    \n",
              "  Lengua indígena        -0.094***      -0.270***      -0.453***  \n",
              "                         (0.012)        (0.038)        (0.062)    \n",
              "  Lengua extranjera      -0.099         -0.285         -0.477     \n",
              "                         (0.077)        (0.246)        (0.413)    \n",
              "  Madre tiene anemia      0.124***       0.372***       0.619***  \n",
              "                         (0.008)        (0.025)        (0.042)    \n",
              "  Urbano                  0.019          0.052          0.092     \n",
              "                         (0.010)        (0.030)        (0.051)    \n",
              "  WI Pobre               -0.050***      -0.146***      -0.242***  \n",
              "                         (0.010)        (0.032)        (0.054)    \n",
              "  WI Medio               -0.109***      -0.331***      -0.550***  \n",
              "                         (0.012)        (0.039)        (0.065)    \n",
              "  WI Rico                -0.148***      -0.464***      -0.786***  \n",
              "                         (0.013)        (0.043)        (0.073)    \n",
              "  WI Más rico            -0.182***      -0.616***      -1.041***  \n",
              "                         (0.015)        (0.051)        (0.089)    \n",
              "------------------------------------------------------------------\n",
              "  R-squared               0.142                                   \n",
              "  N                   18435          18435          18435         \n",
              "  Log-likelihood                    -10124.700     -10118.360     \n",
              "==================================================================\n",
              "  Significance: *** = p < 0.001; ** = p < 0.01; * = p < 0.05  "
            ]
          },
          "metadata": {}
        }
      ]
    },
    {
      "cell_type": "markdown",
      "source": [
        "## **Test Estadísticos**"
      ],
      "metadata": {
        "id": "Dihw-1d5SP72"
      }
    },
    {
      "cell_type": "markdown",
      "source": [
        "### **Likelihood Ratio Test**"
      ],
      "metadata": {
        "id": "bjOLIUYPYvxn"
      }
    },
    {
      "cell_type": "markdown",
      "source": [
        "Este test evalúa lo siguiente:\n",
        "*   $H_0$: Debe usar el modelo restringido\n",
        "*   $H_a$: Debe usar el modelo irrestricto"
      ],
      "metadata": {
        "id": "SDa6kbmyZcKt"
      }
    },
    {
      "cell_type": "markdown",
      "source": [
        "El estadístico es:\n",
        "\\begin{gather*}\n",
        "LR = -2 * (lnLR - lnLNR) \\sim \\chi^2_q\n",
        "\\end{gather*}"
      ],
      "metadata": {
        "id": "pxqJa_x-aDjw"
      }
    },
    {
      "cell_type": "code",
      "source": [
        "install.packages(\"lmtest\")     # Likelihood Ratio Test\n",
        "library(lmtest)"
      ],
      "metadata": {
        "id": "KWqkz4WxZGKr"
      },
      "execution_count": null,
      "outputs": []
    },
    {
      "cell_type": "code",
      "source": [
        "# Estimando ambos modelos\n",
        "restricto <- glm(d_anemia ~ sexo + edadmeses + pesoalnacer + edadmadre + factor(educmadre) + \n",
        "  factor(lengmaterna) + anemiamadre + area + factor(wealth_index), \n",
        "  data=base, family=binomial(link=\"logit\"))\n",
        "\n",
        "irrestricto <- glm(d_anemia ~ sexo + pesoalnacer + edadmadre + factor(educmadre) + \n",
        "  factor(lengmaterna) + anemiamadre + area + factor(wealth_index), \n",
        "  data=base, family=binomial(link=\"logit\"))"
      ],
      "metadata": {
        "id": "c7Hrl5ekSPo0"
      },
      "execution_count": null,
      "outputs": []
    },
    {
      "cell_type": "markdown",
      "source": [
        "Calculando manualmente el test LR"
      ],
      "metadata": {
        "id": "tfi-jl4zcWvj"
      }
    },
    {
      "cell_type": "code",
      "source": [
        "# logLik() reporta los grados de libertad a fin de calcular el test estadístico LR\n",
        "(A <- logLik(restricto))\n",
        "(B <- logLik(irrestricto))\n",
        "\n",
        "# Usar as.numeric() para obtener el valor númerico\n",
        "(teststat <- -2 * (as.numeric(B)-as.numeric(A)))\n",
        "\n",
        "# df = 15 - 14 = 1\n",
        "(p.val <- pchisq(teststat, df = 1, lower.tail = F))"
      ],
      "metadata": {
        "colab": {
          "base_uri": "https://localhost:8080/",
          "height": 86
        },
        "id": "ufSNjyofbKE2",
        "outputId": "6a9d575b-1442-4b6a-f63a-3f6632452c5b"
      },
      "execution_count": null,
      "outputs": [
        {
          "output_type": "display_data",
          "data": {
            "text/plain": [
              "'log Lik.' -10118.36 (df=15)"
            ]
          },
          "metadata": {}
        },
        {
          "output_type": "display_data",
          "data": {
            "text/plain": [
              "'log Lik.' -11030.46 (df=14)"
            ]
          },
          "metadata": {}
        },
        {
          "output_type": "display_data",
          "data": {
            "text/html": [
              "1824.20724153422"
            ],
            "text/markdown": "1824.20724153422",
            "text/latex": "1824.20724153422",
            "text/plain": [
              "[1] 1824.207"
            ]
          },
          "metadata": {}
        },
        {
          "output_type": "display_data",
          "data": {
            "text/html": [
              "0"
            ],
            "text/markdown": "0",
            "text/latex": "0",
            "text/plain": [
              "[1] 0"
            ]
          },
          "metadata": {}
        }
      ]
    },
    {
      "cell_type": "markdown",
      "source": [
        "Calculando con `lrtest`"
      ],
      "metadata": {
        "id": "Ymlx-6ISeUqr"
      }
    },
    {
      "cell_type": "code",
      "source": [
        "# Evaluando el test LR\n",
        "lrtest(restricto, irrestricto)"
      ],
      "metadata": {
        "colab": {
          "base_uri": "https://localhost:8080/",
          "height": 161
        },
        "id": "u6EfZiMybBKj",
        "outputId": "73c5fd5f-5e7a-40c0-9447-014102fdf3ef"
      },
      "execution_count": null,
      "outputs": [
        {
          "output_type": "display_data",
          "data": {
            "text/html": [
              "<table class=\"dataframe\">\n",
              "<caption>A anova: 2 × 5</caption>\n",
              "<thead>\n",
              "\t<tr><th></th><th scope=col>#Df</th><th scope=col>LogLik</th><th scope=col>Df</th><th scope=col>Chisq</th><th scope=col>Pr(&gt;Chisq)</th></tr>\n",
              "\t<tr><th></th><th scope=col>&lt;dbl&gt;</th><th scope=col>&lt;dbl&gt;</th><th scope=col>&lt;dbl&gt;</th><th scope=col>&lt;dbl&gt;</th><th scope=col>&lt;dbl&gt;</th></tr>\n",
              "</thead>\n",
              "<tbody>\n",
              "\t<tr><th scope=row>1</th><td>15</td><td>-10118.36</td><td>NA</td><td>      NA</td><td>NA</td></tr>\n",
              "\t<tr><th scope=row>2</th><td>14</td><td>-11030.46</td><td>-1</td><td>1824.207</td><td> 0</td></tr>\n",
              "</tbody>\n",
              "</table>\n"
            ],
            "text/markdown": "\nA anova: 2 × 5\n\n| <!--/--> | #Df &lt;dbl&gt; | LogLik &lt;dbl&gt; | Df &lt;dbl&gt; | Chisq &lt;dbl&gt; | Pr(&gt;Chisq) &lt;dbl&gt; |\n|---|---|---|---|---|---|\n| 1 | 15 | -10118.36 | NA |       NA | NA |\n| 2 | 14 | -11030.46 | -1 | 1824.207 |  0 |\n\n",
            "text/latex": "A anova: 2 × 5\n\\begin{tabular}{r|lllll}\n  & \\#Df & LogLik & Df & Chisq & Pr(>Chisq)\\\\\n  & <dbl> & <dbl> & <dbl> & <dbl> & <dbl>\\\\\n\\hline\n\t1 & 15 & -10118.36 & NA &       NA & NA\\\\\n\t2 & 14 & -11030.46 & -1 & 1824.207 &  0\\\\\n\\end{tabular}\n",
            "text/plain": [
              "  #Df LogLik    Df Chisq    Pr(>Chisq)\n",
              "1 15  -10118.36 NA       NA NA        \n",
              "2 14  -11030.46 -1 1824.207  0        "
            ]
          },
          "metadata": {}
        }
      ]
    },
    {
      "cell_type": "markdown",
      "source": [
        "Se prefiere el modelo irrestricto"
      ],
      "metadata": {
        "id": "JQ6jv8ViZVe7"
      }
    },
    {
      "cell_type": "markdown",
      "source": [
        "### **Wald Test**"
      ],
      "metadata": {
        "id": "8p4du2A2hGhE"
      }
    },
    {
      "cell_type": "code",
      "source": [
        "logit <- glm(d_anemia ~ sexo + edadniño1335 + edadniño3659 + pesoalnacer + edadmadre + factor(educmadre) + \n",
        "  factor(lengmaterna) + anemiamadre + area + factor(wealth_index), \n",
        "  data=base, family=binomial(link=\"logit\"))\n",
        "summary(logit)"
      ],
      "metadata": {
        "id": "aWOUH2-Mg8AZ"
      },
      "execution_count": null,
      "outputs": []
    },
    {
      "cell_type": "code",
      "source": [
        "install.packages(\"aod\")    # Wald Test\n",
        "library(aod)"
      ],
      "metadata": {
        "colab": {
          "base_uri": "https://localhost:8080/"
        },
        "id": "9eo6iyUAhc0J",
        "outputId": "b1368f93-cfb8-4e77-ea9e-ce27b8879b53"
      },
      "execution_count": null,
      "outputs": [
        {
          "output_type": "stream",
          "name": "stderr",
          "text": [
            "Installing package into ‘/usr/local/lib/R/site-library’\n",
            "(as ‘lib’ is unspecified)\n",
            "\n"
          ]
        }
      ]
    },
    {
      "cell_type": "markdown",
      "source": [
        "*   **Evaluar $H_0: edadniño1335 = 0$**\n",
        "\n",
        "\n",
        "\n",
        "\n"
      ],
      "metadata": {
        "id": "wI7CxVcgh0Gr"
      }
    },
    {
      "cell_type": "code",
      "source": [
        "wald.test(b = coef(logit), Sigma = vcov(logit), Terms = 3)"
      ],
      "metadata": {
        "colab": {
          "base_uri": "https://localhost:8080/",
          "height": 104
        },
        "id": "OzQvByq-ZVK_",
        "outputId": "72176a95-b094-4bc3-b9dd-9bc0deb863c8"
      },
      "execution_count": null,
      "outputs": [
        {
          "output_type": "display_data",
          "data": {
            "text/plain": [
              "Wald test:\n",
              "----------\n",
              "\n",
              "Chi-squared test:\n",
              "X2 = 428.0, df = 1, P(> X2) = 0.0"
            ]
          },
          "metadata": {}
        }
      ]
    },
    {
      "cell_type": "markdown",
      "source": [
        "El coeficiente `edadniño1335` es diferente de cero."
      ],
      "metadata": {
        "id": "lPqML7k1jg_V"
      }
    },
    {
      "cell_type": "markdown",
      "source": [
        "*   **Evaluar $H_0: edadniño1335 = 0$; $edadniño3659=0$**"
      ],
      "metadata": {
        "id": "wIRUAY4tiNPe"
      }
    },
    {
      "cell_type": "code",
      "source": [
        "wald.test(b = coef(logit), Sigma = vcov(logit), Terms = 3:4)"
      ],
      "metadata": {
        "colab": {
          "base_uri": "https://localhost:8080/",
          "height": 104
        },
        "id": "paGlA6LJiEgq",
        "outputId": "23c510df-5266-4fcc-985c-b531f60b3a2a"
      },
      "execution_count": null,
      "outputs": [
        {
          "output_type": "display_data",
          "data": {
            "text/plain": [
              "Wald test:\n",
              "----------\n",
              "\n",
              "Chi-squared test:\n",
              "X2 = 1523.9, df = 2, P(> X2) = 0.0"
            ]
          },
          "metadata": {}
        }
      ]
    },
    {
      "cell_type": "markdown",
      "source": [
        "Ambos coeficientes `edadniño1335` y `edadniño3659` son distintos de cero."
      ],
      "metadata": {
        "id": "sSPE3CqRjvov"
      }
    },
    {
      "cell_type": "markdown",
      "source": [
        "*   **Evaluar $H_0: edadniño1335 - edadniño3659=0$**"
      ],
      "metadata": {
        "id": "DxNYUsvbjNrQ"
      }
    },
    {
      "cell_type": "code",
      "source": [
        "l <- cbind(0, 0, 1, -1, 0, 0, 0, 0, 0, 0, 0, 0, 0, 0, 0, 0)\n",
        "wald.test(b = coef(logit), Sigma = vcov(logit), L = l)"
      ],
      "metadata": {
        "colab": {
          "base_uri": "https://localhost:8080/",
          "height": 104
        },
        "id": "iFMZhUATi75m",
        "outputId": "fa49adcd-5b9a-4970-9c04-ce29066a7fd6"
      },
      "execution_count": null,
      "outputs": [
        {
          "output_type": "display_data",
          "data": {
            "text/plain": [
              "Wald test:\n",
              "----------\n",
              "\n",
              "Chi-squared test:\n",
              "X2 = 562.0, df = 1, P(> X2) = 0.0"
            ]
          },
          "metadata": {}
        }
      ]
    },
    {
      "cell_type": "markdown",
      "source": [
        "La diferencia entre `edadniño1335` y `edadniño3659` es diferente de cero."
      ],
      "metadata": {
        "id": "WPaagcCMj3eG"
      }
    },
    {
      "cell_type": "markdown",
      "source": [
        "## **Probabilidades Predichas**"
      ],
      "metadata": {
        "id": "OwrwvbOhlMDl"
      }
    },
    {
      "cell_type": "code",
      "source": [
        "attach(base)"
      ],
      "metadata": {
        "id": "EVW-CoQ7qyQ9"
      },
      "execution_count": null,
      "outputs": []
    },
    {
      "cell_type": "code",
      "source": [
        "allmean <- data.frame(sexo=mean(sexo), \n",
        "                      edadmeses=mean(edadmeses),  \n",
        "                      pesoalnacer=mean(pesoalnacer, na.rm=T), \n",
        "                      edadmadre=mean(edadmadre))\n",
        "allmean"
      ],
      "metadata": {
        "colab": {
          "base_uri": "https://localhost:8080/",
          "height": 129
        },
        "id": "IuaTRhmtmTB_",
        "outputId": "ea3acd4b-fe6d-40fb-82b5-67fbacbd14bc"
      },
      "execution_count": null,
      "outputs": [
        {
          "output_type": "display_data",
          "data": {
            "text/html": [
              "<table class=\"dataframe\">\n",
              "<caption>A data.frame: 1 × 4</caption>\n",
              "<thead>\n",
              "\t<tr><th scope=col>sexo</th><th scope=col>edadmeses</th><th scope=col>pesoalnacer</th><th scope=col>edadmadre</th></tr>\n",
              "\t<tr><th scope=col>&lt;dbl&gt;</th><th scope=col>&lt;dbl&gt;</th><th scope=col>&lt;dbl&gt;</th><th scope=col>&lt;dbl&gt;</th></tr>\n",
              "</thead>\n",
              "<tbody>\n",
              "\t<tr><td>0.4937946</td><td>31.28262</td><td>3.274454</td><td>30.61111</td></tr>\n",
              "</tbody>\n",
              "</table>\n"
            ],
            "text/markdown": "\nA data.frame: 1 × 4\n\n| sexo &lt;dbl&gt; | edadmeses &lt;dbl&gt; | pesoalnacer &lt;dbl&gt; | edadmadre &lt;dbl&gt; |\n|---|---|---|---|\n| 0.4937946 | 31.28262 | 3.274454 | 30.61111 |\n\n",
            "text/latex": "A data.frame: 1 × 4\n\\begin{tabular}{llll}\n sexo & edadmeses & pesoalnacer & edadmadre\\\\\n <dbl> & <dbl> & <dbl> & <dbl>\\\\\n\\hline\n\t 0.4937946 & 31.28262 & 3.274454 & 30.61111\\\\\n\\end{tabular}\n",
            "text/plain": [
              "  sexo      edadmeses pesoalnacer edadmadre\n",
              "1 0.4937946 31.28262  3.274454    30.61111 "
            ]
          },
          "metadata": {}
        }
      ]
    },
    {
      "cell_type": "code",
      "source": [
        "mod_logit2 <- glm(d_anemia ~ sexo + edadmeses + pesoalnacer + edadmadre, \n",
        "  data=base, family=binomial(link=\"logit\"))\n",
        "summary(mod_logit2)"
      ],
      "metadata": {
        "colab": {
          "base_uri": "https://localhost:8080/",
          "height": 486
        },
        "id": "utIVEOnxq6yN",
        "outputId": "f0c59898-d39a-445f-ef52-604b7d33e739"
      },
      "execution_count": null,
      "outputs": [
        {
          "output_type": "display_data",
          "data": {
            "text/plain": [
              "\n",
              "Call:\n",
              "glm(formula = d_anemia ~ sexo + edadmeses + pesoalnacer + edadmadre, \n",
              "    family = binomial(link = \"logit\"), data = base)\n",
              "\n",
              "Deviance Residuals: \n",
              "    Min       1Q   Median       3Q      Max  \n",
              "-1.4762  -0.8679  -0.6104   1.1275   2.2650  \n",
              "\n",
              "Coefficients:\n",
              "             Estimate Std. Error z value Pr(>|z|)    \n",
              "(Intercept)  1.326068   0.125100  10.600  < 2e-16 ***\n",
              "sexo        -0.276963   0.032490  -8.525  < 2e-16 ***\n",
              "edadmeses   -0.044493   0.001072 -41.503  < 2e-16 ***\n",
              "pesoalnacer -0.082466   0.030560  -2.699  0.00696 ** \n",
              "edadmadre   -0.013004   0.002391  -5.439 5.36e-08 ***\n",
              "---\n",
              "Signif. codes:  0 ‘***’ 0.001 ‘**’ 0.01 ‘*’ 0.05 ‘.’ 0.1 ‘ ’ 1\n",
              "\n",
              "(Dispersion parameter for binomial family taken to be 1)\n",
              "\n",
              "    Null deviance: 24800  on 19861  degrees of freedom\n",
              "Residual deviance: 22663  on 19857  degrees of freedom\n",
              "  (604 observations deleted due to missingness)\n",
              "AIC: 22673\n",
              "\n",
              "Number of Fisher Scoring iterations: 3\n"
            ]
          },
          "metadata": {}
        }
      ]
    },
    {
      "cell_type": "code",
      "source": [
        "# b. Probabilidad predicha  -----------\n",
        "allmean$pred.prob <- predict(mod_logit2, newdata=allmean, type=\"response\")\n",
        "allmean"
      ],
      "metadata": {
        "colab": {
          "base_uri": "https://localhost:8080/",
          "height": 129
        },
        "id": "MbvgQ2Lrmgl6",
        "outputId": "a07a7fd4-fb58-4bc9-c53b-ce16685dd7b0"
      },
      "execution_count": null,
      "outputs": [
        {
          "output_type": "display_data",
          "data": {
            "text/html": [
              "<table class=\"dataframe\">\n",
              "<caption>A data.frame: 1 × 5</caption>\n",
              "<thead>\n",
              "\t<tr><th scope=col>sexo</th><th scope=col>edadmeses</th><th scope=col>pesoalnacer</th><th scope=col>edadmadre</th><th scope=col>pred.prob</th></tr>\n",
              "\t<tr><th scope=col>&lt;dbl&gt;</th><th scope=col>&lt;dbl&gt;</th><th scope=col>&lt;dbl&gt;</th><th scope=col>&lt;dbl&gt;</th><th scope=col>&lt;dbl&gt;</th></tr>\n",
              "</thead>\n",
              "<tbody>\n",
              "\t<tr><td>0.4937946</td><td>31.28262</td><td>3.274454</td><td>30.61111</td><td>0.2951217</td></tr>\n",
              "</tbody>\n",
              "</table>\n"
            ],
            "text/markdown": "\nA data.frame: 1 × 5\n\n| sexo &lt;dbl&gt; | edadmeses &lt;dbl&gt; | pesoalnacer &lt;dbl&gt; | edadmadre &lt;dbl&gt; | pred.prob &lt;dbl&gt; |\n|---|---|---|---|---|\n| 0.4937946 | 31.28262 | 3.274454 | 30.61111 | 0.2951217 |\n\n",
            "text/latex": "A data.frame: 1 × 5\n\\begin{tabular}{lllll}\n sexo & edadmeses & pesoalnacer & edadmadre & pred.prob\\\\\n <dbl> & <dbl> & <dbl> & <dbl> & <dbl>\\\\\n\\hline\n\t 0.4937946 & 31.28262 & 3.274454 & 30.61111 & 0.2951217\\\\\n\\end{tabular}\n",
            "text/plain": [
              "  sexo      edadmeses pesoalnacer edadmadre pred.prob\n",
              "1 0.4937946 31.28262  3.274454    30.61111  0.2951217"
            ]
          },
          "metadata": {}
        }
      ]
    },
    {
      "cell_type": "code",
      "source": [
        "# c. Ejemplos de probabilidades predichas en variables ------\n",
        "install.packages(\"margins\")\n",
        "library(margins)"
      ],
      "metadata": {
        "colab": {
          "base_uri": "https://localhost:8080/"
        },
        "id": "VfFdeYzYsh8Y",
        "outputId": "d63a6186-7937-4a96-daa3-2840ee403958"
      },
      "execution_count": null,
      "outputs": [
        {
          "output_type": "stream",
          "name": "stderr",
          "text": [
            "Installing package into ‘/usr/local/lib/R/site-library’\n",
            "(as ‘lib’ is unspecified)\n",
            "\n",
            "also installing the dependency ‘prediction’\n",
            "\n",
            "\n"
          ]
        }
      ]
    },
    {
      "cell_type": "code",
      "source": [
        "plog <- glm(d_anemia ~ sexo + edadmeses + pesoalnacer + edadmadre, \n",
        "            data = base,\n",
        "            family=binomial(link = \"logit\"))\n",
        "plog"
      ],
      "metadata": {
        "colab": {
          "base_uri": "https://localhost:8080/",
          "height": 225
        },
        "id": "AKhy5qCdslNt",
        "outputId": "ebafb97b-6273-4d39-dcc5-140738113efc"
      },
      "execution_count": null,
      "outputs": [
        {
          "output_type": "display_data",
          "data": {
            "text/plain": [
              "\n",
              "Call:  glm(formula = d_anemia ~ sexo + edadmeses + pesoalnacer + edadmadre, \n",
              "    family = binomial(link = \"logit\"), data = base)\n",
              "\n",
              "Coefficients:\n",
              "(Intercept)         sexo    edadmeses  pesoalnacer    edadmadre  \n",
              "    1.32607     -0.27696     -0.04449     -0.08247     -0.01300  \n",
              "\n",
              "Degrees of Freedom: 19861 Total (i.e. Null);  19857 Residual\n",
              "  (604 observations deleted due to missingness)\n",
              "Null Deviance:\t    24800 \n",
              "Residual Deviance: 22660 \tAIC: 22670"
            ]
          },
          "metadata": {}
        }
      ]
    },
    {
      "cell_type": "code",
      "source": [
        "#margins(plog)\n",
        "summary(margins(plog))\n",
        "plot(margins(plog))"
      ],
      "metadata": {
        "colab": {
          "base_uri": "https://localhost:8080/",
          "height": 644
        },
        "id": "q9o9w2sts4qV",
        "outputId": "fdd8a620-8cc6-4336-8c16-3668adef59f7"
      },
      "execution_count": null,
      "outputs": [
        {
          "output_type": "display_data",
          "data": {
            "text/html": [
              "<table class=\"dataframe\">\n",
              "<caption>A summary.margins: 4 × 7</caption>\n",
              "<thead>\n",
              "\t<tr><th></th><th scope=col>factor</th><th scope=col>AME</th><th scope=col>SE</th><th scope=col>z</th><th scope=col>p</th><th scope=col>lower</th><th scope=col>upper</th></tr>\n",
              "\t<tr><th></th><th scope=col>&lt;chr&gt;</th><th scope=col>&lt;dbl&gt;</th><th scope=col>&lt;dbl&gt;</th><th scope=col>&lt;dbl&gt;</th><th scope=col>&lt;dbl&gt;</th><th scope=col>&lt;dbl&gt;</th><th scope=col>&lt;dbl&gt;</th></tr>\n",
              "</thead>\n",
              "<tbody>\n",
              "\t<tr><th scope=row>1</th><td>edadmadre  </td><td>-0.002518063</td><td>0.0004618002</td><td> -5.452710</td><td>4.960782e-08</td><td>-0.003423174</td><td>-0.001612951</td></tr>\n",
              "\t<tr><th scope=row>2</th><td>edadmeses  </td><td>-0.008615600</td><td>0.0001744676</td><td>-49.382246</td><td>0.000000e+00</td><td>-0.008957550</td><td>-0.008273650</td></tr>\n",
              "\t<tr><th scope=row>3</th><td>pesoalnacer</td><td>-0.015968827</td><td>0.0059139399</td><td> -2.700201</td><td>6.929757e-03</td><td>-0.027559936</td><td>-0.004377718</td></tr>\n",
              "\t<tr><th scope=row>4</th><td>sexo       </td><td>-0.053631188</td><td>0.0062521124</td><td> -8.578091</td><td>9.646077e-18</td><td>-0.065885103</td><td>-0.041377273</td></tr>\n",
              "</tbody>\n",
              "</table>\n"
            ],
            "text/markdown": "\nA summary.margins: 4 × 7\n\n| <!--/--> | factor &lt;chr&gt; | AME &lt;dbl&gt; | SE &lt;dbl&gt; | z &lt;dbl&gt; | p &lt;dbl&gt; | lower &lt;dbl&gt; | upper &lt;dbl&gt; |\n|---|---|---|---|---|---|---|---|\n| 1 | edadmadre   | -0.002518063 | 0.0004618002 |  -5.452710 | 4.960782e-08 | -0.003423174 | -0.001612951 |\n| 2 | edadmeses   | -0.008615600 | 0.0001744676 | -49.382246 | 0.000000e+00 | -0.008957550 | -0.008273650 |\n| 3 | pesoalnacer | -0.015968827 | 0.0059139399 |  -2.700201 | 6.929757e-03 | -0.027559936 | -0.004377718 |\n| 4 | sexo        | -0.053631188 | 0.0062521124 |  -8.578091 | 9.646077e-18 | -0.065885103 | -0.041377273 |\n\n",
            "text/latex": "A summary.margins: 4 × 7\n\\begin{tabular}{r|lllllll}\n  & factor & AME & SE & z & p & lower & upper\\\\\n  & <chr> & <dbl> & <dbl> & <dbl> & <dbl> & <dbl> & <dbl>\\\\\n\\hline\n\t1 & edadmadre   & -0.002518063 & 0.0004618002 &  -5.452710 & 4.960782e-08 & -0.003423174 & -0.001612951\\\\\n\t2 & edadmeses   & -0.008615600 & 0.0001744676 & -49.382246 & 0.000000e+00 & -0.008957550 & -0.008273650\\\\\n\t3 & pesoalnacer & -0.015968827 & 0.0059139399 &  -2.700201 & 6.929757e-03 & -0.027559936 & -0.004377718\\\\\n\t4 & sexo        & -0.053631188 & 0.0062521124 &  -8.578091 & 9.646077e-18 & -0.065885103 & -0.041377273\\\\\n\\end{tabular}\n",
            "text/plain": [
              "  factor      AME          SE           z          p            lower       \n",
              "1 edadmadre   -0.002518063 0.0004618002  -5.452710 4.960782e-08 -0.003423174\n",
              "2 edadmeses   -0.008615600 0.0001744676 -49.382246 0.000000e+00 -0.008957550\n",
              "3 pesoalnacer -0.015968827 0.0059139399  -2.700201 6.929757e-03 -0.027559936\n",
              "4 sexo        -0.053631188 0.0062521124  -8.578091 9.646077e-18 -0.065885103\n",
              "  upper       \n",
              "1 -0.001612951\n",
              "2 -0.008273650\n",
              "3 -0.004377718\n",
              "4 -0.041377273"
            ]
          },
          "metadata": {}
        },
        {
          "output_type": "display_data",
          "data": {
            "text/plain": [
              "plot without title"
            ],
            "image/png": "[encoded data removed]"
          },
          "metadata": {
            "image/png": {
              "width": 420,
              "height": 420
            }
          }
        }
      ]
    },
    {
      "cell_type": "code",
      "source": [
        "margins(plog, at = list(edadmeses = 30:40))\n",
        "cplot(plog, \"edadmeses\", what = \"prediction\", main = \"Edad (meses)\")\n",
        "cplot(plog, \"pesoalnacer\", what = \"prediction\", main = \"Peso al nacer\")"
      ],
      "metadata": {
        "colab": {
          "base_uri": "https://localhost:8080/",
          "height": 1000
        },
        "id": "71jAtNVKs21x",
        "outputId": "7b8d3c6b-57dc-4a00-b22b-14a15ef97aea"
      },
      "execution_count": null,
      "outputs": [
        {
          "output_type": "display_data",
          "data": {
            "text/html": [
              "<table class=\"dataframe\">\n",
              "<caption>A margins: 218482 × 39</caption>\n",
              "<thead>\n",
              "\t<tr><th></th><th scope=col>HHID</th><th scope=col>HVIDX</th><th scope=col>HWIDX</th><th scope=col>BORD</th><th scope=col>sexo</th><th scope=col>pesoalnacer</th><th scope=col>edadmeses</th><th scope=col>edadniño012</th><th scope=col>edadniño1335</th><th scope=col>edadniño3659</th><th scope=col>⋯</th><th scope=col>dydx_sexo</th><th scope=col>dydx_edadmeses</th><th scope=col>dydx_pesoalnacer</th><th scope=col>dydx_edadmadre</th><th scope=col>Var_dydx_sexo</th><th scope=col>Var_dydx_edadmeses</th><th scope=col>Var_dydx_pesoalnacer</th><th scope=col>Var_dydx_edadmadre</th><th scope=col>_weights</th><th scope=col>_at_number</th></tr>\n",
              "\t<tr><th></th><th scope=col>&lt;chr&gt;</th><th scope=col>&lt;dbl&gt;</th><th scope=col>&lt;dbl&gt;</th><th scope=col>&lt;dbl&gt;</th><th scope=col>&lt;dbl&gt;</th><th scope=col>&lt;dbl&gt;</th><th scope=col>&lt;int&gt;</th><th scope=col>&lt;dbl&gt;</th><th scope=col>&lt;dbl&gt;</th><th scope=col>&lt;dbl&gt;</th><th scope=col>⋯</th><th scope=col>&lt;mrgnlffc&gt;</th><th scope=col>&lt;mrgnlffc&gt;</th><th scope=col>&lt;mrgnlffc&gt;</th><th scope=col>&lt;mrgnlffc&gt;</th><th scope=col>&lt;dbl&gt;</th><th scope=col>&lt;dbl&gt;</th><th scope=col>&lt;dbl&gt;</th><th scope=col>&lt;dbl&gt;</th><th scope=col>&lt;dbl&gt;</th><th scope=col>&lt;int&gt;</th></tr>\n",
              "</thead>\n",
              "<tbody>\n",
              "\t<tr><th scope=row>1</th><td>000100301</td><td>2</td><td>1</td><td>1</td><td>0</td><td>3.73</td><td>30</td><td>0</td><td>1</td><td>0</td><td>⋯</td><td>-0.05988074</td><td>-0.009619562</td><td>-0.01782965</td><td>-0.002811488</td><td>4.682664e-05</td><td>5.058436e-08</td><td>4.190342e-05</td><td>2.552518e-07</td><td>NA</td><td>1</td></tr>\n",
              "\t<tr><th scope=row>2</th><td>000100401</td><td>1</td><td>1</td><td>6</td><td>0</td><td>2.53</td><td>30</td><td>0</td><td>1</td><td>0</td><td>⋯</td><td>-0.06170372</td><td>-0.009912415</td><td>-0.01837244</td><td>-0.002897080</td><td>4.682664e-05</td><td>5.058436e-08</td><td>4.190342e-05</td><td>2.552518e-07</td><td>NA</td><td>1</td></tr>\n",
              "\t<tr><th scope=row>3</th><td>000100801</td><td>2</td><td>1</td><td>4</td><td>1</td><td>2.00</td><td>30</td><td>0</td><td>1</td><td>0</td><td>⋯</td><td>-0.05614699</td><td>-0.009019753</td><td>-0.01671792</td><td>-0.002636184</td><td>4.682664e-05</td><td>5.058436e-08</td><td>4.190342e-05</td><td>2.552518e-07</td><td>NA</td><td>1</td></tr>\n",
              "\t<tr><th scope=row>4</th><td>000104201</td><td>2</td><td>1</td><td>1</td><td>0</td><td>3.10</td><td>30</td><td>0</td><td>0</td><td>1</td><td>⋯</td><td>-0.06232499</td><td>-0.010012219</td><td>-0.01855743</td><td>-0.002926249</td><td>4.682664e-05</td><td>5.058436e-08</td><td>4.190342e-05</td><td>2.552518e-07</td><td>NA</td><td>1</td></tr>\n",
              "\t<tr><th scope=row>5</th><td>000107001</td><td>1</td><td>1</td><td>2</td><td>1</td><td>2.90</td><td>30</td><td>0</td><td>1</td><td>0</td><td>⋯</td><td>-0.05463091</td><td>-0.008776201</td><td>-0.01626650</td><td>-0.002565001</td><td>4.682664e-05</td><td>5.058436e-08</td><td>4.190342e-05</td><td>2.552518e-07</td><td>NA</td><td>1</td></tr>\n",
              "\t<tr><th scope=row>6</th><td>000205401</td><td>4</td><td>1</td><td>1</td><td>0</td><td>3.27</td><td>30</td><td>0</td><td>0</td><td>1</td><td>⋯</td><td>-0.06330041</td><td>-0.010168916</td><td>-0.01884786</td><td>-0.002972047</td><td>4.682664e-05</td><td>5.058436e-08</td><td>4.190342e-05</td><td>2.552518e-07</td><td>NA</td><td>1</td></tr>\n",
              "\t<tr><th scope=row>7</th><td>000206201</td><td>5</td><td>1</td><td>1</td><td>0</td><td>3.12</td><td>30</td><td>0</td><td>0</td><td>1</td><td>⋯</td><td>-0.05926378</td><td>-0.009520450</td><td>-0.01764595</td><td>-0.002782521</td><td>4.682664e-05</td><td>5.058436e-08</td><td>4.190342e-05</td><td>2.552518e-07</td><td>NA</td><td>1</td></tr>\n",
              "\t<tr><th scope=row>8</th><td>000207301</td><td>2</td><td>1</td><td>2</td><td>0</td><td>2.60</td><td>30</td><td>0</td><td>0</td><td>1</td><td>⋯</td><td>-0.05905763</td><td>-0.009487333</td><td>-0.01758456</td><td>-0.002772842</td><td>4.682664e-05</td><td>5.058436e-08</td><td>4.190342e-05</td><td>2.552518e-07</td><td>NA</td><td>1</td></tr>\n",
              "\t<tr><th scope=row>9</th><td>000207901</td><td>2</td><td>1</td><td>2</td><td>1</td><td>3.82</td><td>30</td><td>0</td><td>0</td><td>1</td><td>⋯</td><td>-0.05236507</td><td>-0.008412205</td><td>-0.01559184</td><td>-0.002458617</td><td>4.682664e-05</td><td>5.058436e-08</td><td>4.190342e-05</td><td>2.552518e-07</td><td>NA</td><td>1</td></tr>\n",
              "\t<tr><th scope=row>10</th><td>000300301</td><td>1</td><td>1</td><td>1</td><td>0</td><td>3.17</td><td>30</td><td>0</td><td>1</td><td>0</td><td>⋯</td><td>-0.06459365</td><td>-0.010376668</td><td>-0.01923293</td><td>-0.003032766</td><td>4.682664e-05</td><td>5.058436e-08</td><td>4.190342e-05</td><td>2.552518e-07</td><td>NA</td><td>1</td></tr>\n",
              "\t<tr><th scope=row>11</th><td>000300801</td><td>2</td><td>1</td><td>3</td><td>0</td><td>3.50</td><td>30</td><td>0</td><td>1</td><td>0</td><td>⋯</td><td>-0.06085239</td><td>-0.009775652</td><td>-0.01811896</td><td>-0.002857109</td><td>4.682664e-05</td><td>5.058436e-08</td><td>4.190342e-05</td><td>2.552518e-07</td><td>NA</td><td>1</td></tr>\n",
              "\t<tr><th scope=row>12</th><td>000300801</td><td>2</td><td>2</td><td>2</td><td>0</td><td>3.28</td><td>30</td><td>0</td><td>0</td><td>1</td><td>⋯</td><td>-0.06123343</td><td>-0.009836865</td><td>-0.01823242</td><td>-0.002874999</td><td>4.682664e-05</td><td>5.058436e-08</td><td>4.190342e-05</td><td>2.552518e-07</td><td>NA</td><td>1</td></tr>\n",
              "\t<tr><th scope=row>13</th><td>000304701</td><td>3</td><td>1</td><td>1</td><td>1</td><td>2.94</td><td>30</td><td>0</td><td>1</td><td>0</td><td>⋯</td><td>-0.05862627</td><td>-0.009418037</td><td>-0.01745613</td><td>-0.002752589</td><td>4.682664e-05</td><td>5.058436e-08</td><td>4.190342e-05</td><td>2.552518e-07</td><td>NA</td><td>1</td></tr>\n",
              "\t<tr><th scope=row>14</th><td>000310101</td><td>1</td><td>1</td><td>2</td><td>0</td><td>3.42</td><td>30</td><td>0</td><td>1</td><td>0</td><td>⋯</td><td>-0.06257186</td><td>-0.010051877</td><td>-0.01863094</td><td>-0.002937840</td><td>4.682664e-05</td><td>5.058436e-08</td><td>4.190342e-05</td><td>2.552518e-07</td><td>NA</td><td>1</td></tr>\n",
              "\t<tr><th scope=row>15</th><td>000310201</td><td>1</td><td>1</td><td>1</td><td>1</td><td>2.88</td><td>30</td><td>0</td><td>0</td><td>1</td><td>⋯</td><td>-0.05659552</td><td>-0.009091806</td><td>-0.01685146</td><td>-0.002657242</td><td>4.682664e-05</td><td>5.058436e-08</td><td>4.190342e-05</td><td>2.552518e-07</td><td>NA</td><td>1</td></tr>\n",
              "\t<tr><th scope=row>16</th><td>000401801</td><td>2</td><td>1</td><td>1</td><td>1</td><td>3.59</td><td>30</td><td>1</td><td>0</td><td>0</td><td>⋯</td><td>-0.05675168</td><td>-0.009116893</td><td>-0.01689796</td><td>-0.002664574</td><td>4.682664e-05</td><td>5.058436e-08</td><td>4.190342e-05</td><td>2.552518e-07</td><td>NA</td><td>1</td></tr>\n",
              "\t<tr><th scope=row>17</th><td>000403601</td><td>2</td><td>1</td><td>1</td><td>0</td><td>3.04</td><td>30</td><td>0</td><td>1</td><td>0</td><td>⋯</td><td>-0.06388099</td><td>-0.010262184</td><td>-0.01902073</td><td>-0.002999306</td><td>4.682664e-05</td><td>5.058436e-08</td><td>4.190342e-05</td><td>2.552518e-07</td><td>NA</td><td>1</td></tr>\n",
              "\t<tr><th scope=row>18</th><td>000404801</td><td>2</td><td>1</td><td>2</td><td>1</td><td>2.39</td><td>30</td><td>0</td><td>0</td><td>1</td><td>⋯</td><td>-0.05936041</td><td>-0.009535973</td><td>-0.01767472</td><td>-0.002787058</td><td>4.682664e-05</td><td>5.058436e-08</td><td>4.190342e-05</td><td>2.552518e-07</td><td>NA</td><td>1</td></tr>\n",
              "\t<tr><th scope=row>19</th><td>000500101</td><td>3</td><td>1</td><td>2</td><td>0</td><td>2.99</td><td>30</td><td>0</td><td>1</td><td>0</td><td>⋯</td><td>-0.06064053</td><td>-0.009741619</td><td>-0.01805588</td><td>-0.002847162</td><td>4.682664e-05</td><td>5.058436e-08</td><td>4.190342e-05</td><td>2.552518e-07</td><td>NA</td><td>1</td></tr>\n",
              "\t<tr><th scope=row>20</th><td>000500301</td><td>2</td><td>1</td><td>4</td><td>1</td><td>2.75</td><td>30</td><td>1</td><td>0</td><td>0</td><td>⋯</td><td>-0.05716564</td><td>-0.009183393</td><td>-0.01702122</td><td>-0.002684010</td><td>4.682664e-05</td><td>5.058436e-08</td><td>4.190342e-05</td><td>2.552518e-07</td><td>NA</td><td>1</td></tr>\n",
              "\t<tr><th scope=row>21</th><td>000500301</td><td>2</td><td>2</td><td>3</td><td>1</td><td>2.95</td><td>30</td><td>0</td><td>0</td><td>1</td><td>⋯</td><td>-0.05677007</td><td>-0.009119848</td><td>-0.01690344</td><td>-0.002665438</td><td>4.682664e-05</td><td>5.058436e-08</td><td>4.190342e-05</td><td>2.552518e-07</td><td>NA</td><td>1</td></tr>\n",
              "\t<tr><th scope=row>22</th><td>000504601</td><td>1</td><td>1</td><td>2</td><td>0</td><td>3.52</td><td>30</td><td>0</td><td>1</td><td>0</td><td>⋯</td><td>-0.06189386</td><td>-0.009942959</td><td>-0.01842906</td><td>-0.002906007</td><td>4.682664e-05</td><td>5.058436e-08</td><td>4.190342e-05</td><td>2.552518e-07</td><td>NA</td><td>1</td></tr>\n",
              "\t<tr><th scope=row>23</th><td>000506601</td><td>2</td><td>1</td><td>2</td><td>0</td><td>2.50</td><td>30</td><td>0</td><td>0</td><td>1</td><td>⋯</td><td>-0.06175402</td><td>-0.009920496</td><td>-0.01838742</td><td>-0.002899442</td><td>4.682664e-05</td><td>5.058436e-08</td><td>4.190342e-05</td><td>2.552518e-07</td><td>NA</td><td>1</td></tr>\n",
              "\t<tr><th scope=row>24</th><td>000509201</td><td>4</td><td>1</td><td>2</td><td>0</td><td>1.91</td><td>30</td><td>1</td><td>0</td><td>0</td><td>⋯</td><td>-0.06168567</td><td>-0.009909516</td><td>-0.01836707</td><td>-0.002896233</td><td>4.682664e-05</td><td>5.058436e-08</td><td>4.190342e-05</td><td>2.552518e-07</td><td>NA</td><td>1</td></tr>\n",
              "\t<tr><th scope=row>25</th><td>000509701</td><td>2</td><td>1</td><td>2</td><td>1</td><td>3.50</td><td>30</td><td>0</td><td>0</td><td>1</td><td>⋯</td><td>-0.05271047</td><td>-0.008467691</td><td>-0.01569468</td><td>-0.002474833</td><td>4.682664e-05</td><td>5.058436e-08</td><td>4.190342e-05</td><td>2.552518e-07</td><td>NA</td><td>1</td></tr>\n",
              "\t<tr><th scope=row>26</th><td>000611601</td><td>1</td><td>1</td><td>1</td><td>1</td><td>3.45</td><td>30</td><td>1</td><td>0</td><td>0</td><td>⋯</td><td>-0.05825584</td><td>-0.009358528</td><td>-0.01734583</td><td>-0.002735197</td><td>4.682664e-05</td><td>5.058436e-08</td><td>4.190342e-05</td><td>2.552518e-07</td><td>NA</td><td>1</td></tr>\n",
              "\t<tr><th scope=row>27</th><td>000612201</td><td>1</td><td>1</td><td>2</td><td>0</td><td>3.65</td><td>30</td><td>0</td><td>1</td><td>0</td><td>⋯</td><td>-0.06140968</td><td>-0.009865179</td><td>-0.01828489</td><td>-0.002883274</td><td>4.682664e-05</td><td>5.058436e-08</td><td>4.190342e-05</td><td>2.552518e-07</td><td>NA</td><td>1</td></tr>\n",
              "\t<tr><th scope=row>28</th><td>000613001</td><td>3</td><td>1</td><td>1</td><td>0</td><td>3.37</td><td>30</td><td>0</td><td>1</td><td>0</td><td>⋯</td><td>-0.06338835</td><td>-0.010183042</td><td>-0.01887405</td><td>-0.002976176</td><td>4.682664e-05</td><td>5.058436e-08</td><td>4.190342e-05</td><td>2.552518e-07</td><td>NA</td><td>1</td></tr>\n",
              "\t<tr><th scope=row>29</th><td>000622801</td><td>2</td><td>1</td><td>1</td><td>1</td><td>3.43</td><td>30</td><td>0</td><td>1</td><td>0</td><td>⋯</td><td>-0.05644180</td><td>-0.009067112</td><td>-0.01680569</td><td>-0.002650025</td><td>4.682664e-05</td><td>5.058436e-08</td><td>4.190342e-05</td><td>2.552518e-07</td><td>NA</td><td>1</td></tr>\n",
              "\t<tr><th scope=row>30</th><td>000700301</td><td>1</td><td>1</td><td>1</td><td>1</td><td>2.95</td><td>30</td><td>0</td><td>1</td><td>0</td><td>⋯</td><td>-0.05452735</td><td>-0.008759565</td><td>-0.01623566</td><td>-0.002560139</td><td>4.682664e-05</td><td>5.058436e-08</td><td>4.190342e-05</td><td>2.552518e-07</td><td>NA</td><td>1</td></tr>\n",
              "\t<tr><th scope=row>⋮</th><td>⋮</td><td>⋮</td><td>⋮</td><td>⋮</td><td>⋮</td><td>⋮</td><td>⋮</td><td>⋮</td><td>⋮</td><td>⋮</td><td>⋱</td><td>⋮</td><td>⋮</td><td>⋮</td><td>⋮</td><td>⋮</td><td>⋮</td><td>⋮</td><td>⋮</td><td>⋮</td><td>⋮</td></tr>\n",
              "\t<tr><th scope=row>218453</th><td>324803201</td><td>2</td><td>1</td><td>7</td><td>0</td><td>2.700</td><td>40</td><td>0</td><td>0</td><td>1</td><td>⋯</td><td>-0.05107496</td><td>-0.008204954</td><td>-0.01520770</td><td>-0.002398044</td><td>3.119786e-05</td><td>2.085156e-08</td><td>2.76687e-05</td><td>1.707521e-07</td><td>NA</td><td>11</td></tr>\n",
              "\t<tr><th scope=row>218454</th><td>324815301</td><td>1</td><td>1</td><td>2</td><td>0</td><td>3.450</td><td>40</td><td>0</td><td>1</td><td>0</td><td>⋯</td><td>-0.05217321</td><td>-0.008381382</td><td>-0.01553471</td><td>-0.002449608</td><td>3.119786e-05</td><td>2.085156e-08</td><td>2.76687e-05</td><td>1.707521e-07</td><td>NA</td><td>11</td></tr>\n",
              "\t<tr><th scope=row>218455</th><td>324815701</td><td>1</td><td>1</td><td>4</td><td>0</td><td>3.100</td><td>40</td><td>0</td><td>1</td><td>0</td><td>⋯</td><td>-0.04986657</td><td>-0.008010831</td><td>-0.01484790</td><td>-0.002341308</td><td>3.119786e-05</td><td>2.085156e-08</td><td>2.76687e-05</td><td>1.707521e-07</td><td>NA</td><td>11</td></tr>\n",
              "\t<tr><th scope=row>218456</th><td>324901101</td><td>2</td><td>1</td><td>3</td><td>0</td><td>3.000</td><td>40</td><td>0</td><td>1</td><td>0</td><td>⋯</td><td>-0.05510201</td><td>-0.008851881</td><td>-0.01640677</td><td>-0.002587120</td><td>3.119786e-05</td><td>2.085156e-08</td><td>2.76687e-05</td><td>1.707521e-07</td><td>NA</td><td>11</td></tr>\n",
              "\t<tr><th scope=row>218457</th><td>324901101</td><td>2</td><td>2</td><td>2</td><td>0</td><td>2.200</td><td>40</td><td>0</td><td>0</td><td>1</td><td>⋯</td><td>-0.05671982</td><td>-0.009111774</td><td>-0.01688848</td><td>-0.002663078</td><td>3.119786e-05</td><td>2.085156e-08</td><td>2.76687e-05</td><td>1.707521e-07</td><td>NA</td><td>11</td></tr>\n",
              "\t<tr><th scope=row>218458</th><td>324901501</td><td>1</td><td>1</td><td>3</td><td>0</td><td>2.200</td><td>40</td><td>1</td><td>0</td><td>0</td><td>⋯</td><td>-0.05512576</td><td>-0.008855697</td><td>-0.01641384</td><td>-0.002588235</td><td>3.119786e-05</td><td>2.085156e-08</td><td>2.76687e-05</td><td>1.707521e-07</td><td>NA</td><td>11</td></tr>\n",
              "\t<tr><th scope=row>218459</th><td>324909101</td><td>2</td><td>1</td><td>1</td><td>0</td><td>3.160</td><td>40</td><td>0</td><td>0</td><td>1</td><td>⋯</td><td>-0.05279067</td><td>-0.008480574</td><td>-0.01571856</td><td>-0.002478599</td><td>3.119786e-05</td><td>2.085156e-08</td><td>2.76687e-05</td><td>1.707521e-07</td><td>NA</td><td>11</td></tr>\n",
              "\t<tr><th scope=row>218460</th><td>324909401</td><td>2</td><td>1</td><td>4</td><td>1</td><td>2.390</td><td>40</td><td>0</td><td>1</td><td>0</td><td>⋯</td><td>-0.04199527</td><td>-0.006746344</td><td>-0.01250420</td><td>-0.001971739</td><td>3.119786e-05</td><td>2.085156e-08</td><td>2.76687e-05</td><td>1.707521e-07</td><td>NA</td><td>11</td></tr>\n",
              "\t<tr><th scope=row>218461</th><td>324909501</td><td>2</td><td>1</td><td>5</td><td>1</td><td>3.370</td><td>40</td><td>0</td><td>0</td><td>1</td><td>⋯</td><td>-0.04364091</td><td>-0.007010709</td><td>-0.01299420</td><td>-0.002049005</td><td>3.119786e-05</td><td>2.085156e-08</td><td>2.76687e-05</td><td>1.707521e-07</td><td>NA</td><td>11</td></tr>\n",
              "\t<tr><th scope=row>218462</th><td>325102401</td><td>2</td><td>1</td><td>4</td><td>1</td><td>3.000</td><td>40</td><td>0</td><td>1</td><td>0</td><td>⋯</td><td>-0.04826037</td><td>-0.007752804</td><td>-0.01436965</td><td>-0.002265895</td><td>3.119786e-05</td><td>2.085156e-08</td><td>2.76687e-05</td><td>1.707521e-07</td><td>NA</td><td>11</td></tr>\n",
              "\t<tr><th scope=row>218463</th><td>325205701</td><td>1</td><td>1</td><td>1</td><td>0</td><td>3.130</td><td>40</td><td>1</td><td>0</td><td>0</td><td>⋯</td><td>-0.05352033</td><td>-0.008597791</td><td>-0.01593582</td><td>-0.002512858</td><td>3.119786e-05</td><td>2.085156e-08</td><td>2.76687e-05</td><td>1.707521e-07</td><td>NA</td><td>11</td></tr>\n",
              "\t<tr><th scope=row>218464</th><td>325207101</td><td>2</td><td>1</td><td>2</td><td>1</td><td>2.900</td><td>40</td><td>0</td><td>1</td><td>0</td><td>⋯</td><td>-0.04123158</td><td>-0.006623662</td><td>-0.01227681</td><td>-0.001935883</td><td>3.119786e-05</td><td>2.085156e-08</td><td>2.76687e-05</td><td>1.707521e-07</td><td>NA</td><td>11</td></tr>\n",
              "\t<tr><th scope=row>218465</th><td>325207301</td><td>2</td><td>1</td><td>6</td><td>1</td><td>2.800</td><td>40</td><td>1</td><td>0</td><td>0</td><td>⋯</td><td>-0.04213231</td><td>-0.006768359</td><td>-0.01254501</td><td>-0.001978174</td><td>3.119786e-05</td><td>2.085156e-08</td><td>2.76687e-05</td><td>1.707521e-07</td><td>NA</td><td>11</td></tr>\n",
              "\t<tr><th scope=row>218466</th><td>325208601</td><td>2</td><td>1</td><td>7</td><td>1</td><td>2.800</td><td>40</td><td>0</td><td>1</td><td>0</td><td>⋯</td><td>-0.04110688</td><td>-0.006603629</td><td>-0.01223968</td><td>-0.001930028</td><td>3.119786e-05</td><td>2.085156e-08</td><td>2.76687e-05</td><td>1.707521e-07</td><td>NA</td><td>11</td></tr>\n",
              "\t<tr><th scope=row>218467</th><td>325303101</td><td>2</td><td>1</td><td>3</td><td>1</td><td>3.410</td><td>40</td><td>0</td><td>0</td><td>1</td><td>⋯</td><td>-0.04355339</td><td>-0.006996649</td><td>-0.01296814</td><td>-0.002044895</td><td>3.119786e-05</td><td>2.085156e-08</td><td>2.76687e-05</td><td>1.707521e-07</td><td>NA</td><td>11</td></tr>\n",
              "\t<tr><th scope=row>218468</th><td>325303501</td><td>2</td><td>1</td><td>3</td><td>0</td><td>3.700</td><td>40</td><td>0</td><td>0</td><td>1</td><td>⋯</td><td>-0.04993343</td><td>-0.008021573</td><td>-0.01486781</td><td>-0.002344448</td><td>3.119786e-05</td><td>2.085156e-08</td><td>2.76687e-05</td><td>1.707521e-07</td><td>NA</td><td>11</td></tr>\n",
              "\t<tr><th scope=row>218469</th><td>325303701</td><td>2</td><td>1</td><td>1</td><td>0</td><td>3.100</td><td>40</td><td>0</td><td>0</td><td>1</td><td>⋯</td><td>-0.05258314</td><td>-0.008447236</td><td>-0.01565677</td><td>-0.002468855</td><td>3.119786e-05</td><td>2.085156e-08</td><td>2.76687e-05</td><td>1.707521e-07</td><td>NA</td><td>11</td></tr>\n",
              "\t<tr><th scope=row>218470</th><td>325303901</td><td>6</td><td>1</td><td>1</td><td>1</td><td>2.650</td><td>40</td><td>0</td><td>0</td><td>1</td><td>⋯</td><td>-0.05005689</td><td>-0.008041406</td><td>-0.01490457</td><td>-0.002350244</td><td>3.119786e-05</td><td>2.085156e-08</td><td>2.76687e-05</td><td>1.707521e-07</td><td>NA</td><td>11</td></tr>\n",
              "\t<tr><th scope=row>218471</th><td>325304001</td><td>3</td><td>1</td><td>1</td><td>0</td><td>3.235</td><td>40</td><td>0</td><td>1</td><td>0</td><td>⋯</td><td>-0.05526681</td><td>-0.008878355</td><td>-0.01645584</td><td>-0.002594858</td><td>3.119786e-05</td><td>2.085156e-08</td><td>2.76687e-05</td><td>1.707521e-07</td><td>NA</td><td>11</td></tr>\n",
              "\t<tr><th scope=row>218472</th><td>325306601</td><td>2</td><td>1</td><td>4</td><td>0</td><td>3.400</td><td>40</td><td>0</td><td>0</td><td>1</td><td>⋯</td><td>-0.04506134</td><td>-0.007238895</td><td>-0.01341713</td><td>-0.002115696</td><td>3.119786e-05</td><td>2.085156e-08</td><td>2.76687e-05</td><td>1.707521e-07</td><td>NA</td><td>11</td></tr>\n",
              "\t<tr><th scope=row>218473</th><td>325306701</td><td>2</td><td>1</td><td>4</td><td>1</td><td>3.200</td><td>40</td><td>0</td><td>0</td><td>1</td><td>⋯</td><td>-0.04058420</td><td>-0.006519663</td><td>-0.01208405</td><td>-0.001905488</td><td>3.119786e-05</td><td>2.085156e-08</td><td>2.76687e-05</td><td>1.707521e-07</td><td>NA</td><td>11</td></tr>\n",
              "\t<tr><th scope=row>218474</th><td>325306901</td><td>1</td><td>1</td><td>3</td><td>0</td><td>3.200</td><td>40</td><td>0</td><td>1</td><td>0</td><td>⋯</td><td>-0.05169561</td><td>-0.008304658</td><td>-0.01539250</td><td>-0.002427184</td><td>3.119786e-05</td><td>2.085156e-08</td><td>2.76687e-05</td><td>1.707521e-07</td><td>NA</td><td>11</td></tr>\n",
              "\t<tr><th scope=row>218475</th><td>325312001</td><td>3</td><td>1</td><td>1</td><td>1</td><td>3.010</td><td>40</td><td>1</td><td>0</td><td>0</td><td>⋯</td><td>-0.04650781</td><td>-0.007471262</td><td>-0.01384782</td><td>-0.002183610</td><td>3.119786e-05</td><td>2.085156e-08</td><td>2.76687e-05</td><td>1.707521e-07</td><td>NA</td><td>11</td></tr>\n",
              "\t<tr><th scope=row>218476</th><td>325402301</td><td>2</td><td>1</td><td>2</td><td>0</td><td>3.110</td><td>40</td><td>0</td><td>1</td><td>0</td><td>⋯</td><td>-0.05356238</td><td>-0.008604546</td><td>-0.01594834</td><td>-0.002514832</td><td>3.119786e-05</td><td>2.085156e-08</td><td>2.76687e-05</td><td>1.707521e-07</td><td>NA</td><td>11</td></tr>\n",
              "\t<tr><th scope=row>218477</th><td>325402401</td><td>3</td><td>1</td><td>2</td><td>1</td><td>3.420</td><td>40</td><td>0</td><td>1</td><td>0</td><td>⋯</td><td>-0.04733914</td><td>-0.007604812</td><td>-0.01409535</td><td>-0.002222642</td><td>3.119786e-05</td><td>2.085156e-08</td><td>2.76687e-05</td><td>1.707521e-07</td><td>NA</td><td>11</td></tr>\n",
              "\t<tr><th scope=row>218478</th><td>325403101</td><td>2</td><td>1</td><td>9</td><td>0</td><td>4.410</td><td>40</td><td>0</td><td>1</td><td>0</td><td>⋯</td><td>-0.04492108</td><td>-0.007216361</td><td>-0.01337537</td><td>-0.002109110</td><td>3.119786e-05</td><td>2.085156e-08</td><td>2.76687e-05</td><td>1.707521e-07</td><td>NA</td><td>11</td></tr>\n",
              "\t<tr><th scope=row>218479</th><td>325403101</td><td>2</td><td>2</td><td>8</td><td>0</td><td>3.800</td><td>40</td><td>0</td><td>0</td><td>1</td><td>⋯</td><td>-0.04626129</td><td>-0.007431660</td><td>-0.01377442</td><td>-0.002172035</td><td>3.119786e-05</td><td>2.085156e-08</td><td>2.76687e-05</td><td>1.707521e-07</td><td>NA</td><td>11</td></tr>\n",
              "\t<tr><th scope=row>218480</th><td>325403401</td><td>3</td><td>1</td><td>7</td><td>1</td><td>3.100</td><td>40</td><td>1</td><td>0</td><td>0</td><td>⋯</td><td>-0.04285265</td><td>-0.006884078</td><td>-0.01275949</td><td>-0.002011995</td><td>3.119786e-05</td><td>2.085156e-08</td><td>2.76687e-05</td><td>1.707521e-07</td><td>NA</td><td>11</td></tr>\n",
              "\t<tr><th scope=row>218481</th><td>325410801</td><td>2</td><td>1</td><td>2</td><td>0</td><td>2.700</td><td>40</td><td>0</td><td>1</td><td>0</td><td>⋯</td><td>-0.05039283</td><td>-0.008095373</td><td>-0.01500460</td><td>-0.002366017</td><td>3.119786e-05</td><td>2.085156e-08</td><td>2.76687e-05</td><td>1.707521e-07</td><td>NA</td><td>11</td></tr>\n",
              "\t<tr><th scope=row>218482</th><td>325412501</td><td>2</td><td>1</td><td>3</td><td>1</td><td>4.100</td><td>40</td><td>0</td><td>1</td><td>0</td><td>⋯</td><td>-0.04000571</td><td>-0.006426732</td><td>-0.01191181</td><td>-0.001878327</td><td>3.119786e-05</td><td>2.085156e-08</td><td>2.76687e-05</td><td>1.707521e-07</td><td>NA</td><td>11</td></tr>\n",
              "</tbody>\n",
              "</table>\n"
            ],
            "text/markdown": "\nA margins: 218482 × 39\n\n| <!--/--> | HHID &lt;chr&gt; | HVIDX &lt;dbl&gt; | HWIDX &lt;dbl&gt; | BORD &lt;dbl&gt; | sexo &lt;dbl&gt; | pesoalnacer &lt;dbl&gt; | edadmeses &lt;int&gt; | edadniño012 &lt;dbl&gt; | edadniño1335 &lt;dbl&gt; | edadniño3659 &lt;dbl&gt; | ⋯ ⋯ | dydx_sexo &lt;mrgnlffc&gt; | dydx_edadmeses &lt;mrgnlffc&gt; | dydx_pesoalnacer &lt;mrgnlffc&gt; | dydx_edadmadre &lt;mrgnlffc&gt; | Var_dydx_sexo &lt;dbl&gt; | Var_dydx_edadmeses &lt;dbl&gt; | Var_dydx_pesoalnacer &lt;dbl&gt; | Var_dydx_edadmadre &lt;dbl&gt; | _weights &lt;dbl&gt; | _at_number &lt;int&gt; |\n|---|---|---|---|---|---|---|---|---|---|---|---|---|---|---|---|---|---|---|---|---|---|\n| 1 | 000100301 | 2 | 1 | 1 | 0 | 3.73 | 30 | 0 | 1 | 0 | ⋯ | -0.05988074 | -0.009619562 | -0.01782965 | -0.002811488 | 4.682664e-05 | 5.058436e-08 | 4.190342e-05 | 2.552518e-07 | NA | 1 |\n| 2 | 000100401 | 1 | 1 | 6 | 0 | 2.53 | 30 | 0 | 1 | 0 | ⋯ | -0.06170372 | -0.009912415 | -0.01837244 | -0.002897080 | 4.682664e-05 | 5.058436e-08 | 4.190342e-05 | 2.552518e-07 | NA | 1 |\n| 3 | 000100801 | 2 | 1 | 4 | 1 | 2.00 | 30 | 0 | 1 | 0 | ⋯ | -0.05614699 | -0.009019753 | -0.01671792 | -0.002636184 | 4.682664e-05 | 5.058436e-08 | 4.190342e-05 | 2.552518e-07 | NA | 1 |\n| 4 | 000104201 | 2 | 1 | 1 | 0 | 3.10 | 30 | 0 | 0 | 1 | ⋯ | -0.06232499 | -0.010012219 | -0.01855743 | -0.002926249 | 4.682664e-05 | 5.058436e-08 | 4.190342e-05 | 2.552518e-07 | NA | 1 |\n| 5 | 000107001 | 1 | 1 | 2 | 1 | 2.90 | 30 | 0 | 1 | 0 | ⋯ | -0.05463091 | -0.008776201 | -0.01626650 | -0.002565001 | 4.682664e-05 | 5.058436e-08 | 4.190342e-05 | 2.552518e-07 | NA | 1 |\n| 6 | 000205401 | 4 | 1 | 1 | 0 | 3.27 | 30 | 0 | 0 | 1 | ⋯ | -0.06330041 | -0.010168916 | -0.01884786 | -0.002972047 | 4.682664e-05 | 5.058436e-08 | 4.190342e-05 | 2.552518e-07 | NA | 1 |\n| 7 | 000206201 | 5 | 1 | 1 | 0 | 3.12 | 30 | 0 | 0 | 1 | ⋯ | -0.05926378 | -0.009520450 | -0.01764595 | -0.002782521 | 4.682664e-05 | 5.058436e-08 | 4.190342e-05 | 2.552518e-07 | NA | 1 |\n| 8 | 000207301 | 2 | 1 | 2 | 0 | 2.60 | 30 | 0 | 0 | 1 | ⋯ | -0.05905763 | -0.009487333 | -0.01758456 | -0.002772842 | 4.682664e-05 | 5.058436e-08 | 4.190342e-05 | 2.552518e-07 | NA | 1 |\n| 9 | 000207901 | 2 | 1 | 2 | 1 | 3.82 | 30 | 0 | 0 | 1 | ⋯ | -0.05236507 | -0.008412205 | -0.01559184 | -0.002458617 | 4.682664e-05 | 5.058436e-08 | 4.190342e-05 | 2.552518e-07 | NA | 1 |\n| 10 | 000300301 | 1 | 1 | 1 | 0 | 3.17 | 30 | 0 | 1 | 0 | ⋯ | -0.06459365 | -0.010376668 | -0.01923293 | -0.003032766 | 4.682664e-05 | 5.058436e-08 | 4.190342e-05 | 2.552518e-07 | NA | 1 |\n| 11 | 000300801 | 2 | 1 | 3 | 0 | 3.50 | 30 | 0 | 1 | 0 | ⋯ | -0.06085239 | -0.009775652 | -0.01811896 | -0.002857109 | 4.682664e-05 | 5.058436e-08 | 4.190342e-05 | 2.552518e-07 | NA | 1 |\n| 12 | 000300801 | 2 | 2 | 2 | 0 | 3.28 | 30 | 0 | 0 | 1 | ⋯ | -0.06123343 | -0.009836865 | -0.01823242 | -0.002874999 | 4.682664e-05 | 5.058436e-08 | 4.190342e-05 | 2.552518e-07 | NA | 1 |\n| 13 | 000304701 | 3 | 1 | 1 | 1 | 2.94 | 30 | 0 | 1 | 0 | ⋯ | -0.05862627 | -0.009418037 | -0.01745613 | -0.002752589 | 4.682664e-05 | 5.058436e-08 | 4.190342e-05 | 2.552518e-07 | NA | 1 |\n| 14 | 000310101 | 1 | 1 | 2 | 0 | 3.42 | 30 | 0 | 1 | 0 | ⋯ | -0.06257186 | -0.010051877 | -0.01863094 | -0.002937840 | 4.682664e-05 | 5.058436e-08 | 4.190342e-05 | 2.552518e-07 | NA | 1 |\n| 15 | 000310201 | 1 | 1 | 1 | 1 | 2.88 | 30 | 0 | 0 | 1 | ⋯ | -0.05659552 | -0.009091806 | -0.01685146 | -0.002657242 | 4.682664e-05 | 5.058436e-08 | 4.190342e-05 | 2.552518e-07 | NA | 1 |\n| 16 | 000401801 | 2 | 1 | 1 | 1 | 3.59 | 30 | 1 | 0 | 0 | ⋯ | -0.05675168 | -0.009116893 | -0.01689796 | -0.002664574 | 4.682664e-05 | 5.058436e-08 | 4.190342e-05 | 2.552518e-07 | NA | 1 |\n| 17 | 000403601 | 2 | 1 | 1 | 0 | 3.04 | 30 | 0 | 1 | 0 | ⋯ | -0.06388099 | -0.010262184 | -0.01902073 | -0.002999306 | 4.682664e-05 | 5.058436e-08 | 4.190342e-05 | 2.552518e-07 | NA | 1 |\n| 18 | 000404801 | 2 | 1 | 2 | 1 | 2.39 | 30 | 0 | 0 | 1 | ⋯ | -0.05936041 | -0.009535973 | -0.01767472 | -0.002787058 | 4.682664e-05 | 5.058436e-08 | 4.190342e-05 | 2.552518e-07 | NA | 1 |\n| 19 | 000500101 | 3 | 1 | 2 | 0 | 2.99 | 30 | 0 | 1 | 0 | ⋯ | -0.06064053 | -0.009741619 | -0.01805588 | -0.002847162 | 4.682664e-05 | 5.058436e-08 | 4.190342e-05 | 2.552518e-07 | NA | 1 |\n| 20 | 000500301 | 2 | 1 | 4 | 1 | 2.75 | 30 | 1 | 0 | 0 | ⋯ | -0.05716564 | -0.009183393 | -0.01702122 | -0.002684010 | 4.682664e-05 | 5.058436e-08 | 4.190342e-05 | 2.552518e-07 | NA | 1 |\n| 21 | 000500301 | 2 | 2 | 3 | 1 | 2.95 | 30 | 0 | 0 | 1 | ⋯ | -0.05677007 | -0.009119848 | -0.01690344 | -0.002665438 | 4.682664e-05 | 5.058436e-08 | 4.190342e-05 | 2.552518e-07 | NA | 1 |\n| 22 | 000504601 | 1 | 1 | 2 | 0 | 3.52 | 30 | 0 | 1 | 0 | ⋯ | -0.06189386 | -0.009942959 | -0.01842906 | -0.002906007 | 4.682664e-05 | 5.058436e-08 | 4.190342e-05 | 2.552518e-07 | NA | 1 |\n| 23 | 000506601 | 2 | 1 | 2 | 0 | 2.50 | 30 | 0 | 0 | 1 | ⋯ | -0.06175402 | -0.009920496 | -0.01838742 | -0.002899442 | 4.682664e-05 | 5.058436e-08 | 4.190342e-05 | 2.552518e-07 | NA | 1 |\n| 24 | 000509201 | 4 | 1 | 2 | 0 | 1.91 | 30 | 1 | 0 | 0 | ⋯ | -0.06168567 | -0.009909516 | -0.01836707 | -0.002896233 | 4.682664e-05 | 5.058436e-08 | 4.190342e-05 | 2.552518e-07 | NA | 1 |\n| 25 | 000509701 | 2 | 1 | 2 | 1 | 3.50 | 30 | 0 | 0 | 1 | ⋯ | -0.05271047 | -0.008467691 | -0.01569468 | -0.002474833 | 4.682664e-05 | 5.058436e-08 | 4.190342e-05 | 2.552518e-07 | NA | 1 |\n| 26 | 000611601 | 1 | 1 | 1 | 1 | 3.45 | 30 | 1 | 0 | 0 | ⋯ | -0.05825584 | -0.009358528 | -0.01734583 | -0.002735197 | 4.682664e-05 | 5.058436e-08 | 4.190342e-05 | 2.552518e-07 | NA | 1 |\n| 27 | 000612201 | 1 | 1 | 2 | 0 | 3.65 | 30 | 0 | 1 | 0 | ⋯ | -0.06140968 | -0.009865179 | -0.01828489 | -0.002883274 | 4.682664e-05 | 5.058436e-08 | 4.190342e-05 | 2.552518e-07 | NA | 1 |\n| 28 | 000613001 | 3 | 1 | 1 | 0 | 3.37 | 30 | 0 | 1 | 0 | ⋯ | -0.06338835 | -0.010183042 | -0.01887405 | -0.002976176 | 4.682664e-05 | 5.058436e-08 | 4.190342e-05 | 2.552518e-07 | NA | 1 |\n| 29 | 000622801 | 2 | 1 | 1 | 1 | 3.43 | 30 | 0 | 1 | 0 | ⋯ | -0.05644180 | -0.009067112 | -0.01680569 | -0.002650025 | 4.682664e-05 | 5.058436e-08 | 4.190342e-05 | 2.552518e-07 | NA | 1 |\n| 30 | 000700301 | 1 | 1 | 1 | 1 | 2.95 | 30 | 0 | 1 | 0 | ⋯ | -0.05452735 | -0.008759565 | -0.01623566 | -0.002560139 | 4.682664e-05 | 5.058436e-08 | 4.190342e-05 | 2.552518e-07 | NA | 1 |\n| ⋮ | ⋮ | ⋮ | ⋮ | ⋮ | ⋮ | ⋮ | ⋮ | ⋮ | ⋮ | ⋮ | ⋱ | ⋮ | ⋮ | ⋮ | ⋮ | ⋮ | ⋮ | ⋮ | ⋮ | ⋮ | ⋮ |\n| 218453 | 324803201 | 2 | 1 | 7 | 0 | 2.700 | 40 | 0 | 0 | 1 | ⋯ | -0.05107496 | -0.008204954 | -0.01520770 | -0.002398044 | 3.119786e-05 | 2.085156e-08 | 2.76687e-05 | 1.707521e-07 | NA | 11 |\n| 218454 | 324815301 | 1 | 1 | 2 | 0 | 3.450 | 40 | 0 | 1 | 0 | ⋯ | -0.05217321 | -0.008381382 | -0.01553471 | -0.002449608 | 3.119786e-05 | 2.085156e-08 | 2.76687e-05 | 1.707521e-07 | NA | 11 |\n| 218455 | 324815701 | 1 | 1 | 4 | 0 | 3.100 | 40 | 0 | 1 | 0 | ⋯ | -0.04986657 | -0.008010831 | -0.01484790 | -0.002341308 | 3.119786e-05 | 2.085156e-08 | 2.76687e-05 | 1.707521e-07 | NA | 11 |\n| 218456 | 324901101 | 2 | 1 | 3 | 0 | 3.000 | 40 | 0 | 1 | 0 | ⋯ | -0.05510201 | -0.008851881 | -0.01640677 | -0.002587120 | 3.119786e-05 | 2.085156e-08 | 2.76687e-05 | 1.707521e-07 | NA | 11 |\n| 218457 | 324901101 | 2 | 2 | 2 | 0 | 2.200 | 40 | 0 | 0 | 1 | ⋯ | -0.05671982 | -0.009111774 | -0.01688848 | -0.002663078 | 3.119786e-05 | 2.085156e-08 | 2.76687e-05 | 1.707521e-07 | NA | 11 |\n| 218458 | 324901501 | 1 | 1 | 3 | 0 | 2.200 | 40 | 1 | 0 | 0 | ⋯ | -0.05512576 | -0.008855697 | -0.01641384 | -0.002588235 | 3.119786e-05 | 2.085156e-08 | 2.76687e-05 | 1.707521e-07 | NA | 11 |\n| 218459 | 324909101 | 2 | 1 | 1 | 0 | 3.160 | 40 | 0 | 0 | 1 | ⋯ | -0.05279067 | -0.008480574 | -0.01571856 | -0.002478599 | 3.119786e-05 | 2.085156e-08 | 2.76687e-05 | 1.707521e-07 | NA | 11 |\n| 218460 | 324909401 | 2 | 1 | 4 | 1 | 2.390 | 40 | 0 | 1 | 0 | ⋯ | -0.04199527 | -0.006746344 | -0.01250420 | -0.001971739 | 3.119786e-05 | 2.085156e-08 | 2.76687e-05 | 1.707521e-07 | NA | 11 |\n| 218461 | 324909501 | 2 | 1 | 5 | 1 | 3.370 | 40 | 0 | 0 | 1 | ⋯ | -0.04364091 | -0.007010709 | -0.01299420 | -0.002049005 | 3.119786e-05 | 2.085156e-08 | 2.76687e-05 | 1.707521e-07 | NA | 11 |\n| 218462 | 325102401 | 2 | 1 | 4 | 1 | 3.000 | 40 | 0 | 1 | 0 | ⋯ | -0.04826037 | -0.007752804 | -0.01436965 | -0.002265895 | 3.119786e-05 | 2.085156e-08 | 2.76687e-05 | 1.707521e-07 | NA | 11 |\n| 218463 | 325205701 | 1 | 1 | 1 | 0 | 3.130 | 40 | 1 | 0 | 0 | ⋯ | -0.05352033 | -0.008597791 | -0.01593582 | -0.002512858 | 3.119786e-05 | 2.085156e-08 | 2.76687e-05 | 1.707521e-07 | NA | 11 |\n| 218464 | 325207101 | 2 | 1 | 2 | 1 | 2.900 | 40 | 0 | 1 | 0 | ⋯ | -0.04123158 | -0.006623662 | -0.01227681 | -0.001935883 | 3.119786e-05 | 2.085156e-08 | 2.76687e-05 | 1.707521e-07 | NA | 11 |\n| 218465 | 325207301 | 2 | 1 | 6 | 1 | 2.800 | 40 | 1 | 0 | 0 | ⋯ | -0.04213231 | -0.006768359 | -0.01254501 | -0.001978174 | 3.119786e-05 | 2.085156e-08 | 2.76687e-05 | 1.707521e-07 | NA | 11 |\n| 218466 | 325208601 | 2 | 1 | 7 | 1 | 2.800 | 40 | 0 | 1 | 0 | ⋯ | -0.04110688 | -0.006603629 | -0.01223968 | -0.001930028 | 3.119786e-05 | 2.085156e-08 | 2.76687e-05 | 1.707521e-07 | NA | 11 |\n| 218467 | 325303101 | 2 | 1 | 3 | 1 | 3.410 | 40 | 0 | 0 | 1 | ⋯ | -0.04355339 | -0.006996649 | -0.01296814 | -0.002044895 | 3.119786e-05 | 2.085156e-08 | 2.76687e-05 | 1.707521e-07 | NA | 11 |\n| 218468 | 325303501 | 2 | 1 | 3 | 0 | 3.700 | 40 | 0 | 0 | 1 | ⋯ | -0.04993343 | -0.008021573 | -0.01486781 | -0.002344448 | 3.119786e-05 | 2.085156e-08 | 2.76687e-05 | 1.707521e-07 | NA | 11 |\n| 218469 | 325303701 | 2 | 1 | 1 | 0 | 3.100 | 40 | 0 | 0 | 1 | ⋯ | -0.05258314 | -0.008447236 | -0.01565677 | -0.002468855 | 3.119786e-05 | 2.085156e-08 | 2.76687e-05 | 1.707521e-07 | NA | 11 |\n| 218470 | 325303901 | 6 | 1 | 1 | 1 | 2.650 | 40 | 0 | 0 | 1 | ⋯ | -0.05005689 | -0.008041406 | -0.01490457 | -0.002350244 | 3.119786e-05 | 2.085156e-08 | 2.76687e-05 | 1.707521e-07 | NA | 11 |\n| 218471 | 325304001 | 3 | 1 | 1 | 0 | 3.235 | 40 | 0 | 1 | 0 | ⋯ | -0.05526681 | -0.008878355 | -0.01645584 | -0.002594858 | 3.119786e-05 | 2.085156e-08 | 2.76687e-05 | 1.707521e-07 | NA | 11 |\n| 218472 | 325306601 | 2 | 1 | 4 | 0 | 3.400 | 40 | 0 | 0 | 1 | ⋯ | -0.04506134 | -0.007238895 | -0.01341713 | -0.002115696 | 3.119786e-05 | 2.085156e-08 | 2.76687e-05 | 1.707521e-07 | NA | 11 |\n| 218473 | 325306701 | 2 | 1 | 4 | 1 | 3.200 | 40 | 0 | 0 | 1 | ⋯ | -0.04058420 | -0.006519663 | -0.01208405 | -0.001905488 | 3.119786e-05 | 2.085156e-08 | 2.76687e-05 | 1.707521e-07 | NA | 11 |\n| 218474 | 325306901 | 1 | 1 | 3 | 0 | 3.200 | 40 | 0 | 1 | 0 | ⋯ | -0.05169561 | -0.008304658 | -0.01539250 | -0.002427184 | 3.119786e-05 | 2.085156e-08 | 2.76687e-05 | 1.707521e-07 | NA | 11 |\n| 218475 | 325312001 | 3 | 1 | 1 | 1 | 3.010 | 40 | 1 | 0 | 0 | ⋯ | -0.04650781 | -0.007471262 | -0.01384782 | -0.002183610 | 3.119786e-05 | 2.085156e-08 | 2.76687e-05 | 1.707521e-07 | NA | 11 |\n| 218476 | 325402301 | 2 | 1 | 2 | 0 | 3.110 | 40 | 0 | 1 | 0 | ⋯ | -0.05356238 | -0.008604546 | -0.01594834 | -0.002514832 | 3.119786e-05 | 2.085156e-08 | 2.76687e-05 | 1.707521e-07 | NA | 11 |\n| 218477 | 325402401 | 3 | 1 | 2 | 1 | 3.420 | 40 | 0 | 1 | 0 | ⋯ | -0.04733914 | -0.007604812 | -0.01409535 | -0.002222642 | 3.119786e-05 | 2.085156e-08 | 2.76687e-05 | 1.707521e-07 | NA | 11 |\n| 218478 | 325403101 | 2 | 1 | 9 | 0 | 4.410 | 40 | 0 | 1 | 0 | ⋯ | -0.04492108 | -0.007216361 | -0.01337537 | -0.002109110 | 3.119786e-05 | 2.085156e-08 | 2.76687e-05 | 1.707521e-07 | NA | 11 |\n| 218479 | 325403101 | 2 | 2 | 8 | 0 | 3.800 | 40 | 0 | 0 | 1 | ⋯ | -0.04626129 | -0.007431660 | -0.01377442 | -0.002172035 | 3.119786e-05 | 2.085156e-08 | 2.76687e-05 | 1.707521e-07 | NA | 11 |\n| 218480 | 325403401 | 3 | 1 | 7 | 1 | 3.100 | 40 | 1 | 0 | 0 | ⋯ | -0.04285265 | -0.006884078 | -0.01275949 | -0.002011995 | 3.119786e-05 | 2.085156e-08 | 2.76687e-05 | 1.707521e-07 | NA | 11 |\n| 218481 | 325410801 | 2 | 1 | 2 | 0 | 2.700 | 40 | 0 | 1 | 0 | ⋯ | -0.05039283 | -0.008095373 | -0.01500460 | -0.002366017 | 3.119786e-05 | 2.085156e-08 | 2.76687e-05 | 1.707521e-07 | NA | 11 |\n| 218482 | 325412501 | 2 | 1 | 3 | 1 | 4.100 | 40 | 0 | 1 | 0 | ⋯ | -0.04000571 | -0.006426732 | -0.01191181 | -0.001878327 | 3.119786e-05 | 2.085156e-08 | 2.76687e-05 | 1.707521e-07 | NA | 11 |\n\n",
            "text/latex": "A margins: 218482 × 39\n\\begin{tabular}{r|lllllllllllllllllllll}\n  & HHID & HVIDX & HWIDX & BORD & sexo & pesoalnacer & edadmeses & edadniño012 & edadniño1335 & edadniño3659 & ⋯ & dydx\\_sexo & dydx\\_edadmeses & dydx\\_pesoalnacer & dydx\\_edadmadre & Var\\_dydx\\_sexo & Var\\_dydx\\_edadmeses & Var\\_dydx\\_pesoalnacer & Var\\_dydx\\_edadmadre & \\_weights & \\_at\\_number\\\\\n  & <chr> & <dbl> & <dbl> & <dbl> & <dbl> & <dbl> & <int> & <dbl> & <dbl> & <dbl> & ⋯ & <mrgnlffc> & <mrgnlffc> & <mrgnlffc> & <mrgnlffc> & <dbl> & <dbl> & <dbl> & <dbl> & <dbl> & <int>\\\\\n\\hline\n\t1 & 000100301 & 2 & 1 & 1 & 0 & 3.73 & 30 & 0 & 1 & 0 & ⋯ & -0.05988074 & -0.009619562 & -0.01782965 & -0.002811488 & 4.682664e-05 & 5.058436e-08 & 4.190342e-05 & 2.552518e-07 & NA & 1\\\\\n\t2 & 000100401 & 1 & 1 & 6 & 0 & 2.53 & 30 & 0 & 1 & 0 & ⋯ & -0.06170372 & -0.009912415 & -0.01837244 & -0.002897080 & 4.682664e-05 & 5.058436e-08 & 4.190342e-05 & 2.552518e-07 & NA & 1\\\\\n\t3 & 000100801 & 2 & 1 & 4 & 1 & 2.00 & 30 & 0 & 1 & 0 & ⋯ & -0.05614699 & -0.009019753 & -0.01671792 & -0.002636184 & 4.682664e-05 & 5.058436e-08 & 4.190342e-05 & 2.552518e-07 & NA & 1\\\\\n\t4 & 000104201 & 2 & 1 & 1 & 0 & 3.10 & 30 & 0 & 0 & 1 & ⋯ & -0.06232499 & -0.010012219 & -0.01855743 & -0.002926249 & 4.682664e-05 & 5.058436e-08 & 4.190342e-05 & 2.552518e-07 & NA & 1\\\\\n\t5 & 000107001 & 1 & 1 & 2 & 1 & 2.90 & 30 & 0 & 1 & 0 & ⋯ & -0.05463091 & -0.008776201 & -0.01626650 & -0.002565001 & 4.682664e-05 & 5.058436e-08 & 4.190342e-05 & 2.552518e-07 & NA & 1\\\\\n\t6 & 000205401 & 4 & 1 & 1 & 0 & 3.27 & 30 & 0 & 0 & 1 & ⋯ & -0.06330041 & -0.010168916 & -0.01884786 & -0.002972047 & 4.682664e-05 & 5.058436e-08 & 4.190342e-05 & 2.552518e-07 & NA & 1\\\\\n\t7 & 000206201 & 5 & 1 & 1 & 0 & 3.12 & 30 & 0 & 0 & 1 & ⋯ & -0.05926378 & -0.009520450 & -0.01764595 & -0.002782521 & 4.682664e-05 & 5.058436e-08 & 4.190342e-05 & 2.552518e-07 & NA & 1\\\\\n\t8 & 000207301 & 2 & 1 & 2 & 0 & 2.60 & 30 & 0 & 0 & 1 & ⋯ & -0.05905763 & -0.009487333 & -0.01758456 & -0.002772842 & 4.682664e-05 & 5.058436e-08 & 4.190342e-05 & 2.552518e-07 & NA & 1\\\\\n\t9 & 000207901 & 2 & 1 & 2 & 1 & 3.82 & 30 & 0 & 0 & 1 & ⋯ & -0.05236507 & -0.008412205 & -0.01559184 & -0.002458617 & 4.682664e-05 & 5.058436e-08 & 4.190342e-05 & 2.552518e-07 & NA & 1\\\\\n\t10 & 000300301 & 1 & 1 & 1 & 0 & 3.17 & 30 & 0 & 1 & 0 & ⋯ & -0.06459365 & -0.010376668 & -0.01923293 & -0.003032766 & 4.682664e-05 & 5.058436e-08 & 4.190342e-05 & 2.552518e-07 & NA & 1\\\\\n\t11 & 000300801 & 2 & 1 & 3 & 0 & 3.50 & 30 & 0 & 1 & 0 & ⋯ & -0.06085239 & -0.009775652 & -0.01811896 & -0.002857109 & 4.682664e-05 & 5.058436e-08 & 4.190342e-05 & 2.552518e-07 & NA & 1\\\\\n\t12 & 000300801 & 2 & 2 & 2 & 0 & 3.28 & 30 & 0 & 0 & 1 & ⋯ & -0.06123343 & -0.009836865 & -0.01823242 & -0.002874999 & 4.682664e-05 & 5.058436e-08 & 4.190342e-05 & 2.552518e-07 & NA & 1\\\\\n\t13 & 000304701 & 3 & 1 & 1 & 1 & 2.94 & 30 & 0 & 1 & 0 & ⋯ & -0.05862627 & -0.009418037 & -0.01745613 & -0.002752589 & 4.682664e-05 & 5.058436e-08 & 4.190342e-05 & 2.552518e-07 & NA & 1\\\\\n\t14 & 000310101 & 1 & 1 & 2 & 0 & 3.42 & 30 & 0 & 1 & 0 & ⋯ & -0.06257186 & -0.010051877 & -0.01863094 & -0.002937840 & 4.682664e-05 & 5.058436e-08 & 4.190342e-05 & 2.552518e-07 & NA & 1\\\\\n\t15 & 000310201 & 1 & 1 & 1 & 1 & 2.88 & 30 & 0 & 0 & 1 & ⋯ & -0.05659552 & -0.009091806 & -0.01685146 & -0.002657242 & 4.682664e-05 & 5.058436e-08 & 4.190342e-05 & 2.552518e-07 & NA & 1\\\\\n\t16 & 000401801 & 2 & 1 & 1 & 1 & 3.59 & 30 & 1 & 0 & 0 & ⋯ & -0.05675168 & -0.009116893 & -0.01689796 & -0.002664574 & 4.682664e-05 & 5.058436e-08 & 4.190342e-05 & 2.552518e-07 & NA & 1\\\\\n\t17 & 000403601 & 2 & 1 & 1 & 0 & 3.04 & 30 & 0 & 1 & 0 & ⋯ & -0.06388099 & -0.010262184 & -0.01902073 & -0.002999306 & 4.682664e-05 & 5.058436e-08 & 4.190342e-05 & 2.552518e-07 & NA & 1\\\\\n\t18 & 000404801 & 2 & 1 & 2 & 1 & 2.39 & 30 & 0 & 0 & 1 & ⋯ & -0.05936041 & -0.009535973 & -0.01767472 & -0.002787058 & 4.682664e-05 & 5.058436e-08 & 4.190342e-05 & 2.552518e-07 & NA & 1\\\\\n\t19 & 000500101 & 3 & 1 & 2 & 0 & 2.99 & 30 & 0 & 1 & 0 & ⋯ & -0.06064053 & -0.009741619 & -0.01805588 & -0.002847162 & 4.682664e-05 & 5.058436e-08 & 4.190342e-05 & 2.552518e-07 & NA & 1\\\\\n\t20 & 000500301 & 2 & 1 & 4 & 1 & 2.75 & 30 & 1 & 0 & 0 & ⋯ & -0.05716564 & -0.009183393 & -0.01702122 & -0.002684010 & 4.682664e-05 & 5.058436e-08 & 4.190342e-05 & 2.552518e-07 & NA & 1\\\\\n\t21 & 000500301 & 2 & 2 & 3 & 1 & 2.95 & 30 & 0 & 0 & 1 & ⋯ & -0.05677007 & -0.009119848 & -0.01690344 & -0.002665438 & 4.682664e-05 & 5.058436e-08 & 4.190342e-05 & 2.552518e-07 & NA & 1\\\\\n\t22 & 000504601 & 1 & 1 & 2 & 0 & 3.52 & 30 & 0 & 1 & 0 & ⋯ & -0.06189386 & -0.009942959 & -0.01842906 & -0.002906007 & 4.682664e-05 & 5.058436e-08 & 4.190342e-05 & 2.552518e-07 & NA & 1\\\\\n\t23 & 000506601 & 2 & 1 & 2 & 0 & 2.50 & 30 & 0 & 0 & 1 & ⋯ & -0.06175402 & -0.009920496 & -0.01838742 & -0.002899442 & 4.682664e-05 & 5.058436e-08 & 4.190342e-05 & 2.552518e-07 & NA & 1\\\\\n\t24 & 000509201 & 4 & 1 & 2 & 0 & 1.91 & 30 & 1 & 0 & 0 & ⋯ & -0.06168567 & -0.009909516 & -0.01836707 & -0.002896233 & 4.682664e-05 & 5.058436e-08 & 4.190342e-05 & 2.552518e-07 & NA & 1\\\\\n\t25 & 000509701 & 2 & 1 & 2 & 1 & 3.50 & 30 & 0 & 0 & 1 & ⋯ & -0.05271047 & -0.008467691 & -0.01569468 & -0.002474833 & 4.682664e-05 & 5.058436e-08 & 4.190342e-05 & 2.552518e-07 & NA & 1\\\\\n\t26 & 000611601 & 1 & 1 & 1 & 1 & 3.45 & 30 & 1 & 0 & 0 & ⋯ & -0.05825584 & -0.009358528 & -0.01734583 & -0.002735197 & 4.682664e-05 & 5.058436e-08 & 4.190342e-05 & 2.552518e-07 & NA & 1\\\\\n\t27 & 000612201 & 1 & 1 & 2 & 0 & 3.65 & 30 & 0 & 1 & 0 & ⋯ & -0.06140968 & -0.009865179 & -0.01828489 & -0.002883274 & 4.682664e-05 & 5.058436e-08 & 4.190342e-05 & 2.552518e-07 & NA & 1\\\\\n\t28 & 000613001 & 3 & 1 & 1 & 0 & 3.37 & 30 & 0 & 1 & 0 & ⋯ & -0.06338835 & -0.010183042 & -0.01887405 & -0.002976176 & 4.682664e-05 & 5.058436e-08 & 4.190342e-05 & 2.552518e-07 & NA & 1\\\\\n\t29 & 000622801 & 2 & 1 & 1 & 1 & 3.43 & 30 & 0 & 1 & 0 & ⋯ & -0.05644180 & -0.009067112 & -0.01680569 & -0.002650025 & 4.682664e-05 & 5.058436e-08 & 4.190342e-05 & 2.552518e-07 & NA & 1\\\\\n\t30 & 000700301 & 1 & 1 & 1 & 1 & 2.95 & 30 & 0 & 1 & 0 & ⋯ & -0.05452735 & -0.008759565 & -0.01623566 & -0.002560139 & 4.682664e-05 & 5.058436e-08 & 4.190342e-05 & 2.552518e-07 & NA & 1\\\\\n\t⋮ & ⋮ & ⋮ & ⋮ & ⋮ & ⋮ & ⋮ & ⋮ & ⋮ & ⋮ & ⋮ & ⋱ & ⋮ & ⋮ & ⋮ & ⋮ & ⋮ & ⋮ & ⋮ & ⋮ & ⋮ & ⋮\\\\\n\t218453 & 324803201 & 2 & 1 & 7 & 0 & 2.700 & 40 & 0 & 0 & 1 & ⋯ & -0.05107496 & -0.008204954 & -0.01520770 & -0.002398044 & 3.119786e-05 & 2.085156e-08 & 2.76687e-05 & 1.707521e-07 & NA & 11\\\\\n\t218454 & 324815301 & 1 & 1 & 2 & 0 & 3.450 & 40 & 0 & 1 & 0 & ⋯ & -0.05217321 & -0.008381382 & -0.01553471 & -0.002449608 & 3.119786e-05 & 2.085156e-08 & 2.76687e-05 & 1.707521e-07 & NA & 11\\\\\n\t218455 & 324815701 & 1 & 1 & 4 & 0 & 3.100 & 40 & 0 & 1 & 0 & ⋯ & -0.04986657 & -0.008010831 & -0.01484790 & -0.002341308 & 3.119786e-05 & 2.085156e-08 & 2.76687e-05 & 1.707521e-07 & NA & 11\\\\\n\t218456 & 324901101 & 2 & 1 & 3 & 0 & 3.000 & 40 & 0 & 1 & 0 & ⋯ & -0.05510201 & -0.008851881 & -0.01640677 & -0.002587120 & 3.119786e-05 & 2.085156e-08 & 2.76687e-05 & 1.707521e-07 & NA & 11\\\\\n\t218457 & 324901101 & 2 & 2 & 2 & 0 & 2.200 & 40 & 0 & 0 & 1 & ⋯ & -0.05671982 & -0.009111774 & -0.01688848 & -0.002663078 & 3.119786e-05 & 2.085156e-08 & 2.76687e-05 & 1.707521e-07 & NA & 11\\\\\n\t218458 & 324901501 & 1 & 1 & 3 & 0 & 2.200 & 40 & 1 & 0 & 0 & ⋯ & -0.05512576 & -0.008855697 & -0.01641384 & -0.002588235 & 3.119786e-05 & 2.085156e-08 & 2.76687e-05 & 1.707521e-07 & NA & 11\\\\\n\t218459 & 324909101 & 2 & 1 & 1 & 0 & 3.160 & 40 & 0 & 0 & 1 & ⋯ & -0.05279067 & -0.008480574 & -0.01571856 & -0.002478599 & 3.119786e-05 & 2.085156e-08 & 2.76687e-05 & 1.707521e-07 & NA & 11\\\\\n\t218460 & 324909401 & 2 & 1 & 4 & 1 & 2.390 & 40 & 0 & 1 & 0 & ⋯ & -0.04199527 & -0.006746344 & -0.01250420 & -0.001971739 & 3.119786e-05 & 2.085156e-08 & 2.76687e-05 & 1.707521e-07 & NA & 11\\\\\n\t218461 & 324909501 & 2 & 1 & 5 & 1 & 3.370 & 40 & 0 & 0 & 1 & ⋯ & -0.04364091 & -0.007010709 & -0.01299420 & -0.002049005 & 3.119786e-05 & 2.085156e-08 & 2.76687e-05 & 1.707521e-07 & NA & 11\\\\\n\t218462 & 325102401 & 2 & 1 & 4 & 1 & 3.000 & 40 & 0 & 1 & 0 & ⋯ & -0.04826037 & -0.007752804 & -0.01436965 & -0.002265895 & 3.119786e-05 & 2.085156e-08 & 2.76687e-05 & 1.707521e-07 & NA & 11\\\\\n\t218463 & 325205701 & 1 & 1 & 1 & 0 & 3.130 & 40 & 1 & 0 & 0 & ⋯ & -0.05352033 & -0.008597791 & -0.01593582 & -0.002512858 & 3.119786e-05 & 2.085156e-08 & 2.76687e-05 & 1.707521e-07 & NA & 11\\\\\n\t218464 & 325207101 & 2 & 1 & 2 & 1 & 2.900 & 40 & 0 & 1 & 0 & ⋯ & -0.04123158 & -0.006623662 & -0.01227681 & -0.001935883 & 3.119786e-05 & 2.085156e-08 & 2.76687e-05 & 1.707521e-07 & NA & 11\\\\\n\t218465 & 325207301 & 2 & 1 & 6 & 1 & 2.800 & 40 & 1 & 0 & 0 & ⋯ & -0.04213231 & -0.006768359 & -0.01254501 & -0.001978174 & 3.119786e-05 & 2.085156e-08 & 2.76687e-05 & 1.707521e-07 & NA & 11\\\\\n\t218466 & 325208601 & 2 & 1 & 7 & 1 & 2.800 & 40 & 0 & 1 & 0 & ⋯ & -0.04110688 & -0.006603629 & -0.01223968 & -0.001930028 & 3.119786e-05 & 2.085156e-08 & 2.76687e-05 & 1.707521e-07 & NA & 11\\\\\n\t218467 & 325303101 & 2 & 1 & 3 & 1 & 3.410 & 40 & 0 & 0 & 1 & ⋯ & -0.04355339 & -0.006996649 & -0.01296814 & -0.002044895 & 3.119786e-05 & 2.085156e-08 & 2.76687e-05 & 1.707521e-07 & NA & 11\\\\\n\t218468 & 325303501 & 2 & 1 & 3 & 0 & 3.700 & 40 & 0 & 0 & 1 & ⋯ & -0.04993343 & -0.008021573 & -0.01486781 & -0.002344448 & 3.119786e-05 & 2.085156e-08 & 2.76687e-05 & 1.707521e-07 & NA & 11\\\\\n\t218469 & 325303701 & 2 & 1 & 1 & 0 & 3.100 & 40 & 0 & 0 & 1 & ⋯ & -0.05258314 & -0.008447236 & -0.01565677 & -0.002468855 & 3.119786e-05 & 2.085156e-08 & 2.76687e-05 & 1.707521e-07 & NA & 11\\\\\n\t218470 & 325303901 & 6 & 1 & 1 & 1 & 2.650 & 40 & 0 & 0 & 1 & ⋯ & -0.05005689 & -0.008041406 & -0.01490457 & -0.002350244 & 3.119786e-05 & 2.085156e-08 & 2.76687e-05 & 1.707521e-07 & NA & 11\\\\\n\t218471 & 325304001 & 3 & 1 & 1 & 0 & 3.235 & 40 & 0 & 1 & 0 & ⋯ & -0.05526681 & -0.008878355 & -0.01645584 & -0.002594858 & 3.119786e-05 & 2.085156e-08 & 2.76687e-05 & 1.707521e-07 & NA & 11\\\\\n\t218472 & 325306601 & 2 & 1 & 4 & 0 & 3.400 & 40 & 0 & 0 & 1 & ⋯ & -0.04506134 & -0.007238895 & -0.01341713 & -0.002115696 & 3.119786e-05 & 2.085156e-08 & 2.76687e-05 & 1.707521e-07 & NA & 11\\\\\n\t218473 & 325306701 & 2 & 1 & 4 & 1 & 3.200 & 40 & 0 & 0 & 1 & ⋯ & -0.04058420 & -0.006519663 & -0.01208405 & -0.001905488 & 3.119786e-05 & 2.085156e-08 & 2.76687e-05 & 1.707521e-07 & NA & 11\\\\\n\t218474 & 325306901 & 1 & 1 & 3 & 0 & 3.200 & 40 & 0 & 1 & 0 & ⋯ & -0.05169561 & -0.008304658 & -0.01539250 & -0.002427184 & 3.119786e-05 & 2.085156e-08 & 2.76687e-05 & 1.707521e-07 & NA & 11\\\\\n\t218475 & 325312001 & 3 & 1 & 1 & 1 & 3.010 & 40 & 1 & 0 & 0 & ⋯ & -0.04650781 & -0.007471262 & -0.01384782 & -0.002183610 & 3.119786e-05 & 2.085156e-08 & 2.76687e-05 & 1.707521e-07 & NA & 11\\\\\n\t218476 & 325402301 & 2 & 1 & 2 & 0 & 3.110 & 40 & 0 & 1 & 0 & ⋯ & -0.05356238 & -0.008604546 & -0.01594834 & -0.002514832 & 3.119786e-05 & 2.085156e-08 & 2.76687e-05 & 1.707521e-07 & NA & 11\\\\\n\t218477 & 325402401 & 3 & 1 & 2 & 1 & 3.420 & 40 & 0 & 1 & 0 & ⋯ & -0.04733914 & -0.007604812 & -0.01409535 & -0.002222642 & 3.119786e-05 & 2.085156e-08 & 2.76687e-05 & 1.707521e-07 & NA & 11\\\\\n\t218478 & 325403101 & 2 & 1 & 9 & 0 & 4.410 & 40 & 0 & 1 & 0 & ⋯ & -0.04492108 & -0.007216361 & -0.01337537 & -0.002109110 & 3.119786e-05 & 2.085156e-08 & 2.76687e-05 & 1.707521e-07 & NA & 11\\\\\n\t218479 & 325403101 & 2 & 2 & 8 & 0 & 3.800 & 40 & 0 & 0 & 1 & ⋯ & -0.04626129 & -0.007431660 & -0.01377442 & -0.002172035 & 3.119786e-05 & 2.085156e-08 & 2.76687e-05 & 1.707521e-07 & NA & 11\\\\\n\t218480 & 325403401 & 3 & 1 & 7 & 1 & 3.100 & 40 & 1 & 0 & 0 & ⋯ & -0.04285265 & -0.006884078 & -0.01275949 & -0.002011995 & 3.119786e-05 & 2.085156e-08 & 2.76687e-05 & 1.707521e-07 & NA & 11\\\\\n\t218481 & 325410801 & 2 & 1 & 2 & 0 & 2.700 & 40 & 0 & 1 & 0 & ⋯ & -0.05039283 & -0.008095373 & -0.01500460 & -0.002366017 & 3.119786e-05 & 2.085156e-08 & 2.76687e-05 & 1.707521e-07 & NA & 11\\\\\n\t218482 & 325412501 & 2 & 1 & 3 & 1 & 4.100 & 40 & 0 & 1 & 0 & ⋯ & -0.04000571 & -0.006426732 & -0.01191181 & -0.001878327 & 3.119786e-05 & 2.085156e-08 & 2.76687e-05 & 1.707521e-07 & NA & 11\\\\\n\\end{tabular}\n",
            "text/plain": [
              "       HHID      HVIDX HWIDX BORD sexo pesoalnacer edadmeses edadniño012\n",
              "1      000100301 2     1     1    0    3.73        30        0          \n",
              "2      000100401 1     1     6    0    2.53        30        0          \n",
              "3      000100801 2     1     4    1    2.00        30        0          \n",
              "4      000104201 2     1     1    0    3.10        30        0          \n",
              "5      000107001 1     1     2    1    2.90        30        0          \n",
              "6      000205401 4     1     1    0    3.27        30        0          \n",
              "7      000206201 5     1     1    0    3.12        30        0          \n",
              "8      000207301 2     1     2    0    2.60        30        0          \n",
              "9      000207901 2     1     2    1    3.82        30        0          \n",
              "10     000300301 1     1     1    0    3.17        30        0          \n",
              "11     000300801 2     1     3    0    3.50        30        0          \n",
              "12     000300801 2     2     2    0    3.28        30        0          \n",
              "13     000304701 3     1     1    1    2.94        30        0          \n",
              "14     000310101 1     1     2    0    3.42        30        0          \n",
              "15     000310201 1     1     1    1    2.88        30        0          \n",
              "16     000401801 2     1     1    1    3.59        30        1          \n",
              "17     000403601 2     1     1    0    3.04        30        0          \n",
              "18     000404801 2     1     2    1    2.39        30        0          \n",
              "19     000500101 3     1     2    0    2.99        30        0          \n",
              "20     000500301 2     1     4    1    2.75        30        1          \n",
              "21     000500301 2     2     3    1    2.95        30        0          \n",
              "22     000504601 1     1     2    0    3.52        30        0          \n",
              "23     000506601 2     1     2    0    2.50        30        0          \n",
              "24     000509201 4     1     2    0    1.91        30        1          \n",
              "25     000509701 2     1     2    1    3.50        30        0          \n",
              "26     000611601 1     1     1    1    3.45        30        1          \n",
              "27     000612201 1     1     2    0    3.65        30        0          \n",
              "28     000613001 3     1     1    0    3.37        30        0          \n",
              "29     000622801 2     1     1    1    3.43        30        0          \n",
              "30     000700301 1     1     1    1    2.95        30        0          \n",
              "⋮      ⋮         ⋮     ⋮     ⋮    ⋮    ⋮           ⋮         ⋮          \n",
              "218453 324803201 2     1     7    0    2.700       40        0          \n",
              "218454 324815301 1     1     2    0    3.450       40        0          \n",
              "218455 324815701 1     1     4    0    3.100       40        0          \n",
              "218456 324901101 2     1     3    0    3.000       40        0          \n",
              "218457 324901101 2     2     2    0    2.200       40        0          \n",
              "218458 324901501 1     1     3    0    2.200       40        1          \n",
              "218459 324909101 2     1     1    0    3.160       40        0          \n",
              "218460 324909401 2     1     4    1    2.390       40        0          \n",
              "218461 324909501 2     1     5    1    3.370       40        0          \n",
              "218462 325102401 2     1     4    1    3.000       40        0          \n",
              "218463 325205701 1     1     1    0    3.130       40        1          \n",
              "218464 325207101 2     1     2    1    2.900       40        0          \n",
              "218465 325207301 2     1     6    1    2.800       40        1          \n",
              "218466 325208601 2     1     7    1    2.800       40        0          \n",
              "218467 325303101 2     1     3    1    3.410       40        0          \n",
              "218468 325303501 2     1     3    0    3.700       40        0          \n",
              "218469 325303701 2     1     1    0    3.100       40        0          \n",
              "218470 325303901 6     1     1    1    2.650       40        0          \n",
              "218471 325304001 3     1     1    0    3.235       40        0          \n",
              "218472 325306601 2     1     4    0    3.400       40        0          \n",
              "218473 325306701 2     1     4    1    3.200       40        0          \n",
              "218474 325306901 1     1     3    0    3.200       40        0          \n",
              "218475 325312001 3     1     1    1    3.010       40        1          \n",
              "218476 325402301 2     1     2    0    3.110       40        0          \n",
              "218477 325402401 3     1     2    1    3.420       40        0          \n",
              "218478 325403101 2     1     9    0    4.410       40        0          \n",
              "218479 325403101 2     2     8    0    3.800       40        0          \n",
              "218480 325403401 3     1     7    1    3.100       40        1          \n",
              "218481 325410801 2     1     2    0    2.700       40        0          \n",
              "218482 325412501 2     1     3    1    4.100       40        0          \n",
              "       edadniño1335 edadniño3659 ⋯ dydx_sexo   dydx_edadmeses dydx_pesoalnacer\n",
              "1      1            0            ⋯ -0.05988074 -0.009619562   -0.01782965     \n",
              "2      1            0            ⋯ -0.06170372 -0.009912415   -0.01837244     \n",
              "3      1            0            ⋯ -0.05614699 -0.009019753   -0.01671792     \n",
              "4      0            1            ⋯ -0.06232499 -0.010012219   -0.01855743     \n",
              "5      1            0            ⋯ -0.05463091 -0.008776201   -0.01626650     \n",
              "6      0            1            ⋯ -0.06330041 -0.010168916   -0.01884786     \n",
              "7      0            1            ⋯ -0.05926378 -0.009520450   -0.01764595     \n",
              "8      0            1            ⋯ -0.05905763 -0.009487333   -0.01758456     \n",
              "9      0            1            ⋯ -0.05236507 -0.008412205   -0.01559184     \n",
              "10     1            0            ⋯ -0.06459365 -0.010376668   -0.01923293     \n",
              "11     1            0            ⋯ -0.06085239 -0.009775652   -0.01811896     \n",
              "12     0            1            ⋯ -0.06123343 -0.009836865   -0.01823242     \n",
              "13     1            0            ⋯ -0.05862627 -0.009418037   -0.01745613     \n",
              "14     1            0            ⋯ -0.06257186 -0.010051877   -0.01863094     \n",
              "15     0            1            ⋯ -0.05659552 -0.009091806   -0.01685146     \n",
              "16     0            0            ⋯ -0.05675168 -0.009116893   -0.01689796     \n",
              "17     1            0            ⋯ -0.06388099 -0.010262184   -0.01902073     \n",
              "18     0            1            ⋯ -0.05936041 -0.009535973   -0.01767472     \n",
              "19     1            0            ⋯ -0.06064053 -0.009741619   -0.01805588     \n",
              "20     0            0            ⋯ -0.05716564 -0.009183393   -0.01702122     \n",
              "21     0            1            ⋯ -0.05677007 -0.009119848   -0.01690344     \n",
              "22     1            0            ⋯ -0.06189386 -0.009942959   -0.01842906     \n",
              "23     0            1            ⋯ -0.06175402 -0.009920496   -0.01838742     \n",
              "24     0            0            ⋯ -0.06168567 -0.009909516   -0.01836707     \n",
              "25     0            1            ⋯ -0.05271047 -0.008467691   -0.01569468     \n",
              "26     0            0            ⋯ -0.05825584 -0.009358528   -0.01734583     \n",
              "27     1            0            ⋯ -0.06140968 -0.009865179   -0.01828489     \n",
              "28     1            0            ⋯ -0.06338835 -0.010183042   -0.01887405     \n",
              "29     1            0            ⋯ -0.05644180 -0.009067112   -0.01680569     \n",
              "30     1            0            ⋯ -0.05452735 -0.008759565   -0.01623566     \n",
              "⋮      ⋮            ⋮            ⋱ ⋮           ⋮              ⋮               \n",
              "218453 0            1            ⋯ -0.05107496 -0.008204954   -0.01520770     \n",
              "218454 1            0            ⋯ -0.05217321 -0.008381382   -0.01553471     \n",
              "218455 1            0            ⋯ -0.04986657 -0.008010831   -0.01484790     \n",
              "218456 1            0            ⋯ -0.05510201 -0.008851881   -0.01640677     \n",
              "218457 0            1            ⋯ -0.05671982 -0.009111774   -0.01688848     \n",
              "218458 0            0            ⋯ -0.05512576 -0.008855697   -0.01641384     \n",
              "218459 0            1            ⋯ -0.05279067 -0.008480574   -0.01571856     \n",
              "218460 1            0            ⋯ -0.04199527 -0.006746344   -0.01250420     \n",
              "218461 0            1            ⋯ -0.04364091 -0.007010709   -0.01299420     \n",
              "218462 1            0            ⋯ -0.04826037 -0.007752804   -0.01436965     \n",
              "218463 0            0            ⋯ -0.05352033 -0.008597791   -0.01593582     \n",
              "218464 1            0            ⋯ -0.04123158 -0.006623662   -0.01227681     \n",
              "218465 0            0            ⋯ -0.04213231 -0.006768359   -0.01254501     \n",
              "218466 1            0            ⋯ -0.04110688 -0.006603629   -0.01223968     \n",
              "218467 0            1            ⋯ -0.04355339 -0.006996649   -0.01296814     \n",
              "218468 0            1            ⋯ -0.04993343 -0.008021573   -0.01486781     \n",
              "218469 0            1            ⋯ -0.05258314 -0.008447236   -0.01565677     \n",
              "218470 0            1            ⋯ -0.05005689 -0.008041406   -0.01490457     \n",
              "218471 1            0            ⋯ -0.05526681 -0.008878355   -0.01645584     \n",
              "218472 0            1            ⋯ -0.04506134 -0.007238895   -0.01341713     \n",
              "218473 0            1            ⋯ -0.04058420 -0.006519663   -0.01208405     \n",
              "218474 1            0            ⋯ -0.05169561 -0.008304658   -0.01539250     \n",
              "218475 0            0            ⋯ -0.04650781 -0.007471262   -0.01384782     \n",
              "218476 1            0            ⋯ -0.05356238 -0.008604546   -0.01594834     \n",
              "218477 1            0            ⋯ -0.04733914 -0.007604812   -0.01409535     \n",
              "218478 1            0            ⋯ -0.04492108 -0.007216361   -0.01337537     \n",
              "218479 0            1            ⋯ -0.04626129 -0.007431660   -0.01377442     \n",
              "218480 0            0            ⋯ -0.04285265 -0.006884078   -0.01275949     \n",
              "218481 1            0            ⋯ -0.05039283 -0.008095373   -0.01500460     \n",
              "218482 1            0            ⋯ -0.04000571 -0.006426732   -0.01191181     \n",
              "       dydx_edadmadre Var_dydx_sexo Var_dydx_edadmeses Var_dydx_pesoalnacer\n",
              "1      -0.002811488   4.682664e-05  5.058436e-08       4.190342e-05        \n",
              "2      -0.002897080   4.682664e-05  5.058436e-08       4.190342e-05        \n",
              "3      -0.002636184   4.682664e-05  5.058436e-08       4.190342e-05        \n",
              "4      -0.002926249   4.682664e-05  5.058436e-08       4.190342e-05        \n",
              "5      -0.002565001   4.682664e-05  5.058436e-08       4.190342e-05        \n",
              "6      -0.002972047   4.682664e-05  5.058436e-08       4.190342e-05        \n",
              "7      -0.002782521   4.682664e-05  5.058436e-08       4.190342e-05        \n",
              "8      -0.002772842   4.682664e-05  5.058436e-08       4.190342e-05        \n",
              "9      -0.002458617   4.682664e-05  5.058436e-08       4.190342e-05        \n",
              "10     -0.003032766   4.682664e-05  5.058436e-08       4.190342e-05        \n",
              "11     -0.002857109   4.682664e-05  5.058436e-08       4.190342e-05        \n",
              "12     -0.002874999   4.682664e-05  5.058436e-08       4.190342e-05        \n",
              "13     -0.002752589   4.682664e-05  5.058436e-08       4.190342e-05        \n",
              "14     -0.002937840   4.682664e-05  5.058436e-08       4.190342e-05        \n",
              "15     -0.002657242   4.682664e-05  5.058436e-08       4.190342e-05        \n",
              "16     -0.002664574   4.682664e-05  5.058436e-08       4.190342e-05        \n",
              "17     -0.002999306   4.682664e-05  5.058436e-08       4.190342e-05        \n",
              "18     -0.002787058   4.682664e-05  5.058436e-08       4.190342e-05        \n",
              "19     -0.002847162   4.682664e-05  5.058436e-08       4.190342e-05        \n",
              "20     -0.002684010   4.682664e-05  5.058436e-08       4.190342e-05        \n",
              "21     -0.002665438   4.682664e-05  5.058436e-08       4.190342e-05        \n",
              "22     -0.002906007   4.682664e-05  5.058436e-08       4.190342e-05        \n",
              "23     -0.002899442   4.682664e-05  5.058436e-08       4.190342e-05        \n",
              "24     -0.002896233   4.682664e-05  5.058436e-08       4.190342e-05        \n",
              "25     -0.002474833   4.682664e-05  5.058436e-08       4.190342e-05        \n",
              "26     -0.002735197   4.682664e-05  5.058436e-08       4.190342e-05        \n",
              "27     -0.002883274   4.682664e-05  5.058436e-08       4.190342e-05        \n",
              "28     -0.002976176   4.682664e-05  5.058436e-08       4.190342e-05        \n",
              "29     -0.002650025   4.682664e-05  5.058436e-08       4.190342e-05        \n",
              "30     -0.002560139   4.682664e-05  5.058436e-08       4.190342e-05        \n",
              "⋮      ⋮              ⋮             ⋮                  ⋮                   \n",
              "218453 -0.002398044   3.119786e-05  2.085156e-08       2.76687e-05         \n",
              "218454 -0.002449608   3.119786e-05  2.085156e-08       2.76687e-05         \n",
              "218455 -0.002341308   3.119786e-05  2.085156e-08       2.76687e-05         \n",
              "218456 -0.002587120   3.119786e-05  2.085156e-08       2.76687e-05         \n",
              "218457 -0.002663078   3.119786e-05  2.085156e-08       2.76687e-05         \n",
              "218458 -0.002588235   3.119786e-05  2.085156e-08       2.76687e-05         \n",
              "218459 -0.002478599   3.119786e-05  2.085156e-08       2.76687e-05         \n",
              "218460 -0.001971739   3.119786e-05  2.085156e-08       2.76687e-05         \n",
              "218461 -0.002049005   3.119786e-05  2.085156e-08       2.76687e-05         \n",
              "218462 -0.002265895   3.119786e-05  2.085156e-08       2.76687e-05         \n",
              "218463 -0.002512858   3.119786e-05  2.085156e-08       2.76687e-05         \n",
              "218464 -0.001935883   3.119786e-05  2.085156e-08       2.76687e-05         \n",
              "218465 -0.001978174   3.119786e-05  2.085156e-08       2.76687e-05         \n",
              "218466 -0.001930028   3.119786e-05  2.085156e-08       2.76687e-05         \n",
              "218467 -0.002044895   3.119786e-05  2.085156e-08       2.76687e-05         \n",
              "218468 -0.002344448   3.119786e-05  2.085156e-08       2.76687e-05         \n",
              "218469 -0.002468855   3.119786e-05  2.085156e-08       2.76687e-05         \n",
              "218470 -0.002350244   3.119786e-05  2.085156e-08       2.76687e-05         \n",
              "218471 -0.002594858   3.119786e-05  2.085156e-08       2.76687e-05         \n",
              "218472 -0.002115696   3.119786e-05  2.085156e-08       2.76687e-05         \n",
              "218473 -0.001905488   3.119786e-05  2.085156e-08       2.76687e-05         \n",
              "218474 -0.002427184   3.119786e-05  2.085156e-08       2.76687e-05         \n",
              "218475 -0.002183610   3.119786e-05  2.085156e-08       2.76687e-05         \n",
              "218476 -0.002514832   3.119786e-05  2.085156e-08       2.76687e-05         \n",
              "218477 -0.002222642   3.119786e-05  2.085156e-08       2.76687e-05         \n",
              "218478 -0.002109110   3.119786e-05  2.085156e-08       2.76687e-05         \n",
              "218479 -0.002172035   3.119786e-05  2.085156e-08       2.76687e-05         \n",
              "218480 -0.002011995   3.119786e-05  2.085156e-08       2.76687e-05         \n",
              "218481 -0.002366017   3.119786e-05  2.085156e-08       2.76687e-05         \n",
              "218482 -0.001878327   3.119786e-05  2.085156e-08       2.76687e-05         \n",
              "       Var_dydx_edadmadre _weights _at_number\n",
              "1      2.552518e-07       NA       1         \n",
              "2      2.552518e-07       NA       1         \n",
              "3      2.552518e-07       NA       1         \n",
              "4      2.552518e-07       NA       1         \n",
              "5      2.552518e-07       NA       1         \n",
              "6      2.552518e-07       NA       1         \n",
              "7      2.552518e-07       NA       1         \n",
              "8      2.552518e-07       NA       1         \n",
              "9      2.552518e-07       NA       1         \n",
              "10     2.552518e-07       NA       1         \n",
              "11     2.552518e-07       NA       1         \n",
              "12     2.552518e-07       NA       1         \n",
              "13     2.552518e-07       NA       1         \n",
              "14     2.552518e-07       NA       1         \n",
              "15     2.552518e-07       NA       1         \n",
              "16     2.552518e-07       NA       1         \n",
              "17     2.552518e-07       NA       1         \n",
              "18     2.552518e-07       NA       1         \n",
              "19     2.552518e-07       NA       1         \n",
              "20     2.552518e-07       NA       1         \n",
              "21     2.552518e-07       NA       1         \n",
              "22     2.552518e-07       NA       1         \n",
              "23     2.552518e-07       NA       1         \n",
              "24     2.552518e-07       NA       1         \n",
              "25     2.552518e-07       NA       1         \n",
              "26     2.552518e-07       NA       1         \n",
              "27     2.552518e-07       NA       1         \n",
              "28     2.552518e-07       NA       1         \n",
              "29     2.552518e-07       NA       1         \n",
              "30     2.552518e-07       NA       1         \n",
              "⋮      ⋮                  ⋮        ⋮         \n",
              "218453 1.707521e-07       NA       11        \n",
              "218454 1.707521e-07       NA       11        \n",
              "218455 1.707521e-07       NA       11        \n",
              "218456 1.707521e-07       NA       11        \n",
              "218457 1.707521e-07       NA       11        \n",
              "218458 1.707521e-07       NA       11        \n",
              "218459 1.707521e-07       NA       11        \n",
              "218460 1.707521e-07       NA       11        \n",
              "218461 1.707521e-07       NA       11        \n",
              "218462 1.707521e-07       NA       11        \n",
              "218463 1.707521e-07       NA       11        \n",
              "218464 1.707521e-07       NA       11        \n",
              "218465 1.707521e-07       NA       11        \n",
              "218466 1.707521e-07       NA       11        \n",
              "218467 1.707521e-07       NA       11        \n",
              "218468 1.707521e-07       NA       11        \n",
              "218469 1.707521e-07       NA       11        \n",
              "218470 1.707521e-07       NA       11        \n",
              "218471 1.707521e-07       NA       11        \n",
              "218472 1.707521e-07       NA       11        \n",
              "218473 1.707521e-07       NA       11        \n",
              "218474 1.707521e-07       NA       11        \n",
              "218475 1.707521e-07       NA       11        \n",
              "218476 1.707521e-07       NA       11        \n",
              "218477 1.707521e-07       NA       11        \n",
              "218478 1.707521e-07       NA       11        \n",
              "218479 1.707521e-07       NA       11        \n",
              "218480 1.707521e-07       NA       11        \n",
              "218481 1.707521e-07       NA       11        \n",
              "218482 1.707521e-07       NA       11        "
            ]
          },
          "metadata": {}
        },
        {
          "output_type": "display_data",
          "data": {
            "text/plain": [
              "Plot with title “Edad (meses)”"
            ],
            "image/png": "[encoded data removed]"
          },
          "metadata": {
            "image/png": {
              "width": 420,
              "height": 420
            }
          }
        },
        {
          "output_type": "display_data",
          "data": {
            "text/plain": [
              "Plot with title “Peso al nacer”"
            ],
            "image/png": "[encoded data removed]"
          },
          "metadata": {
            "image/png": {
              "width": 420,
              "height": 420
            }
          }
        }
      ]
    },
    {
      "cell_type": "markdown",
      "source": [
        "## **Efectos Marginales**"
      ],
      "metadata": {
        "id": "y9qok9kLrelw"
      }
    },
    {
      "cell_type": "code",
      "source": [
        "install.packages(\"mfx\")    # Efectos marginales\n",
        "library(\"mfx\")"
      ],
      "metadata": {
        "colab": {
          "base_uri": "https://localhost:8080/"
        },
        "id": "2whyHNV_rq0w",
        "outputId": "c6949be0-189d-4f7f-fe8b-4901ae532be1"
      },
      "execution_count": null,
      "outputs": [
        {
          "output_type": "stream",
          "name": "stderr",
          "text": [
            "Installing package into ‘/usr/local/lib/R/site-library’\n",
            "(as ‘lib’ is unspecified)\n",
            "\n",
            "also installing the dependencies ‘flexmix’, ‘Formula’, ‘modeltools’, ‘sandwich’, ‘betareg’\n",
            "\n",
            "\n",
            "Loading required package: sandwich\n",
            "\n",
            "Loading required package: betareg\n",
            "\n"
          ]
        }
      ]
    },
    {
      "cell_type": "code",
      "source": [
        "# Efectos Marginales de OLS\n",
        "OLS_Marginal2<- coef(mod_ols)\n",
        "OLS_Marginal2"
      ],
      "metadata": {
        "colab": {
          "base_uri": "https://localhost:8080/",
          "height": 121
        },
        "id": "7s6ZhRKpr2we",
        "outputId": "b99ef124-bb41-4b90-a99b-bbd425f975e4"
      },
      "execution_count": null,
      "outputs": [
        {
          "output_type": "display_data",
          "data": {
            "text/html": [
              "<style>\n",
              ".dl-inline {width: auto; margin:0; padding: 0}\n",
              ".dl-inline>dt, .dl-inline>dd {float: none; width: auto; display: inline-block}\n",
              ".dl-inline>dt::after {content: \":\\0020\"; padding-right: .5ex}\n",
              ".dl-inline>dt:not(:first-of-type) {padding-left: .5ex}\n",
              "</style><dl class=dl-inline><dt>(Intercept)</dt><dd>0.786610852228367</dd><dt>sexo</dt><dd>-0.0499667703786522</dd><dt>edadmeses</dt><dd>-0.00882688363583443</dd><dt>pesoalnacer</dt><dd>0.00160822650235436</dd><dt>edadmadre</dt><dd>-0.00145335118299468</dd><dt>factor(educmadre)1</dt><dd>0.00297954803313334</dd><dt>factor(educmadre)2</dt><dd>-0.0271613241739432</dd><dt>factor(lengmaterna)1</dt><dd>-0.0941232989364813</dd><dt>factor(lengmaterna)2</dt><dd>-0.0989787565576997</dd><dt>anemiamadre</dt><dd>0.123812749396767</dd><dt>area</dt><dd>0.0188121408989201</dd><dt>factor(wealth_index)2</dt><dd>-0.0504327258001418</dd><dt>factor(wealth_index)3</dt><dd>-0.109013812374503</dd><dt>factor(wealth_index)4</dt><dd>-0.148437455095331</dd><dt>factor(wealth_index)5</dt><dd>-0.182383100680785</dd></dl>\n"
            ],
            "text/markdown": "(Intercept)\n:   0.786610852228367sexo\n:   -0.0499667703786522edadmeses\n:   -0.00882688363583443pesoalnacer\n:   0.00160822650235436edadmadre\n:   -0.00145335118299468factor(educmadre)1\n:   0.00297954803313334factor(educmadre)2\n:   -0.0271613241739432factor(lengmaterna)1\n:   -0.0941232989364813factor(lengmaterna)2\n:   -0.0989787565576997anemiamadre\n:   0.123812749396767area\n:   0.0188121408989201factor(wealth_index)2\n:   -0.0504327258001418factor(wealth_index)3\n:   -0.109013812374503factor(wealth_index)4\n:   -0.148437455095331factor(wealth_index)5\n:   -0.182383100680785\n\n",
            "text/latex": "\\begin{description*}\n\\item[(Intercept)] 0.786610852228367\n\\item[sexo] -0.0499667703786522\n\\item[edadmeses] -0.00882688363583443\n\\item[pesoalnacer] 0.00160822650235436\n\\item[edadmadre] -0.00145335118299468\n\\item[factor(educmadre)1] 0.00297954803313334\n\\item[factor(educmadre)2] -0.0271613241739432\n\\item[factor(lengmaterna)1] -0.0941232989364813\n\\item[factor(lengmaterna)2] -0.0989787565576997\n\\item[anemiamadre] 0.123812749396767\n\\item[area] 0.0188121408989201\n\\item[factor(wealth\\textbackslash{}\\_index)2] -0.0504327258001418\n\\item[factor(wealth\\textbackslash{}\\_index)3] -0.109013812374503\n\\item[factor(wealth\\textbackslash{}\\_index)4] -0.148437455095331\n\\item[factor(wealth\\textbackslash{}\\_index)5] -0.182383100680785\n\\end{description*}\n",
            "text/plain": [
              "          (Intercept)                  sexo             edadmeses \n",
              "          0.786610852          -0.049966770          -0.008826884 \n",
              "          pesoalnacer             edadmadre    factor(educmadre)1 \n",
              "          0.001608227          -0.001453351           0.002979548 \n",
              "   factor(educmadre)2  factor(lengmaterna)1  factor(lengmaterna)2 \n",
              "         -0.027161324          -0.094123299          -0.098978757 \n",
              "          anemiamadre                  area factor(wealth_index)2 \n",
              "          0.123812749           0.018812141          -0.050432726 \n",
              "factor(wealth_index)3 factor(wealth_index)4 factor(wealth_index)5 \n",
              "         -0.109013812          -0.148437455          -0.182383101 "
            ]
          },
          "metadata": {}
        }
      ]
    },
    {
      "cell_type": "code",
      "source": [
        "# Efectos marginales promedio del modelo Logit\n",
        "LogitMarginal2 <- logitmfx(d_anemia ~ sexo + edadmeses + pesoalnacer + edadmadre + factor(educmadre) + \n",
        "  factor(lengmaterna) + anemiamadre + area + factor(wealth_index), \n",
        "                           data=base, atmean=TRUE, robust=TRUE)\n",
        "LogitMarginal2"
      ],
      "metadata": {
        "colab": {
          "base_uri": "https://localhost:8080/",
          "height": 555
        },
        "id": "lrpFq2O6r30O",
        "outputId": "4a04195e-0305-422e-f07a-1c257b63cdb9"
      },
      "execution_count": null,
      "outputs": [
        {
          "output_type": "display_data",
          "data": {
            "text/plain": [
              "Call:\n",
              "logitmfx(formula = d_anemia ~ sexo + edadmeses + pesoalnacer + \n",
              "    edadmadre + factor(educmadre) + factor(lengmaterna) + anemiamadre + \n",
              "    area + factor(wealth_index), data = base, atmean = TRUE, \n",
              "    robust = TRUE)\n",
              "\n",
              "Marginal Effects:\n",
              "                            dF/dx   Std. Err.        z     P>|z|    \n",
              "sexo                  -0.05461041  0.00703395  -7.7638 8.240e-15 ***\n",
              "edadmeses             -0.00945329  0.00023129 -40.8729 < 2.2e-16 ***\n",
              "pesoalnacer            0.00198066  0.00665148   0.2978  0.765873    \n",
              "edadmadre             -0.00160318  0.00053695  -2.9857  0.002829 ** \n",
              "factor(educmadre)1     0.00263932  0.01011985   0.2608  0.794242    \n",
              "factor(educmadre)2    -0.03093550  0.01153869  -2.6810  0.007340 ** \n",
              "factor(lengmaterna)1  -0.09940378  0.01454120  -6.8360 8.143e-12 ***\n",
              "factor(lengmaterna)2  -0.08724111  0.06180770  -1.4115  0.158099    \n",
              "anemiamadre            0.13576014  0.00974588  13.9300 < 2.2e-16 ***\n",
              "area                   0.01867413  0.01026730   1.8188  0.068942 .  \n",
              "factor(wealth_index)2 -0.04834136  0.01057665  -4.5706 4.864e-06 ***\n",
              "factor(wealth_index)3 -0.10409097  0.01115393  -9.3322 < 2.2e-16 ***\n",
              "factor(wealth_index)4 -0.14074246  0.01117153 -12.5983 < 2.2e-16 ***\n",
              "factor(wealth_index)5 -0.17216895  0.01113360 -15.4639 < 2.2e-16 ***\n",
              "---\n",
              "Signif. codes:  0 ‘***’ 0.001 ‘**’ 0.01 ‘*’ 0.05 ‘.’ 0.1 ‘ ’ 1\n",
              "\n",
              "dF/dx is for discrete change for the following variables:\n",
              "\n",
              " [1] \"sexo\"                  \"factor(educmadre)1\"    \"factor(educmadre)2\"   \n",
              " [4] \"factor(lengmaterna)1\"  \"factor(lengmaterna)2\"  \"anemiamadre\"          \n",
              " [7] \"area\"                  \"factor(wealth_index)2\" \"factor(wealth_index)3\"\n",
              "[10] \"factor(wealth_index)4\" \"factor(wealth_index)5\""
            ]
          },
          "metadata": {}
        }
      ]
    },
    {
      "cell_type": "code",
      "source": [
        "# Efectos marginales promedio del modelo Probit\n",
        "ProbitMarginal2 <- probitmfx(d_anemia ~ sexo + edadmeses + pesoalnacer + edadmadre + factor(educmadre) + \n",
        "  factor(lengmaterna) + anemiamadre + area + factor(wealth_index), \n",
        "                             data=base, atmean=TRUE, robust=TRUE)\n",
        "ProbitMarginal2"
      ],
      "metadata": {
        "colab": {
          "base_uri": "https://localhost:8080/",
          "height": 555
        },
        "id": "EXDx4Y8RrpTk",
        "outputId": "57e44de6-7ae2-4afa-af6c-1eba4f18b97a"
      },
      "execution_count": null,
      "outputs": [
        {
          "output_type": "display_data",
          "data": {
            "text/plain": [
              "Call:\n",
              "probitmfx(formula = d_anemia ~ sexo + edadmeses + pesoalnacer + \n",
              "    edadmadre + factor(educmadre) + factor(lengmaterna) + anemiamadre + \n",
              "    area + factor(wealth_index), data = base, atmean = TRUE, \n",
              "    robust = TRUE)\n",
              "\n",
              "Marginal Effects:\n",
              "                            dF/dx   Std. Err.        z     P>|z|    \n",
              "sexo                  -0.05362455  0.00702010  -7.6387 2.194e-14 ***\n",
              "edadmeses             -0.00938073  0.00023021 -40.7486 < 2.2e-16 ***\n",
              "pesoalnacer            0.00214154  0.00663112   0.3230  0.746730    \n",
              "edadmadre             -0.00153714  0.00053577  -2.8690  0.004117 ** \n",
              "factor(educmadre)1     0.00373188  0.01016011   0.3673  0.713390    \n",
              "factor(educmadre)2    -0.02893131  0.01160289  -2.4935  0.012651 *  \n",
              "factor(lengmaterna)1  -0.09792584  0.01425742  -6.8684 6.492e-12 ***\n",
              "factor(lengmaterna)2  -0.08960492  0.06586305  -1.3605  0.173680    \n",
              "anemiamadre            0.13455121  0.00950080  14.1621 < 2.2e-16 ***\n",
              "area                   0.01785070  0.01038928   1.7182  0.085763 .  \n",
              "factor(wealth_index)2 -0.04927967  0.01077455  -4.5737 4.792e-06 ***\n",
              "factor(wealth_index)3 -0.10707841  0.01155028  -9.2706 < 2.2e-16 ***\n",
              "factor(wealth_index)4 -0.14359990  0.01177689 -12.1934 < 2.2e-16 ***\n",
              "factor(wealth_index)5 -0.17826662  0.01184275 -15.0528 < 2.2e-16 ***\n",
              "---\n",
              "Signif. codes:  0 ‘***’ 0.001 ‘**’ 0.01 ‘*’ 0.05 ‘.’ 0.1 ‘ ’ 1\n",
              "\n",
              "dF/dx is for discrete change for the following variables:\n",
              "\n",
              " [1] \"sexo\"                  \"factor(educmadre)1\"    \"factor(educmadre)2\"   \n",
              " [4] \"factor(lengmaterna)1\"  \"factor(lengmaterna)2\"  \"anemiamadre\"          \n",
              " [7] \"area\"                  \"factor(wealth_index)2\" \"factor(wealth_index)3\"\n",
              "[10] \"factor(wealth_index)4\" \"factor(wealth_index)5\""
            ]
          },
          "metadata": {}
        }
      ]
    }
  ]
}