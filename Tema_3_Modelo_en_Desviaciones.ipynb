{
  "nbformat": 4,
  "nbformat_minor": 0,
  "metadata": {
    "colab": {
      "provenance": [],
      "collapsed_sections": [],
      "include_colab_link": true
    },
    "kernelspec": {
      "name": "ir",
      "display_name": "R"
    },
    "language_info": {
      "name": "R"
    }
  },
  "cells": [
    {
      "cell_type": "markdown",
      "metadata": {
        "id": "view-in-github",
        "colab_type": "text"
      },
      "source": [
        "<a href=\"https://colab.research.google.com/github/juanpalominoh/Fundamentos-de-Econometria/blob/main/Tema_3_Modelo_en_Desviaciones.ipynb\" target=\"_parent\"><img src=\"https://colab.research.google.com/assets/colab-badge.svg\" alt=\"Open In Colab\"/></a>"
      ]
    },
    {
      "cell_type": "markdown",
      "source": [
        "# Tema 3: Modelo en Desviaciones Respecto a la Media"
      ],
      "metadata": {
        "id": "WNftGHPdy47e"
      }
    },
    {
      "cell_type": "code",
      "execution_count": null,
      "metadata": {
        "colab": {
          "base_uri": "https://localhost:8080/"
        },
        "id": "epNULE520sVS",
        "outputId": "69bc83b0-c51e-4643-cb00-da7c135d734b"
      },
      "outputs": [
        {
          "output_type": "stream",
          "name": "stderr",
          "text": [
            "Installing package into ‘/usr/local/lib/R/site-library’\n",
            "(as ‘lib’ is unspecified)\n",
            "\n"
          ]
        }
      ],
      "source": [
        "install.packages(\"readxl\")\n",
        "library(\"readxl\")"
      ]
    },
    {
      "cell_type": "code",
      "source": [
        "base <- as.data.frame(read_excel(\"/content/Ejemplo1.xlsx\"))\n",
        "base"
      ],
      "metadata": {
        "colab": {
          "base_uri": "https://localhost:8080/",
          "height": 568
        },
        "id": "QEdkmHUc2Gpz",
        "outputId": "275fcf7e-2f00-463f-f1c4-49e96e91eab2"
      },
      "execution_count": null,
      "outputs": [
        {
          "output_type": "display_data",
          "data": {
            "text/html": [
              "<table class=\"dataframe\">\n",
              "<caption>A data.frame: 15 × 3</caption>\n",
              "<thead>\n",
              "\t<tr><th scope=col>Id</th><th scope=col>X</th><th scope=col>Y</th></tr>\n",
              "\t<tr><th scope=col>&lt;dbl&gt;</th><th scope=col>&lt;dbl&gt;</th><th scope=col>&lt;dbl&gt;</th></tr>\n",
              "</thead>\n",
              "<tbody>\n",
              "\t<tr><td> 1</td><td> 6</td><td> 230</td></tr>\n",
              "\t<tr><td> 2</td><td> 7</td><td> 240</td></tr>\n",
              "\t<tr><td> 3</td><td>13</td><td> 250</td></tr>\n",
              "\t<tr><td> 4</td><td>10</td><td> 400</td></tr>\n",
              "\t<tr><td> 5</td><td>16</td><td> 670</td></tr>\n",
              "\t<tr><td> 6</td><td>12</td><td> 335</td></tr>\n",
              "\t<tr><td> 7</td><td>14</td><td> 400</td></tr>\n",
              "\t<tr><td> 8</td><td>13</td><td> 550</td></tr>\n",
              "\t<tr><td> 9</td><td>13</td><td> 850</td></tr>\n",
              "\t<tr><td>10</td><td>12</td><td> 234</td></tr>\n",
              "\t<tr><td>11</td><td>18</td><td>1000</td></tr>\n",
              "\t<tr><td>12</td><td>15</td><td> 345</td></tr>\n",
              "\t<tr><td>13</td><td>14</td><td> 890</td></tr>\n",
              "\t<tr><td>14</td><td>14</td><td> 450</td></tr>\n",
              "\t<tr><td>15</td><td>12</td><td> 425</td></tr>\n",
              "</tbody>\n",
              "</table>\n"
            ],
            "text/markdown": "\nA data.frame: 15 × 3\n\n| Id &lt;dbl&gt; | X &lt;dbl&gt; | Y &lt;dbl&gt; |\n|---|---|---|\n|  1 |  6 |  230 |\n|  2 |  7 |  240 |\n|  3 | 13 |  250 |\n|  4 | 10 |  400 |\n|  5 | 16 |  670 |\n|  6 | 12 |  335 |\n|  7 | 14 |  400 |\n|  8 | 13 |  550 |\n|  9 | 13 |  850 |\n| 10 | 12 |  234 |\n| 11 | 18 | 1000 |\n| 12 | 15 |  345 |\n| 13 | 14 |  890 |\n| 14 | 14 |  450 |\n| 15 | 12 |  425 |\n\n",
            "text/latex": "A data.frame: 15 × 3\n\\begin{tabular}{lll}\n Id & X & Y\\\\\n <dbl> & <dbl> & <dbl>\\\\\n\\hline\n\t  1 &  6 &  230\\\\\n\t  2 &  7 &  240\\\\\n\t  3 & 13 &  250\\\\\n\t  4 & 10 &  400\\\\\n\t  5 & 16 &  670\\\\\n\t  6 & 12 &  335\\\\\n\t  7 & 14 &  400\\\\\n\t  8 & 13 &  550\\\\\n\t  9 & 13 &  850\\\\\n\t 10 & 12 &  234\\\\\n\t 11 & 18 & 1000\\\\\n\t 12 & 15 &  345\\\\\n\t 13 & 14 &  890\\\\\n\t 14 & 14 &  450\\\\\n\t 15 & 12 &  425\\\\\n\\end{tabular}\n",
            "text/plain": [
              "   Id X  Y   \n",
              "1   1  6  230\n",
              "2   2  7  240\n",
              "3   3 13  250\n",
              "4   4 10  400\n",
              "5   5 16  670\n",
              "6   6 12  335\n",
              "7   7 14  400\n",
              "8   8 13  550\n",
              "9   9 13  850\n",
              "10 10 12  234\n",
              "11 11 18 1000\n",
              "12 12 15  345\n",
              "13 13 14  890\n",
              "14 14 14  450\n",
              "15 15 12  425"
            ]
          },
          "metadata": {}
        }
      ]
    },
    {
      "cell_type": "markdown",
      "source": [
        "Calcular las desviaciones con respecto a la media de $X$ e $Y$"
      ],
      "metadata": {
        "id": "c0jSMgzCDTPW"
      }
    },
    {
      "cell_type": "code",
      "source": [
        "# 1. Se calcula los promedios\n",
        "mX <- mean(base$X)\n",
        "mY <- mean(base$Y)\n",
        "mX\n",
        "mY"
      ],
      "metadata": {
        "colab": {
          "base_uri": "https://localhost:8080/",
          "height": 52
        },
        "id": "el9R5I982mlk",
        "outputId": "7bf541dd-d9c2-49fa-951c-90feb301066c"
      },
      "execution_count": null,
      "outputs": [
        {
          "output_type": "display_data",
          "data": {
            "text/html": [
              "12.6"
            ],
            "text/markdown": "12.6",
            "text/latex": "12.6",
            "text/plain": [
              "[1] 12.6"
            ]
          },
          "metadata": {}
        },
        {
          "output_type": "display_data",
          "data": {
            "text/html": [
              "484.6"
            ],
            "text/markdown": "484.6",
            "text/latex": "484.6",
            "text/plain": [
              "[1] 484.6"
            ]
          },
          "metadata": {}
        }
      ]
    },
    {
      "cell_type": "code",
      "source": [
        "# 2. Se calcula las desviaciones\n",
        "dX <- base$X - mX\n",
        "dY <- base$Y - mY"
      ],
      "metadata": {
        "id": "Ak0vUMZh22Ps"
      },
      "execution_count": null,
      "outputs": []
    },
    {
      "cell_type": "markdown",
      "source": [
        "Calcular $xy$ e $x^{2}$"
      ],
      "metadata": {
        "id": "2jrTsyaWFc8f"
      }
    },
    {
      "cell_type": "code",
      "source": [
        "xy <- dX*dY"
      ],
      "metadata": {
        "id": "rZT16M4jFPwr"
      },
      "execution_count": null,
      "outputs": []
    },
    {
      "cell_type": "code",
      "source": [
        "sq_X <- dX^2"
      ],
      "metadata": {
        "id": "6Q-h9XTqFU3g"
      },
      "execution_count": null,
      "outputs": []
    },
    {
      "cell_type": "code",
      "source": [
        "# Agregando a la base\n",
        "base_2 <- cbind(base, mX, dX, mY, dY, sq_X, xy)\n",
        "base_2"
      ],
      "metadata": {
        "id": "hQ2aJlheDtlB",
        "outputId": "90aea437-cbe0-4e4f-9426-f614da86afaf",
        "colab": {
          "base_uri": "https://localhost:8080/",
          "height": 568
        }
      },
      "execution_count": null,
      "outputs": [
        {
          "output_type": "display_data",
          "data": {
            "text/html": [
              "<table class=\"dataframe\">\n",
              "<caption>A data.frame: 15 × 9</caption>\n",
              "<thead>\n",
              "\t<tr><th scope=col>Id</th><th scope=col>X</th><th scope=col>Y</th><th scope=col>mX</th><th scope=col>dX</th><th scope=col>mY</th><th scope=col>dY</th><th scope=col>sq_X</th><th scope=col>xy</th></tr>\n",
              "\t<tr><th scope=col>&lt;dbl&gt;</th><th scope=col>&lt;dbl&gt;</th><th scope=col>&lt;dbl&gt;</th><th scope=col>&lt;dbl&gt;</th><th scope=col>&lt;dbl&gt;</th><th scope=col>&lt;dbl&gt;</th><th scope=col>&lt;dbl&gt;</th><th scope=col>&lt;dbl&gt;</th><th scope=col>&lt;dbl&gt;</th></tr>\n",
              "</thead>\n",
              "<tbody>\n",
              "\t<tr><td> 1</td><td> 6</td><td> 230</td><td>12.6</td><td>-6.6</td><td>484.6</td><td>-254.6</td><td>43.56</td><td>1680.36</td></tr>\n",
              "\t<tr><td> 2</td><td> 7</td><td> 240</td><td>12.6</td><td>-5.6</td><td>484.6</td><td>-244.6</td><td>31.36</td><td>1369.76</td></tr>\n",
              "\t<tr><td> 3</td><td>13</td><td> 250</td><td>12.6</td><td> 0.4</td><td>484.6</td><td>-234.6</td><td> 0.16</td><td> -93.84</td></tr>\n",
              "\t<tr><td> 4</td><td>10</td><td> 400</td><td>12.6</td><td>-2.6</td><td>484.6</td><td> -84.6</td><td> 6.76</td><td> 219.96</td></tr>\n",
              "\t<tr><td> 5</td><td>16</td><td> 670</td><td>12.6</td><td> 3.4</td><td>484.6</td><td> 185.4</td><td>11.56</td><td> 630.36</td></tr>\n",
              "\t<tr><td> 6</td><td>12</td><td> 335</td><td>12.6</td><td>-0.6</td><td>484.6</td><td>-149.6</td><td> 0.36</td><td>  89.76</td></tr>\n",
              "\t<tr><td> 7</td><td>14</td><td> 400</td><td>12.6</td><td> 1.4</td><td>484.6</td><td> -84.6</td><td> 1.96</td><td>-118.44</td></tr>\n",
              "\t<tr><td> 8</td><td>13</td><td> 550</td><td>12.6</td><td> 0.4</td><td>484.6</td><td>  65.4</td><td> 0.16</td><td>  26.16</td></tr>\n",
              "\t<tr><td> 9</td><td>13</td><td> 850</td><td>12.6</td><td> 0.4</td><td>484.6</td><td> 365.4</td><td> 0.16</td><td> 146.16</td></tr>\n",
              "\t<tr><td>10</td><td>12</td><td> 234</td><td>12.6</td><td>-0.6</td><td>484.6</td><td>-250.6</td><td> 0.36</td><td> 150.36</td></tr>\n",
              "\t<tr><td>11</td><td>18</td><td>1000</td><td>12.6</td><td> 5.4</td><td>484.6</td><td> 515.4</td><td>29.16</td><td>2783.16</td></tr>\n",
              "\t<tr><td>12</td><td>15</td><td> 345</td><td>12.6</td><td> 2.4</td><td>484.6</td><td>-139.6</td><td> 5.76</td><td>-335.04</td></tr>\n",
              "\t<tr><td>13</td><td>14</td><td> 890</td><td>12.6</td><td> 1.4</td><td>484.6</td><td> 405.4</td><td> 1.96</td><td> 567.56</td></tr>\n",
              "\t<tr><td>14</td><td>14</td><td> 450</td><td>12.6</td><td> 1.4</td><td>484.6</td><td> -34.6</td><td> 1.96</td><td> -48.44</td></tr>\n",
              "\t<tr><td>15</td><td>12</td><td> 425</td><td>12.6</td><td>-0.6</td><td>484.6</td><td> -59.6</td><td> 0.36</td><td>  35.76</td></tr>\n",
              "</tbody>\n",
              "</table>\n"
            ],
            "text/markdown": "\nA data.frame: 15 × 9\n\n| Id &lt;dbl&gt; | X &lt;dbl&gt; | Y &lt;dbl&gt; | mX &lt;dbl&gt; | dX &lt;dbl&gt; | mY &lt;dbl&gt; | dY &lt;dbl&gt; | sq_X &lt;dbl&gt; | xy &lt;dbl&gt; |\n|---|---|---|---|---|---|---|---|---|\n|  1 |  6 |  230 | 12.6 | -6.6 | 484.6 | -254.6 | 43.56 | 1680.36 |\n|  2 |  7 |  240 | 12.6 | -5.6 | 484.6 | -244.6 | 31.36 | 1369.76 |\n|  3 | 13 |  250 | 12.6 |  0.4 | 484.6 | -234.6 |  0.16 |  -93.84 |\n|  4 | 10 |  400 | 12.6 | -2.6 | 484.6 |  -84.6 |  6.76 |  219.96 |\n|  5 | 16 |  670 | 12.6 |  3.4 | 484.6 |  185.4 | 11.56 |  630.36 |\n|  6 | 12 |  335 | 12.6 | -0.6 | 484.6 | -149.6 |  0.36 |   89.76 |\n|  7 | 14 |  400 | 12.6 |  1.4 | 484.6 |  -84.6 |  1.96 | -118.44 |\n|  8 | 13 |  550 | 12.6 |  0.4 | 484.6 |   65.4 |  0.16 |   26.16 |\n|  9 | 13 |  850 | 12.6 |  0.4 | 484.6 |  365.4 |  0.16 |  146.16 |\n| 10 | 12 |  234 | 12.6 | -0.6 | 484.6 | -250.6 |  0.36 |  150.36 |\n| 11 | 18 | 1000 | 12.6 |  5.4 | 484.6 |  515.4 | 29.16 | 2783.16 |\n| 12 | 15 |  345 | 12.6 |  2.4 | 484.6 | -139.6 |  5.76 | -335.04 |\n| 13 | 14 |  890 | 12.6 |  1.4 | 484.6 |  405.4 |  1.96 |  567.56 |\n| 14 | 14 |  450 | 12.6 |  1.4 | 484.6 |  -34.6 |  1.96 |  -48.44 |\n| 15 | 12 |  425 | 12.6 | -0.6 | 484.6 |  -59.6 |  0.36 |   35.76 |\n\n",
            "text/latex": "A data.frame: 15 × 9\n\\begin{tabular}{lllllllll}\n Id & X & Y & mX & dX & mY & dY & sq\\_X & xy\\\\\n <dbl> & <dbl> & <dbl> & <dbl> & <dbl> & <dbl> & <dbl> & <dbl> & <dbl>\\\\\n\\hline\n\t  1 &  6 &  230 & 12.6 & -6.6 & 484.6 & -254.6 & 43.56 & 1680.36\\\\\n\t  2 &  7 &  240 & 12.6 & -5.6 & 484.6 & -244.6 & 31.36 & 1369.76\\\\\n\t  3 & 13 &  250 & 12.6 &  0.4 & 484.6 & -234.6 &  0.16 &  -93.84\\\\\n\t  4 & 10 &  400 & 12.6 & -2.6 & 484.6 &  -84.6 &  6.76 &  219.96\\\\\n\t  5 & 16 &  670 & 12.6 &  3.4 & 484.6 &  185.4 & 11.56 &  630.36\\\\\n\t  6 & 12 &  335 & 12.6 & -0.6 & 484.6 & -149.6 &  0.36 &   89.76\\\\\n\t  7 & 14 &  400 & 12.6 &  1.4 & 484.6 &  -84.6 &  1.96 & -118.44\\\\\n\t  8 & 13 &  550 & 12.6 &  0.4 & 484.6 &   65.4 &  0.16 &   26.16\\\\\n\t  9 & 13 &  850 & 12.6 &  0.4 & 484.6 &  365.4 &  0.16 &  146.16\\\\\n\t 10 & 12 &  234 & 12.6 & -0.6 & 484.6 & -250.6 &  0.36 &  150.36\\\\\n\t 11 & 18 & 1000 & 12.6 &  5.4 & 484.6 &  515.4 & 29.16 & 2783.16\\\\\n\t 12 & 15 &  345 & 12.6 &  2.4 & 484.6 & -139.6 &  5.76 & -335.04\\\\\n\t 13 & 14 &  890 & 12.6 &  1.4 & 484.6 &  405.4 &  1.96 &  567.56\\\\\n\t 14 & 14 &  450 & 12.6 &  1.4 & 484.6 &  -34.6 &  1.96 &  -48.44\\\\\n\t 15 & 12 &  425 & 12.6 & -0.6 & 484.6 &  -59.6 &  0.36 &   35.76\\\\\n\\end{tabular}\n",
            "text/plain": [
              "   Id X  Y    mX   dX   mY    dY     sq_X  xy     \n",
              "1   1  6  230 12.6 -6.6 484.6 -254.6 43.56 1680.36\n",
              "2   2  7  240 12.6 -5.6 484.6 -244.6 31.36 1369.76\n",
              "3   3 13  250 12.6  0.4 484.6 -234.6  0.16  -93.84\n",
              "4   4 10  400 12.6 -2.6 484.6  -84.6  6.76  219.96\n",
              "5   5 16  670 12.6  3.4 484.6  185.4 11.56  630.36\n",
              "6   6 12  335 12.6 -0.6 484.6 -149.6  0.36   89.76\n",
              "7   7 14  400 12.6  1.4 484.6  -84.6  1.96 -118.44\n",
              "8   8 13  550 12.6  0.4 484.6   65.4  0.16   26.16\n",
              "9   9 13  850 12.6  0.4 484.6  365.4  0.16  146.16\n",
              "10 10 12  234 12.6 -0.6 484.6 -250.6  0.36  150.36\n",
              "11 11 18 1000 12.6  5.4 484.6  515.4 29.16 2783.16\n",
              "12 12 15  345 12.6  2.4 484.6 -139.6  5.76 -335.04\n",
              "13 13 14  890 12.6  1.4 484.6  405.4  1.96  567.56\n",
              "14 14 14  450 12.6  1.4 484.6  -34.6  1.96  -48.44\n",
              "15 15 12  425 12.6 -0.6 484.6  -59.6  0.36   35.76"
            ]
          },
          "metadata": {}
        }
      ]
    },
    {
      "cell_type": "code",
      "source": [
        "# Por propiedad, la suma de las desviaciones debe ser igual a cero.\n",
        "options(scipen=999)\n",
        "sum(dX)\n",
        "sum(dY)"
      ],
      "metadata": {
        "id": "haFqhYUZ_fEc",
        "outputId": "ad6abeec-230a-4de5-b771-ccc0f89efcf7",
        "colab": {
          "base_uri": "https://localhost:8080/",
          "height": 52
        }
      },
      "execution_count": null,
      "outputs": [
        {
          "output_type": "display_data",
          "data": {
            "text/html": [
              "0.00000000000000532907051820075"
            ],
            "text/markdown": "0.00000000000000532907051820075",
            "text/latex": "0.00000000000000532907051820075",
            "text/plain": [
              "[1] 0.000000000000005329071"
            ]
          },
          "metadata": {}
        },
        {
          "output_type": "display_data",
          "data": {
            "text/html": [
              "-0.000000000000341060513164848"
            ],
            "text/markdown": "-0.000000000000341060513164848",
            "text/latex": "-0.000000000000341060513164848",
            "text/plain": [
              "[1] -0.0000000000003410605"
            ]
          },
          "metadata": {}
        }
      ]
    },
    {
      "cell_type": "markdown",
      "source": [
        "Calcular el coefiente $\\hat{\\beta}_{1}$ y $\\hat{\\beta}_{2}$"
      ],
      "metadata": {
        "id": "AnaKIhm2FZG5"
      }
    },
    {
      "cell_type": "code",
      "source": [
        "sum(xy)\n",
        "sum(sq_X)"
      ],
      "metadata": {
        "id": "KuZlWtfcF4OF",
        "outputId": "d28f8769-3d06-45fc-c4d4-5912e3e5628a",
        "colab": {
          "base_uri": "https://localhost:8080/",
          "height": 52
        }
      },
      "execution_count": null,
      "outputs": [
        {
          "output_type": "display_data",
          "data": {
            "text/html": [
              "7103.6"
            ],
            "text/markdown": "7103.6",
            "text/latex": "7103.6",
            "text/plain": [
              "[1] 7103.6"
            ]
          },
          "metadata": {}
        },
        {
          "output_type": "display_data",
          "data": {
            "text/html": [
              "135.6"
            ],
            "text/markdown": "135.6",
            "text/latex": "135.6",
            "text/plain": [
              "[1] 135.6"
            ]
          },
          "metadata": {}
        }
      ]
    },
    {
      "cell_type": "code",
      "source": [
        "beta2 <- sum(xy)/sum(sq_X )"
      ],
      "metadata": {
        "id": "ZMd3DqvU3Ijd"
      },
      "execution_count": null,
      "outputs": []
    },
    {
      "cell_type": "code",
      "source": [
        "beta1 <- mY - (beta2*mX)"
      ],
      "metadata": {
        "id": "cqqecKKK3nu1"
      },
      "execution_count": null,
      "outputs": []
    },
    {
      "cell_type": "code",
      "source": [
        "beta1\n",
        "beta2"
      ],
      "metadata": {
        "colab": {
          "base_uri": "https://localhost:8080/",
          "height": 52
        },
        "id": "DBB1Veuv3rI_",
        "outputId": "9acc779b-cb46-4f2c-e0d8-3dbc33cb14de"
      },
      "execution_count": null,
      "outputs": [
        {
          "output_type": "display_data",
          "data": {
            "text/html": [
              "-175.469026548673"
            ],
            "text/markdown": "-175.469026548673",
            "text/latex": "-175.469026548673",
            "text/plain": [
              "[1] -175.469"
            ]
          },
          "metadata": {}
        },
        {
          "output_type": "display_data",
          "data": {
            "text/html": [
              "52.3864306784661"
            ],
            "text/markdown": "52.3864306784661",
            "text/latex": "52.3864306784661",
            "text/plain": [
              "[1] 52.38643"
            ]
          },
          "metadata": {}
        }
      ]
    },
    {
      "cell_type": "markdown",
      "source": [
        "Calcular $\\hat{Y}_{i}$, los residuos del modelo, y los residuos al cuadrado.\n",
        "\n",
        "\\begin{gather*}\n",
        "\\hat{Y}_{i}=-175.469 + 52.3864X_{i}\n",
        "\\end{gather*}"
      ],
      "metadata": {
        "id": "WV6lohOfJRYM"
      }
    },
    {
      "cell_type": "code",
      "source": [
        "# Calcular el predicho de Y\n",
        "Y_hat <- beta1 + beta2*base_2$X"
      ],
      "metadata": {
        "id": "hgAK3OIqKbNx"
      },
      "execution_count": null,
      "outputs": []
    },
    {
      "cell_type": "code",
      "source": [
        "# Calcular los residuos\n",
        "e <- base_2$Y - Y_hat"
      ],
      "metadata": {
        "id": "xCCPJaJcKsMa"
      },
      "execution_count": null,
      "outputs": []
    },
    {
      "cell_type": "code",
      "source": [
        "# Calcular los residuos al cuadrado\n",
        "sq_e <- e^2"
      ],
      "metadata": {
        "id": "n-G12iKFK67u"
      },
      "execution_count": null,
      "outputs": []
    },
    {
      "cell_type": "code",
      "source": [
        "cbind(base_2, Y_hat, e, sq_e)"
      ],
      "metadata": {
        "id": "bVtpNgKnKXho",
        "outputId": "3981daa9-c4ff-4da1-9d52-5d700bdfffb0",
        "colab": {
          "base_uri": "https://localhost:8080/",
          "height": 568
        }
      },
      "execution_count": null,
      "outputs": [
        {
          "output_type": "display_data",
          "data": {
            "text/html": [
              "<table class=\"dataframe\">\n",
              "<caption>A data.frame: 15 × 12</caption>\n",
              "<thead>\n",
              "\t<tr><th scope=col>Id</th><th scope=col>X</th><th scope=col>Y</th><th scope=col>mX</th><th scope=col>dX</th><th scope=col>mY</th><th scope=col>dY</th><th scope=col>sq_X</th><th scope=col>xy</th><th scope=col>Y_hat</th><th scope=col>e</th><th scope=col>sq_e</th></tr>\n",
              "\t<tr><th scope=col>&lt;dbl&gt;</th><th scope=col>&lt;dbl&gt;</th><th scope=col>&lt;dbl&gt;</th><th scope=col>&lt;dbl&gt;</th><th scope=col>&lt;dbl&gt;</th><th scope=col>&lt;dbl&gt;</th><th scope=col>&lt;dbl&gt;</th><th scope=col>&lt;dbl&gt;</th><th scope=col>&lt;dbl&gt;</th><th scope=col>&lt;dbl&gt;</th><th scope=col>&lt;dbl&gt;</th><th scope=col>&lt;dbl&gt;</th></tr>\n",
              "</thead>\n",
              "<tbody>\n",
              "\t<tr><td> 1</td><td> 6</td><td> 230</td><td>12.6</td><td>-6.6</td><td>484.6</td><td>-254.6</td><td>43.56</td><td>1680.36</td><td>138.8496</td><td>  91.150442</td><td>  8308.40316</td></tr>\n",
              "\t<tr><td> 2</td><td> 7</td><td> 240</td><td>12.6</td><td>-5.6</td><td>484.6</td><td>-244.6</td><td>31.36</td><td>1369.76</td><td>191.2360</td><td>  48.764012</td><td>  2377.92885</td></tr>\n",
              "\t<tr><td> 3</td><td>13</td><td> 250</td><td>12.6</td><td> 0.4</td><td>484.6</td><td>-234.6</td><td> 0.16</td><td> -93.84</td><td>505.5546</td><td>-255.554572</td><td> 65308.13941</td></tr>\n",
              "\t<tr><td> 4</td><td>10</td><td> 400</td><td>12.6</td><td>-2.6</td><td>484.6</td><td> -84.6</td><td> 6.76</td><td> 219.96</td><td>348.3953</td><td>  51.604720</td><td>  2663.04710</td></tr>\n",
              "\t<tr><td> 5</td><td>16</td><td> 670</td><td>12.6</td><td> 3.4</td><td>484.6</td><td> 185.4</td><td>11.56</td><td> 630.36</td><td>662.7139</td><td>   7.286136</td><td>    53.08777</td></tr>\n",
              "\t<tr><td> 6</td><td>12</td><td> 335</td><td>12.6</td><td>-0.6</td><td>484.6</td><td>-149.6</td><td> 0.36</td><td>  89.76</td><td>453.1681</td><td>-118.168142</td><td> 13963.70969</td></tr>\n",
              "\t<tr><td> 7</td><td>14</td><td> 400</td><td>12.6</td><td> 1.4</td><td>484.6</td><td> -84.6</td><td> 1.96</td><td>-118.44</td><td>557.9410</td><td>-157.941003</td><td> 24945.36041</td></tr>\n",
              "\t<tr><td> 8</td><td>13</td><td> 550</td><td>12.6</td><td> 0.4</td><td>484.6</td><td>  65.4</td><td> 0.16</td><td>  26.16</td><td>505.5546</td><td>  44.445428</td><td>  1975.39605</td></tr>\n",
              "\t<tr><td> 9</td><td>13</td><td> 850</td><td>12.6</td><td> 0.4</td><td>484.6</td><td> 365.4</td><td> 0.16</td><td> 146.16</td><td>505.5546</td><td> 344.445428</td><td>118642.65268</td></tr>\n",
              "\t<tr><td>10</td><td>12</td><td> 234</td><td>12.6</td><td>-0.6</td><td>484.6</td><td>-250.6</td><td> 0.36</td><td> 150.36</td><td>453.1681</td><td>-219.168142</td><td> 48034.67429</td></tr>\n",
              "\t<tr><td>11</td><td>18</td><td>1000</td><td>12.6</td><td> 5.4</td><td>484.6</td><td> 515.4</td><td>29.16</td><td>2783.16</td><td>767.4867</td><td> 232.513274</td><td> 54062.42274</td></tr>\n",
              "\t<tr><td>12</td><td>15</td><td> 345</td><td>12.6</td><td> 2.4</td><td>484.6</td><td>-139.6</td><td> 5.76</td><td>-335.04</td><td>610.3274</td><td>-265.327434</td><td> 70398.64704</td></tr>\n",
              "\t<tr><td>13</td><td>14</td><td> 890</td><td>12.6</td><td> 1.4</td><td>484.6</td><td> 405.4</td><td> 1.96</td><td> 567.56</td><td>557.9410</td><td> 332.058997</td><td>110263.17752</td></tr>\n",
              "\t<tr><td>14</td><td>14</td><td> 450</td><td>12.6</td><td> 1.4</td><td>484.6</td><td> -34.6</td><td> 1.96</td><td> -48.44</td><td>557.9410</td><td>-107.941003</td><td> 11651.26012</td></tr>\n",
              "\t<tr><td>15</td><td>12</td><td> 425</td><td>12.6</td><td>-0.6</td><td>484.6</td><td> -59.6</td><td> 0.36</td><td>  35.76</td><td>453.1681</td><td> -28.168142</td><td>   793.44420</td></tr>\n",
              "</tbody>\n",
              "</table>\n"
            ],
            "text/markdown": "\nA data.frame: 15 × 12\n\n| Id &lt;dbl&gt; | X &lt;dbl&gt; | Y &lt;dbl&gt; | mX &lt;dbl&gt; | dX &lt;dbl&gt; | mY &lt;dbl&gt; | dY &lt;dbl&gt; | sq_X &lt;dbl&gt; | xy &lt;dbl&gt; | Y_hat &lt;dbl&gt; | e &lt;dbl&gt; | sq_e &lt;dbl&gt; |\n|---|---|---|---|---|---|---|---|---|---|---|---|\n|  1 |  6 |  230 | 12.6 | -6.6 | 484.6 | -254.6 | 43.56 | 1680.36 | 138.8496 |   91.150442 |   8308.40316 |\n|  2 |  7 |  240 | 12.6 | -5.6 | 484.6 | -244.6 | 31.36 | 1369.76 | 191.2360 |   48.764012 |   2377.92885 |\n|  3 | 13 |  250 | 12.6 |  0.4 | 484.6 | -234.6 |  0.16 |  -93.84 | 505.5546 | -255.554572 |  65308.13941 |\n|  4 | 10 |  400 | 12.6 | -2.6 | 484.6 |  -84.6 |  6.76 |  219.96 | 348.3953 |   51.604720 |   2663.04710 |\n|  5 | 16 |  670 | 12.6 |  3.4 | 484.6 |  185.4 | 11.56 |  630.36 | 662.7139 |    7.286136 |     53.08777 |\n|  6 | 12 |  335 | 12.6 | -0.6 | 484.6 | -149.6 |  0.36 |   89.76 | 453.1681 | -118.168142 |  13963.70969 |\n|  7 | 14 |  400 | 12.6 |  1.4 | 484.6 |  -84.6 |  1.96 | -118.44 | 557.9410 | -157.941003 |  24945.36041 |\n|  8 | 13 |  550 | 12.6 |  0.4 | 484.6 |   65.4 |  0.16 |   26.16 | 505.5546 |   44.445428 |   1975.39605 |\n|  9 | 13 |  850 | 12.6 |  0.4 | 484.6 |  365.4 |  0.16 |  146.16 | 505.5546 |  344.445428 | 118642.65268 |\n| 10 | 12 |  234 | 12.6 | -0.6 | 484.6 | -250.6 |  0.36 |  150.36 | 453.1681 | -219.168142 |  48034.67429 |\n| 11 | 18 | 1000 | 12.6 |  5.4 | 484.6 |  515.4 | 29.16 | 2783.16 | 767.4867 |  232.513274 |  54062.42274 |\n| 12 | 15 |  345 | 12.6 |  2.4 | 484.6 | -139.6 |  5.76 | -335.04 | 610.3274 | -265.327434 |  70398.64704 |\n| 13 | 14 |  890 | 12.6 |  1.4 | 484.6 |  405.4 |  1.96 |  567.56 | 557.9410 |  332.058997 | 110263.17752 |\n| 14 | 14 |  450 | 12.6 |  1.4 | 484.6 |  -34.6 |  1.96 |  -48.44 | 557.9410 | -107.941003 |  11651.26012 |\n| 15 | 12 |  425 | 12.6 | -0.6 | 484.6 |  -59.6 |  0.36 |   35.76 | 453.1681 |  -28.168142 |    793.44420 |\n\n",
            "text/latex": "A data.frame: 15 × 12\n\\begin{tabular}{llllllllllll}\n Id & X & Y & mX & dX & mY & dY & sq\\_X & xy & Y\\_hat & e & sq\\_e\\\\\n <dbl> & <dbl> & <dbl> & <dbl> & <dbl> & <dbl> & <dbl> & <dbl> & <dbl> & <dbl> & <dbl> & <dbl>\\\\\n\\hline\n\t  1 &  6 &  230 & 12.6 & -6.6 & 484.6 & -254.6 & 43.56 & 1680.36 & 138.8496 &   91.150442 &   8308.40316\\\\\n\t  2 &  7 &  240 & 12.6 & -5.6 & 484.6 & -244.6 & 31.36 & 1369.76 & 191.2360 &   48.764012 &   2377.92885\\\\\n\t  3 & 13 &  250 & 12.6 &  0.4 & 484.6 & -234.6 &  0.16 &  -93.84 & 505.5546 & -255.554572 &  65308.13941\\\\\n\t  4 & 10 &  400 & 12.6 & -2.6 & 484.6 &  -84.6 &  6.76 &  219.96 & 348.3953 &   51.604720 &   2663.04710\\\\\n\t  5 & 16 &  670 & 12.6 &  3.4 & 484.6 &  185.4 & 11.56 &  630.36 & 662.7139 &    7.286136 &     53.08777\\\\\n\t  6 & 12 &  335 & 12.6 & -0.6 & 484.6 & -149.6 &  0.36 &   89.76 & 453.1681 & -118.168142 &  13963.70969\\\\\n\t  7 & 14 &  400 & 12.6 &  1.4 & 484.6 &  -84.6 &  1.96 & -118.44 & 557.9410 & -157.941003 &  24945.36041\\\\\n\t  8 & 13 &  550 & 12.6 &  0.4 & 484.6 &   65.4 &  0.16 &   26.16 & 505.5546 &   44.445428 &   1975.39605\\\\\n\t  9 & 13 &  850 & 12.6 &  0.4 & 484.6 &  365.4 &  0.16 &  146.16 & 505.5546 &  344.445428 & 118642.65268\\\\\n\t 10 & 12 &  234 & 12.6 & -0.6 & 484.6 & -250.6 &  0.36 &  150.36 & 453.1681 & -219.168142 &  48034.67429\\\\\n\t 11 & 18 & 1000 & 12.6 &  5.4 & 484.6 &  515.4 & 29.16 & 2783.16 & 767.4867 &  232.513274 &  54062.42274\\\\\n\t 12 & 15 &  345 & 12.6 &  2.4 & 484.6 & -139.6 &  5.76 & -335.04 & 610.3274 & -265.327434 &  70398.64704\\\\\n\t 13 & 14 &  890 & 12.6 &  1.4 & 484.6 &  405.4 &  1.96 &  567.56 & 557.9410 &  332.058997 & 110263.17752\\\\\n\t 14 & 14 &  450 & 12.6 &  1.4 & 484.6 &  -34.6 &  1.96 &  -48.44 & 557.9410 & -107.941003 &  11651.26012\\\\\n\t 15 & 12 &  425 & 12.6 & -0.6 & 484.6 &  -59.6 &  0.36 &   35.76 & 453.1681 &  -28.168142 &    793.44420\\\\\n\\end{tabular}\n",
            "text/plain": [
              "   Id X  Y    mX   dX   mY    dY     sq_X  xy      Y_hat    e          \n",
              "1   1  6  230 12.6 -6.6 484.6 -254.6 43.56 1680.36 138.8496   91.150442\n",
              "2   2  7  240 12.6 -5.6 484.6 -244.6 31.36 1369.76 191.2360   48.764012\n",
              "3   3 13  250 12.6  0.4 484.6 -234.6  0.16  -93.84 505.5546 -255.554572\n",
              "4   4 10  400 12.6 -2.6 484.6  -84.6  6.76  219.96 348.3953   51.604720\n",
              "5   5 16  670 12.6  3.4 484.6  185.4 11.56  630.36 662.7139    7.286136\n",
              "6   6 12  335 12.6 -0.6 484.6 -149.6  0.36   89.76 453.1681 -118.168142\n",
              "7   7 14  400 12.6  1.4 484.6  -84.6  1.96 -118.44 557.9410 -157.941003\n",
              "8   8 13  550 12.6  0.4 484.6   65.4  0.16   26.16 505.5546   44.445428\n",
              "9   9 13  850 12.6  0.4 484.6  365.4  0.16  146.16 505.5546  344.445428\n",
              "10 10 12  234 12.6 -0.6 484.6 -250.6  0.36  150.36 453.1681 -219.168142\n",
              "11 11 18 1000 12.6  5.4 484.6  515.4 29.16 2783.16 767.4867  232.513274\n",
              "12 12 15  345 12.6  2.4 484.6 -139.6  5.76 -335.04 610.3274 -265.327434\n",
              "13 13 14  890 12.6  1.4 484.6  405.4  1.96  567.56 557.9410  332.058997\n",
              "14 14 14  450 12.6  1.4 484.6  -34.6  1.96  -48.44 557.9410 -107.941003\n",
              "15 15 12  425 12.6 -0.6 484.6  -59.6  0.36   35.76 453.1681  -28.168142\n",
              "   sq_e        \n",
              "1    8308.40316\n",
              "2    2377.92885\n",
              "3   65308.13941\n",
              "4    2663.04710\n",
              "5      53.08777\n",
              "6   13963.70969\n",
              "7   24945.36041\n",
              "8    1975.39605\n",
              "9  118642.65268\n",
              "10  48034.67429\n",
              "11  54062.42274\n",
              "12  70398.64704\n",
              "13 110263.17752\n",
              "14  11651.26012\n",
              "15    793.44420"
            ]
          },
          "metadata": {}
        }
      ]
    },
    {
      "cell_type": "code",
      "source": [
        "# La suma de los residuos es cero\n",
        "sum(e)"
      ],
      "metadata": {
        "id": "EdgFWxsmLGem",
        "outputId": "39592574-d8b7-42c1-f6c9-d5d27c2edeb9",
        "colab": {
          "base_uri": "https://localhost:8080/",
          "height": 34
        }
      },
      "execution_count": null,
      "outputs": [
        {
          "output_type": "display_data",
          "data": {
            "text/html": [
              "-0.000000000000170530256582424"
            ],
            "text/markdown": "-0.000000000000170530256582424",
            "text/latex": "-0.000000000000170530256582424",
            "text/plain": [
              "[1] -0.0000000000001705303"
            ]
          },
          "metadata": {}
        }
      ]
    },
    {
      "cell_type": "code",
      "source": [
        "# La Sumatoria de residuos al cuadrado (SCR)\n",
        "sum(sq_e)"
      ],
      "metadata": {
        "id": "rmipIeyuQKSM",
        "outputId": "836386ac-13de-437a-d72b-4f3781710ffe",
        "colab": {
          "base_uri": "https://localhost:8080/",
          "height": 34
        }
      },
      "execution_count": null,
      "outputs": [
        {
          "output_type": "display_data",
          "data": {
            "text/html": [
              "533441.351032448"
            ],
            "text/markdown": "533441.351032448",
            "text/latex": "533441.351032448",
            "text/plain": [
              "[1] 533441.4"
            ]
          },
          "metadata": {}
        }
      ]
    },
    {
      "cell_type": "markdown",
      "source": [
        "Calcular el estimador de $\\sigma^{2}$:\n",
        "\n",
        "\\begin{gather*}\n",
        "\\hat{\\sigma^{2}}= \\frac{\\sum \\hat{\\epsilon}_{i}^{2}}{n-2}\n",
        "\\end{gather*}"
      ],
      "metadata": {
        "id": "VFJdLb6ILZF-"
      }
    },
    {
      "cell_type": "code",
      "source": [
        "sigma2_hat <- sum(sq_e)/(nrow(base_2)-2)\n",
        "sigma2_hat"
      ],
      "metadata": {
        "id": "WwMVWSnrL_54",
        "outputId": "b4cf3132-4edd-4d08-a2f5-0e54769f7563",
        "colab": {
          "base_uri": "https://localhost:8080/",
          "height": 34
        }
      },
      "execution_count": null,
      "outputs": [
        {
          "output_type": "display_data",
          "data": {
            "text/html": [
              "41033.9500794191"
            ],
            "text/markdown": "41033.9500794191",
            "text/latex": "41033.9500794191",
            "text/plain": [
              "[1] 41033.95"
            ]
          },
          "metadata": {}
        }
      ]
    },
    {
      "cell_type": "markdown",
      "source": [
        "Calcular las varianzas de $\\hat{\\beta}_{1}$ y $\\hat{\\beta}_{2}$. \n",
        "\n",
        "\\begin{gather*}\n",
        "\\hat{Var}(\\hat{\\beta}_{1})=\\sigma^{2}(\\frac{1}{n}+\\frac{\\bar{X}^{2}}{\\sum x^{2}_{i}})\n",
        "\\end{gather*}\n",
        "\n",
        "\\begin{gather*}\n",
        "\\hat{Var}(\\hat{\\beta}_{2})=\\frac{\\sigma^{2}}{\\sum x_{i}^{2}}\n",
        "\\end{gather*}"
      ],
      "metadata": {
        "id": "6ZP0jn-nMZOt"
      }
    },
    {
      "cell_type": "code",
      "source": [
        "# Calcular varianza de beta1\n",
        "var_beta1 <- sigma2_hat*((1/nrow(base_2)) + ((mX^2)/sum(sq_X)))\n",
        "var_beta1"
      ],
      "metadata": {
        "id": "JRX9QnTwN-JJ",
        "outputId": "c0b74a0b-68df-4790-eb92-a5eb71f0c820",
        "colab": {
          "base_uri": "https://localhost:8080/",
          "height": 34
        }
      },
      "execution_count": null,
      "outputs": [
        {
          "output_type": "display_data",
          "data": {
            "text/html": [
              "50778.0001720245"
            ],
            "text/markdown": "50778.0001720245",
            "text/latex": "50778.0001720245",
            "text/plain": [
              "[1] 50778"
            ]
          },
          "metadata": {}
        }
      ]
    },
    {
      "cell_type": "code",
      "source": [
        "# Calcular varianza de beta2\n",
        "var_beta2 <- sigma2_hat / sum(sq_X)\n",
        "var_beta2"
      ],
      "metadata": {
        "id": "v47UelmtOfQ3",
        "outputId": "579b42a3-4cb2-4de3-e15b-12fa5393fee1",
        "colab": {
          "base_uri": "https://localhost:8080/",
          "height": 34
        }
      },
      "execution_count": null,
      "outputs": [
        {
          "output_type": "display_data",
          "data": {
            "text/html": [
              "302.61025132315"
            ],
            "text/markdown": "302.61025132315",
            "text/latex": "302.61025132315",
            "text/plain": [
              "[1] 302.6103"
            ]
          },
          "metadata": {}
        }
      ]
    },
    {
      "cell_type": "markdown",
      "source": [
        "Estimar una regresión de $Y$ sobre $X$"
      ],
      "metadata": {
        "id": "XmRYWsKOOyp-"
      }
    },
    {
      "cell_type": "code",
      "source": [
        "model <- lm(Y ~ X, data=base_2)\n",
        "summary(model)"
      ],
      "metadata": {
        "id": "Tg3Ux75QO3Am",
        "outputId": "291a779b-6257-4d5a-f23d-66d440ab5869",
        "colab": {
          "base_uri": "https://localhost:8080/",
          "height": 329
        }
      },
      "execution_count": null,
      "outputs": [
        {
          "output_type": "display_data",
          "data": {
            "text/plain": [
              "\n",
              "Call:\n",
              "lm(formula = Y ~ X, data = base_2)\n",
              "\n",
              "Residuals:\n",
              "    Min      1Q  Median      3Q     Max \n",
              "-265.33 -138.05    7.29   71.38  344.45 \n",
              "\n",
              "Coefficients:\n",
              "            Estimate Std. Error t value Pr(>|t|)  \n",
              "(Intercept)  -175.47     225.34  -0.779     0.45  \n",
              "X              52.39      17.40   3.011     0.01 *\n",
              "---\n",
              "Signif. codes:  0 ‘***’ 0.001 ‘**’ 0.01 ‘*’ 0.05 ‘.’ 0.1 ‘ ’ 1\n",
              "\n",
              "Residual standard error: 202.6 on 13 degrees of freedom\n",
              "Multiple R-squared:  0.4109,\tAdjusted R-squared:  0.3656 \n",
              "F-statistic: 9.069 on 1 and 13 DF,  p-value: 0.01002\n"
            ]
          },
          "metadata": {}
        }
      ]
    },
    {
      "cell_type": "code",
      "source": [
        "225.34^2\n",
        "17.4^2"
      ],
      "metadata": {
        "id": "PpPJ3pykPSPQ",
        "outputId": "be65f89c-ae66-493d-b73c-c0787896a8de",
        "colab": {
          "base_uri": "https://localhost:8080/",
          "height": 52
        }
      },
      "execution_count": null,
      "outputs": [
        {
          "output_type": "display_data",
          "data": {
            "text/html": [
              "50778.1156"
            ],
            "text/markdown": "50778.1156",
            "text/latex": "50778.1156",
            "text/plain": [
              "[1] 50778.12"
            ]
          },
          "metadata": {}
        },
        {
          "output_type": "display_data",
          "data": {
            "text/html": [
              "302.76"
            ],
            "text/markdown": "302.76",
            "text/latex": "302.76",
            "text/plain": [
              "[1] 302.76"
            ]
          },
          "metadata": {}
        }
      ]
    },
    {
      "cell_type": "markdown",
      "source": [
        "Hallar SCT, SCE y SCR"
      ],
      "metadata": {
        "id": "7aR9umOEQobI"
      }
    },
    {
      "cell_type": "code",
      "source": [
        "# SCR\n",
        "scr <- sum((fitted(model) - base_2$Y)^2)\n",
        "scr"
      ],
      "metadata": {
        "id": "POOZer2NQnpo",
        "outputId": "26122cd1-d92f-4534-cd98-bf800e47edc0",
        "colab": {
          "base_uri": "https://localhost:8080/",
          "height": 34
        }
      },
      "execution_count": null,
      "outputs": [
        {
          "output_type": "display_data",
          "data": {
            "text/html": [
              "533441.351032449"
            ],
            "text/markdown": "533441.351032449",
            "text/latex": "533441.351032449",
            "text/plain": [
              "[1] 533441.4"
            ]
          },
          "metadata": {}
        }
      ]
    },
    {
      "cell_type": "code",
      "source": [
        "# SCE\n",
        "sce <- sum((fitted(model) - mean(base_2$Y))^2)\n",
        "sce"
      ],
      "metadata": {
        "id": "VhrpsfNCQxN7",
        "outputId": "c577b9f1-6c2d-47b2-83d1-74057e9560de",
        "colab": {
          "base_uri": "https://localhost:8080/",
          "height": 34
        }
      },
      "execution_count": null,
      "outputs": [
        {
          "output_type": "display_data",
          "data": {
            "text/html": [
              "372132.248967552"
            ],
            "text/markdown": "372132.248967552",
            "text/latex": "372132.248967552",
            "text/plain": [
              "[1] 372132.2"
            ]
          },
          "metadata": {}
        }
      ]
    },
    {
      "cell_type": "code",
      "source": [
        "# SCT\n",
        "sct <- scr + sce\n",
        "sct"
      ],
      "metadata": {
        "id": "IalfPlh5Qy_5",
        "outputId": "0280ac66-66fd-403b-d8d6-b3e4b27d74f9",
        "colab": {
          "base_uri": "https://localhost:8080/",
          "height": 34
        }
      },
      "execution_count": null,
      "outputs": [
        {
          "output_type": "display_data",
          "data": {
            "text/html": [
              "905573.6"
            ],
            "text/markdown": "905573.6",
            "text/latex": "905573.6",
            "text/plain": [
              "[1] 905573.6"
            ]
          },
          "metadata": {}
        }
      ]
    },
    {
      "cell_type": "markdown",
      "source": [
        "Calcular $R^{2}$"
      ],
      "metadata": {
        "id": "enjOJ7zZRO7E"
      }
    },
    {
      "cell_type": "code",
      "source": [
        "# R_squared\n",
        "sce / sct"
      ],
      "metadata": {
        "id": "QsS5QijURRv4",
        "outputId": "067d2ad1-c428-49ab-aa17-559ff4ba9887",
        "colab": {
          "base_uri": "https://localhost:8080/",
          "height": 34
        }
      },
      "execution_count": null,
      "outputs": [
        {
          "output_type": "display_data",
          "data": {
            "text/html": [
              "0.410935399361854"
            ],
            "text/markdown": "0.410935399361854",
            "text/latex": "0.410935399361854",
            "text/plain": [
              "[1] 0.4109354"
            ]
          },
          "metadata": {}
        }
      ]
    }
  ]
}