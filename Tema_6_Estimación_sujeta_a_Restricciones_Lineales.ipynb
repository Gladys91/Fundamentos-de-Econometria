{
  "nbformat": 4,
  "nbformat_minor": 0,
  "metadata": {
    "colab": {
      "provenance": [],
      "collapsed_sections": [],
      "authorship_tag": "ABX9TyM9kgch22ATiI41pL7YvdyX",
      "include_colab_link": true
    },
    "kernelspec": {
      "name": "ir",
      "display_name": "R"
    },
    "language_info": {
      "name": "R"
    }
  },
  "cells": [
    {
      "cell_type": "markdown",
      "metadata": {
        "id": "view-in-github",
        "colab_type": "text"
      },
      "source": [
        "<a href=\"https://colab.research.google.com/github/juanpalominoh/Fundamentos-de-Econometria/blob/main/Tema_6_Estimaci%C3%B3n_sujeta_a_Restricciones_Lineales.ipynb\" target=\"_parent\"><img src=\"https://colab.research.google.com/assets/colab-badge.svg\" alt=\"Open In Colab\"/></a>"
      ]
    },
    {
      "cell_type": "markdown",
      "source": [
        "# Estimación sujeta a Restricciones Lineales"
      ],
      "metadata": {
        "id": "4cqByn2NMX_o"
      }
    },
    {
      "cell_type": "markdown",
      "source": [
        "Tenemos información de producción, capital y trabajo de 27 empresas y deseamos estimar la función de producción. Hay dos modelos alternaitivos para estimar la función de producción Cobb-Douglas logaritmica:\n",
        "\\begin{gather*}\n",
        "ln(Q_{i}) = \\beta_{1} + \\beta_{2} ln(K_{i}) + \\beta_{3} ln(L_{i}) + \\epsilon_{i}\n",
        "\\end{gather*}\n",
        "Y la translogarítmica:\n",
        "\\begin{gather*}\n",
        "Q_{i} = \\alpha_{1} + \\alpha_{2} ln(K_{i}) + \\alpha_{3} ln(L_{i}) + \\alpha_{4} [\\frac{1}{2}ln(K_{i})]^2 + \\alpha_{5} [\\frac{1}{2}ln(L_{i})]^2 + \\alpha_{6} ln(K_{i})*ln(L_{i}) + \\epsilon_{i}\n",
        "\\end{gather*}"
      ],
      "metadata": {
        "id": "JHCCRxhpMbhQ"
      }
    },
    {
      "cell_type": "code",
      "source": [
        "install.packages(\"AER\")\n",
        "library(AER)"
      ],
      "metadata": {
        "id": "1jraa-jrlyaY"
      },
      "execution_count": null,
      "outputs": []
    },
    {
      "cell_type": "code",
      "source": [
        "data(SIC33)\n",
        "SIC33"
      ],
      "metadata": {
        "colab": {
          "base_uri": "https://localhost:8080/",
          "height": 945
        },
        "id": "cEKDGNK-y_We",
        "outputId": "6e4e69c0-ccbe-4c4a-aceb-4d52ca20e7d4"
      },
      "execution_count": null,
      "outputs": [
        {
          "output_type": "display_data",
          "data": {
            "text/html": [
              "<table class=\"dataframe\">\n",
              "<caption>A data.frame: 27 × 3</caption>\n",
              "<thead>\n",
              "\t<tr><th></th><th scope=col>output</th><th scope=col>labor</th><th scope=col>capital</th></tr>\n",
              "\t<tr><th></th><th scope=col>&lt;dbl&gt;</th><th scope=col>&lt;dbl&gt;</th><th scope=col>&lt;dbl&gt;</th></tr>\n",
              "</thead>\n",
              "<tbody>\n",
              "\t<tr><th scope=row>1</th><td> 657.29</td><td> 162.31</td><td>  279.99</td></tr>\n",
              "\t<tr><th scope=row>2</th><td> 935.93</td><td> 214.43</td><td>  542.50</td></tr>\n",
              "\t<tr><th scope=row>3</th><td>1110.65</td><td> 186.44</td><td>  721.51</td></tr>\n",
              "\t<tr><th scope=row>4</th><td>1200.89</td><td> 245.83</td><td> 1167.68</td></tr>\n",
              "\t<tr><th scope=row>5</th><td>1052.68</td><td> 211.40</td><td>  811.77</td></tr>\n",
              "\t<tr><th scope=row>6</th><td>3406.02</td><td> 690.61</td><td> 4558.02</td></tr>\n",
              "\t<tr><th scope=row>7</th><td>2427.89</td><td> 452.79</td><td> 3069.91</td></tr>\n",
              "\t<tr><th scope=row>8</th><td>4257.46</td><td> 714.20</td><td> 5585.01</td></tr>\n",
              "\t<tr><th scope=row>9</th><td>1625.19</td><td> 320.54</td><td> 1618.75</td></tr>\n",
              "\t<tr><th scope=row>10</th><td>1272.05</td><td> 253.17</td><td> 1562.08</td></tr>\n",
              "\t<tr><th scope=row>11</th><td>1004.45</td><td> 236.44</td><td>  662.04</td></tr>\n",
              "\t<tr><th scope=row>12</th><td> 598.87</td><td> 140.73</td><td>  875.37</td></tr>\n",
              "\t<tr><th scope=row>13</th><td> 853.10</td><td> 145.04</td><td> 1696.98</td></tr>\n",
              "\t<tr><th scope=row>14</th><td>1165.63</td><td> 240.27</td><td> 1078.79</td></tr>\n",
              "\t<tr><th scope=row>15</th><td>1917.55</td><td> 536.73</td><td> 2109.34</td></tr>\n",
              "\t<tr><th scope=row>16</th><td>9849.17</td><td>1564.83</td><td>13989.55</td></tr>\n",
              "\t<tr><th scope=row>17</th><td>1088.27</td><td> 214.62</td><td>  884.24</td></tr>\n",
              "\t<tr><th scope=row>18</th><td>8095.63</td><td>1083.10</td><td> 9119.70</td></tr>\n",
              "\t<tr><th scope=row>19</th><td>3175.39</td><td> 521.74</td><td> 5686.99</td></tr>\n",
              "\t<tr><th scope=row>20</th><td>1653.38</td><td> 304.85</td><td> 1701.06</td></tr>\n",
              "\t<tr><th scope=row>21</th><td>5159.31</td><td> 835.69</td><td> 5206.36</td></tr>\n",
              "\t<tr><th scope=row>22</th><td>3378.40</td><td> 284.00</td><td> 3288.72</td></tr>\n",
              "\t<tr><th scope=row>23</th><td> 592.85</td><td> 150.77</td><td>  357.32</td></tr>\n",
              "\t<tr><th scope=row>24</th><td>1601.98</td><td> 259.91</td><td> 2031.93</td></tr>\n",
              "\t<tr><th scope=row>25</th><td>2065.85</td><td> 497.60</td><td> 2492.98</td></tr>\n",
              "\t<tr><th scope=row>26</th><td>2293.87</td><td> 275.20</td><td> 1711.74</td></tr>\n",
              "\t<tr><th scope=row>27</th><td> 745.67</td><td> 137.00</td><td>  768.59</td></tr>\n",
              "</tbody>\n",
              "</table>\n"
            ],
            "text/markdown": "\nA data.frame: 27 × 3\n\n| <!--/--> | output &lt;dbl&gt; | labor &lt;dbl&gt; | capital &lt;dbl&gt; |\n|---|---|---|---|\n| 1 |  657.29 |  162.31 |   279.99 |\n| 2 |  935.93 |  214.43 |   542.50 |\n| 3 | 1110.65 |  186.44 |   721.51 |\n| 4 | 1200.89 |  245.83 |  1167.68 |\n| 5 | 1052.68 |  211.40 |   811.77 |\n| 6 | 3406.02 |  690.61 |  4558.02 |\n| 7 | 2427.89 |  452.79 |  3069.91 |\n| 8 | 4257.46 |  714.20 |  5585.01 |\n| 9 | 1625.19 |  320.54 |  1618.75 |\n| 10 | 1272.05 |  253.17 |  1562.08 |\n| 11 | 1004.45 |  236.44 |   662.04 |\n| 12 |  598.87 |  140.73 |   875.37 |\n| 13 |  853.10 |  145.04 |  1696.98 |\n| 14 | 1165.63 |  240.27 |  1078.79 |\n| 15 | 1917.55 |  536.73 |  2109.34 |\n| 16 | 9849.17 | 1564.83 | 13989.55 |\n| 17 | 1088.27 |  214.62 |   884.24 |\n| 18 | 8095.63 | 1083.10 |  9119.70 |\n| 19 | 3175.39 |  521.74 |  5686.99 |\n| 20 | 1653.38 |  304.85 |  1701.06 |\n| 21 | 5159.31 |  835.69 |  5206.36 |\n| 22 | 3378.40 |  284.00 |  3288.72 |\n| 23 |  592.85 |  150.77 |   357.32 |\n| 24 | 1601.98 |  259.91 |  2031.93 |\n| 25 | 2065.85 |  497.60 |  2492.98 |\n| 26 | 2293.87 |  275.20 |  1711.74 |\n| 27 |  745.67 |  137.00 |   768.59 |\n\n",
            "text/latex": "A data.frame: 27 × 3\n\\begin{tabular}{r|lll}\n  & output & labor & capital\\\\\n  & <dbl> & <dbl> & <dbl>\\\\\n\\hline\n\t1 &  657.29 &  162.31 &   279.99\\\\\n\t2 &  935.93 &  214.43 &   542.50\\\\\n\t3 & 1110.65 &  186.44 &   721.51\\\\\n\t4 & 1200.89 &  245.83 &  1167.68\\\\\n\t5 & 1052.68 &  211.40 &   811.77\\\\\n\t6 & 3406.02 &  690.61 &  4558.02\\\\\n\t7 & 2427.89 &  452.79 &  3069.91\\\\\n\t8 & 4257.46 &  714.20 &  5585.01\\\\\n\t9 & 1625.19 &  320.54 &  1618.75\\\\\n\t10 & 1272.05 &  253.17 &  1562.08\\\\\n\t11 & 1004.45 &  236.44 &   662.04\\\\\n\t12 &  598.87 &  140.73 &   875.37\\\\\n\t13 &  853.10 &  145.04 &  1696.98\\\\\n\t14 & 1165.63 &  240.27 &  1078.79\\\\\n\t15 & 1917.55 &  536.73 &  2109.34\\\\\n\t16 & 9849.17 & 1564.83 & 13989.55\\\\\n\t17 & 1088.27 &  214.62 &   884.24\\\\\n\t18 & 8095.63 & 1083.10 &  9119.70\\\\\n\t19 & 3175.39 &  521.74 &  5686.99\\\\\n\t20 & 1653.38 &  304.85 &  1701.06\\\\\n\t21 & 5159.31 &  835.69 &  5206.36\\\\\n\t22 & 3378.40 &  284.00 &  3288.72\\\\\n\t23 &  592.85 &  150.77 &   357.32\\\\\n\t24 & 1601.98 &  259.91 &  2031.93\\\\\n\t25 & 2065.85 &  497.60 &  2492.98\\\\\n\t26 & 2293.87 &  275.20 &  1711.74\\\\\n\t27 &  745.67 &  137.00 &   768.59\\\\\n\\end{tabular}\n",
            "text/plain": [
              "   output  labor   capital \n",
              "1   657.29  162.31   279.99\n",
              "2   935.93  214.43   542.50\n",
              "3  1110.65  186.44   721.51\n",
              "4  1200.89  245.83  1167.68\n",
              "5  1052.68  211.40   811.77\n",
              "6  3406.02  690.61  4558.02\n",
              "7  2427.89  452.79  3069.91\n",
              "8  4257.46  714.20  5585.01\n",
              "9  1625.19  320.54  1618.75\n",
              "10 1272.05  253.17  1562.08\n",
              "11 1004.45  236.44   662.04\n",
              "12  598.87  140.73   875.37\n",
              "13  853.10  145.04  1696.98\n",
              "14 1165.63  240.27  1078.79\n",
              "15 1917.55  536.73  2109.34\n",
              "16 9849.17 1564.83 13989.55\n",
              "17 1088.27  214.62   884.24\n",
              "18 8095.63 1083.10  9119.70\n",
              "19 3175.39  521.74  5686.99\n",
              "20 1653.38  304.85  1701.06\n",
              "21 5159.31  835.69  5206.36\n",
              "22 3378.40  284.00  3288.72\n",
              "23  592.85  150.77   357.32\n",
              "24 1601.98  259.91  2031.93\n",
              "25 2065.85  497.60  2492.98\n",
              "26 2293.87  275.20  1711.74\n",
              "27  745.67  137.00   768.59"
            ]
          },
          "metadata": {}
        }
      ]
    },
    {
      "cell_type": "markdown",
      "source": [
        "Estimar la función logaritmica:"
      ],
      "metadata": {
        "id": "MziWnLxLOWFJ"
      }
    },
    {
      "cell_type": "code",
      "source": [
        "fm_cb <- lm(output ~ capital + labor, data=log(SIC33))\n",
        "summary(fm_cb)"
      ],
      "metadata": {
        "colab": {
          "base_uri": "https://localhost:8080/",
          "height": 347
        },
        "id": "PQyQLyk7OYEU",
        "outputId": "55f6e992-b988-4769-ad14-05a1d9cc4cae"
      },
      "execution_count": null,
      "outputs": [
        {
          "output_type": "display_data",
          "data": {
            "text/plain": [
              "\n",
              "Call:\n",
              "lm(formula = output ~ capital + labor, data = log(SIC33))\n",
              "\n",
              "Residuals:\n",
              "     Min       1Q   Median       3Q      Max \n",
              "-0.30385 -0.10119 -0.01819  0.05582  0.50559 \n",
              "\n",
              "Coefficients:\n",
              "            Estimate Std. Error t value Pr(>|t|)    \n",
              "(Intercept)  1.17064    0.32678   3.582  0.00150 ** \n",
              "capital      0.37571    0.08535   4.402  0.00019 ***\n",
              "labor        0.60300    0.12595   4.787 7.13e-05 ***\n",
              "---\n",
              "Signif. codes:  0 ‘***’ 0.001 ‘**’ 0.01 ‘*’ 0.05 ‘.’ 0.1 ‘ ’ 1\n",
              "\n",
              "Residual standard error: 0.1884 on 24 degrees of freedom\n",
              "Multiple R-squared:  0.9435,\tAdjusted R-squared:  0.9388 \n",
              "F-statistic: 200.2 on 2 and 24 DF,  p-value: 1.067e-15\n"
            ]
          },
          "metadata": {}
        }
      ]
    },
    {
      "cell_type": "code",
      "source": [
        "# Suma de los residuos al cuadrado\n",
        "deviance(fm_cb)"
      ],
      "metadata": {
        "colab": {
          "base_uri": "https://localhost:8080/",
          "height": 34
        },
        "id": "6FHgW4jCPGKg",
        "outputId": "8398438a-d364-4855-a101-fc2f48514330"
      },
      "execution_count": null,
      "outputs": [
        {
          "output_type": "display_data",
          "data": {
            "text/html": [
              "0.85163365489445"
            ],
            "text/markdown": "0.85163365489445",
            "text/latex": "0.85163365489445",
            "text/plain": [
              "[1] 0.8516337"
            ]
          },
          "metadata": {}
        }
      ]
    },
    {
      "cell_type": "code",
      "source": [
        "# Matriz de varianza-covarianza\n",
        "vcov(fm_cb)"
      ],
      "metadata": {
        "colab": {
          "base_uri": "https://localhost:8080/",
          "height": 161
        },
        "id": "Scb8S-dePcS2",
        "outputId": "57c5e1d7-f5bf-4d6d-e796-9d109c508343"
      },
      "execution_count": null,
      "outputs": [
        {
          "output_type": "display_data",
          "data": {
            "text/html": [
              "<table class=\"dataframe\">\n",
              "<caption>A matrix: 3 × 3 of type dbl</caption>\n",
              "<thead>\n",
              "\t<tr><th></th><th scope=col>(Intercept)</th><th scope=col>capital</th><th scope=col>labor</th></tr>\n",
              "</thead>\n",
              "<tbody>\n",
              "\t<tr><th scope=row>(Intercept)</th><td> 0.10678650</td><td> 0.001188850</td><td>-0.019835398</td></tr>\n",
              "\t<tr><th scope=row>capital</th><td> 0.00118885</td><td> 0.007283931</td><td>-0.009616201</td></tr>\n",
              "\t<tr><th scope=row>labor</th><td>-0.01983540</td><td>-0.009616201</td><td> 0.015864400</td></tr>\n",
              "</tbody>\n",
              "</table>\n"
            ],
            "text/markdown": "\nA matrix: 3 × 3 of type dbl\n\n| <!--/--> | (Intercept) | capital | labor |\n|---|---|---|---|\n| (Intercept) |  0.10678650 |  0.001188850 | -0.019835398 |\n| capital |  0.00118885 |  0.007283931 | -0.009616201 |\n| labor | -0.01983540 | -0.009616201 |  0.015864400 |\n\n",
            "text/latex": "A matrix: 3 × 3 of type dbl\n\\begin{tabular}{r|lll}\n  & (Intercept) & capital & labor\\\\\n\\hline\n\t(Intercept) &  0.10678650 &  0.001188850 & -0.019835398\\\\\n\tcapital &  0.00118885 &  0.007283931 & -0.009616201\\\\\n\tlabor & -0.01983540 & -0.009616201 &  0.015864400\\\\\n\\end{tabular}\n",
            "text/plain": [
              "            (Intercept) capital      labor       \n",
              "(Intercept)  0.10678650  0.001188850 -0.019835398\n",
              "capital      0.00118885  0.007283931 -0.009616201\n",
              "labor       -0.01983540 -0.009616201  0.015864400"
            ]
          },
          "metadata": {}
        }
      ]
    },
    {
      "cell_type": "code",
      "source": [
        "# Usando matrices\n",
        "X <- cbind(1,\n",
        "          log(SIC33$capital),\n",
        "          log(SIC33$labor))\n",
        "y <- log(SIC33$output)"
      ],
      "metadata": {
        "id": "7TH9gLtaQBWw"
      },
      "execution_count": null,
      "outputs": []
    },
    {
      "cell_type": "markdown",
      "source": [
        "Tenemos la información de la siguiente matriz:\n",
        "\\begin{gather*}\n",
        "(X'X)^{-1}\n",
        "\\end{gather*}"
      ],
      "metadata": {
        "id": "_tFuA5xLQgS1"
      }
    },
    {
      "cell_type": "code",
      "source": [
        "# Inversa (X'X)^-1\n",
        "invx <- solve(crossprod(X))\n",
        "invx"
      ],
      "metadata": {
        "colab": {
          "base_uri": "https://localhost:8080/",
          "height": 128
        },
        "id": "4RHNo1qoQQx0",
        "outputId": "b9a071ae-3e30-4944-dd91-e15ff3941e63"
      },
      "execution_count": null,
      "outputs": [
        {
          "output_type": "display_data",
          "data": {
            "text/html": [
              "<table class=\"dataframe\">\n",
              "<caption>A matrix: 3 × 3 of type dbl</caption>\n",
              "<tbody>\n",
              "\t<tr><td> 3.00936430</td><td> 0.03350314</td><td>-0.5589840</td></tr>\n",
              "\t<tr><td> 0.03350314</td><td> 0.20526941</td><td>-0.2709954</td></tr>\n",
              "\t<tr><td>-0.55898396</td><td>-0.27099541</td><td> 0.4470767</td></tr>\n",
              "</tbody>\n",
              "</table>\n"
            ],
            "text/markdown": "\nA matrix: 3 × 3 of type dbl\n\n|  3.00936430 |  0.03350314 | -0.5589840 |\n|  0.03350314 |  0.20526941 | -0.2709954 |\n| -0.55898396 | -0.27099541 |  0.4470767 |\n\n",
            "text/latex": "A matrix: 3 × 3 of type dbl\n\\begin{tabular}{lll}\n\t  3.00936430 &  0.03350314 & -0.5589840\\\\\n\t  0.03350314 &  0.20526941 & -0.2709954\\\\\n\t -0.55898396 & -0.27099541 &  0.4470767\\\\\n\\end{tabular}\n",
            "text/plain": [
              "     [,1]        [,2]        [,3]      \n",
              "[1,]  3.00936430  0.03350314 -0.5589840\n",
              "[2,]  0.03350314  0.20526941 -0.2709954\n",
              "[3,] -0.55898396 -0.27099541  0.4470767"
            ]
          },
          "metadata": {}
        }
      ]
    },
    {
      "cell_type": "markdown",
      "source": [
        "## Pregunta 1"
      ],
      "metadata": {
        "id": "dAOSoM07Qsgm"
      }
    },
    {
      "cell_type": "markdown",
      "source": [
        "**Probar la hipótesis de rendimientos constantes a escala: $H_0: \\beta_{2} + \\beta_{3}=1$**"
      ],
      "metadata": {
        "id": "vI5dBlQOQ3fg"
      }
    },
    {
      "cell_type": "markdown",
      "source": [
        "Definamos a \n",
        "\\begin{gather*}\n",
        "R= \n",
        "\\begin{bmatrix}\n",
        "0 & 1 & 1\n",
        "\\end{bmatrix}\n",
        "\\end{gather*}\n",
        "y\n",
        "\\begin{gather*}\n",
        "r=\n",
        "\\begin{bmatrix}\n",
        "1\n",
        "\\end{bmatrix}\n",
        "\\end{gather*}"
      ],
      "metadata": {
        "id": "MqoSzm5lRV3G"
      }
    },
    {
      "cell_type": "code",
      "source": [
        "# El vector de coeficientes es:\n",
        "b_hat <- solve(crossprod(X)) %*% crossprod(X, y)\n",
        "b_hat"
      ],
      "metadata": {
        "colab": {
          "base_uri": "https://localhost:8080/",
          "height": 146
        },
        "id": "cul3-8YRTA20",
        "outputId": "c7c5194f-b508-4c17-b797-6fb533731951"
      },
      "execution_count": null,
      "outputs": [
        {
          "output_type": "display_data",
          "data": {
            "text/html": [
              "<table class=\"dataframe\">\n",
              "<caption>A matrix: 3 × 1 of type dbl</caption>\n",
              "<tbody>\n",
              "\t<tr><td>1.1706440</td></tr>\n",
              "\t<tr><td>0.3757103</td></tr>\n",
              "\t<tr><td>0.6029992</td></tr>\n",
              "</tbody>\n",
              "</table>\n"
            ],
            "text/markdown": "\nA matrix: 3 × 1 of type dbl\n\n| 1.1706440 |\n| 0.3757103 |\n| 0.6029992 |\n\n",
            "text/latex": "A matrix: 3 × 1 of type dbl\n\\begin{tabular}{l}\n\t 1.1706440\\\\\n\t 0.3757103\\\\\n\t 0.6029992\\\\\n\\end{tabular}\n",
            "text/plain": [
              "     [,1]     \n",
              "[1,] 1.1706440\n",
              "[2,] 0.3757103\n",
              "[3,] 0.6029992"
            ]
          },
          "metadata": {}
        }
      ]
    },
    {
      "cell_type": "code",
      "source": [
        "# La matriz R\n",
        "R <- as.matrix(cbind(0, 1, 1))\n",
        "R"
      ],
      "metadata": {
        "colab": {
          "base_uri": "https://localhost:8080/",
          "height": 100
        },
        "id": "LkgYAm1wTkNO",
        "outputId": "2fc3273a-1176-4e27-f16c-ff97f56fd338"
      },
      "execution_count": null,
      "outputs": [
        {
          "output_type": "display_data",
          "data": {
            "text/html": [
              "<table class=\"dataframe\">\n",
              "<caption>A matrix: 1 × 3 of type dbl</caption>\n",
              "<tbody>\n",
              "\t<tr><td>0</td><td>1</td><td>1</td></tr>\n",
              "</tbody>\n",
              "</table>\n"
            ],
            "text/markdown": "\nA matrix: 1 × 3 of type dbl\n\n| 0 | 1 | 1 |\n\n",
            "text/latex": "A matrix: 1 × 3 of type dbl\n\\begin{tabular}{lll}\n\t 0 & 1 & 1\\\\\n\\end{tabular}\n",
            "text/plain": [
              "     [,1] [,2] [,3]\n",
              "[1,] 0    1    1   "
            ]
          },
          "metadata": {}
        }
      ]
    },
    {
      "cell_type": "markdown",
      "source": [
        "Entonces\n",
        "\\begin{gather*}\n",
        "R\\hat{\\beta} - r= \n",
        "\\begin{bmatrix}\n",
        "0 & 1 & 1\n",
        "\\end{bmatrix}\n",
        "\\begin{bmatrix}\n",
        "1.170644 \\\\\n",
        ".03757101 \\\\\n",
        ".6029995\n",
        "\\end{bmatrix}\n",
        "-1=-0.021291\n",
        "\\end{gather*}"
      ],
      "metadata": {
        "id": "Lf6JeGNSS2JB"
      }
    },
    {
      "cell_type": "code",
      "source": [
        "# El cálculo es:\n",
        "Rbr <- R%*%b_hat - 1\n",
        "Rbr"
      ],
      "metadata": {
        "colab": {
          "base_uri": "https://localhost:8080/",
          "height": 83
        },
        "id": "jQ43wlOJS_qS",
        "outputId": "effb8817-3dab-4182-ecfd-b07bcbd22cd9"
      },
      "execution_count": null,
      "outputs": [
        {
          "output_type": "display_data",
          "data": {
            "text/html": [
              "<table class=\"dataframe\">\n",
              "<caption>A matrix: 1 × 1 of type dbl</caption>\n",
              "<tbody>\n",
              "\t<tr><td>-0.02129049</td></tr>\n",
              "</tbody>\n",
              "</table>\n"
            ],
            "text/markdown": "\nA matrix: 1 × 1 of type dbl\n\n| -0.02129049 |\n\n",
            "text/latex": "A matrix: 1 × 1 of type dbl\n\\begin{tabular}{l}\n\t -0.02129049\\\\\n\\end{tabular}\n",
            "text/plain": [
              "     [,1]       \n",
              "[1,] -0.02129049"
            ]
          },
          "metadata": {}
        }
      ]
    },
    {
      "cell_type": "markdown",
      "source": [
        "Luego\n",
        "\\begin{gather*}\n",
        "R(X'X)^{-1}R= \n",
        "\\begin{bmatrix}\n",
        "0 & 1 & 1\n",
        "\\end{bmatrix}\n",
        "\\begin{bmatrix}\n",
        "3.009364 & 0.033501 & -0.558981 \\\\\n",
        "0.033501 & 0.205268 & -0.27099 \\\\\n",
        "-0.558981 & -0.27099 & 0.447074\n",
        "\\end{bmatrix}\n",
        "\\begin{bmatrix}\n",
        "0 \\\\\n",
        "1 \\\\\n",
        "1\n",
        "\\end{bmatrix}\n",
        "= 0.110355\n",
        "\\end{gather*}"
      ],
      "metadata": {
        "id": "RazPH5qlUpOZ"
      }
    },
    {
      "cell_type": "code",
      "source": [
        "# El cálculo es:\n",
        "RXR <- (R %*% invx) %*% t(R)\n",
        "RXR"
      ],
      "metadata": {
        "colab": {
          "base_uri": "https://localhost:8080/",
          "height": 83
        },
        "id": "Qoh45C-YVTnf",
        "outputId": "9276875a-4805-4613-afec-5ecd82b4168d"
      },
      "execution_count": null,
      "outputs": [
        {
          "output_type": "display_data",
          "data": {
            "text/html": [
              "<table class=\"dataframe\">\n",
              "<caption>A matrix: 1 × 1 of type dbl</caption>\n",
              "<tbody>\n",
              "\t<tr><td>0.1103553</td></tr>\n",
              "</tbody>\n",
              "</table>\n"
            ],
            "text/markdown": "\nA matrix: 1 × 1 of type dbl\n\n| 0.1103553 |\n\n",
            "text/latex": "A matrix: 1 × 1 of type dbl\n\\begin{tabular}{l}\n\t 0.1103553\\\\\n\\end{tabular}\n",
            "text/plain": [
              "     [,1]     \n",
              "[1,] 0.1103553"
            ]
          },
          "metadata": {}
        }
      ]
    },
    {
      "cell_type": "markdown",
      "source": [
        "Para el cálculo del F estadístico:\n",
        "\\begin{gather*}\n",
        "F = \\frac{\\frac{(R\\hat{\\beta}-r)^{'}[R(X'X)^{-1}R']^{-1}(R\\hat{\\beta}-r)}{q}}{\\frac{\\hat{\\epsilon}^{'}\\hat{\\epsilon}}{n-K}}\n",
        "\\end{gather*}"
      ],
      "metadata": {
        "id": "qXmgdcLXV56M"
      }
    },
    {
      "cell_type": "code",
      "source": [
        "num <- (Rbr * (RXR^-1) * Rbr)/1\n",
        "den <- deviance(fm_cb)/24\n",
        "f <- num/den\n",
        "f"
      ],
      "metadata": {
        "colab": {
          "base_uri": "https://localhost:8080/",
          "height": 83
        },
        "id": "Om24K4HCXKWY",
        "outputId": "5582d6da-be4a-472b-c7f0-ef2cc9475c03"
      },
      "execution_count": null,
      "outputs": [
        {
          "output_type": "display_data",
          "data": {
            "text/html": [
              "<table class=\"dataframe\">\n",
              "<caption>A matrix: 1 × 1 of type dbl</caption>\n",
              "<tbody>\n",
              "\t<tr><td>0.1157542</td></tr>\n",
              "</tbody>\n",
              "</table>\n"
            ],
            "text/markdown": "\nA matrix: 1 × 1 of type dbl\n\n| 0.1157542 |\n\n",
            "text/latex": "A matrix: 1 × 1 of type dbl\n\\begin{tabular}{l}\n\t 0.1157542\\\\\n\\end{tabular}\n",
            "text/plain": [
              "     [,1]     \n",
              "[1,] 0.1157542"
            ]
          },
          "metadata": {}
        }
      ]
    },
    {
      "cell_type": "code",
      "source": [
        "# Valor crítico de la tabla F-Fisher\n",
        "qf(0.95, 1, 24)"
      ],
      "metadata": {
        "colab": {
          "base_uri": "https://localhost:8080/",
          "height": 34
        },
        "id": "9Zog7zWJY5gD",
        "outputId": "7da5b266-9fb7-4587-bf96-833148c987d2"
      },
      "execution_count": null,
      "outputs": [
        {
          "output_type": "display_data",
          "data": {
            "text/html": [
              "4.25967727269023"
            ],
            "text/markdown": "4.25967727269023",
            "text/latex": "4.25967727269023",
            "text/plain": [
              "[1] 4.259677"
            ]
          },
          "metadata": {}
        }
      ]
    },
    {
      "cell_type": "markdown",
      "source": [
        "Dado que el valor crítico de tabla F(1,24)=4.25 es mayor a F=0.116, no se rechaza la hipótesis nula de rendimientos constantes a escala."
      ],
      "metadata": {
        "id": "abUQffcpbhTS"
      }
    },
    {
      "cell_type": "code",
      "source": [
        "# Hipótesis de retornos constantes a escala\n",
        "linearHypothesis(fm_cb, \"labor + capital = 1\")"
      ],
      "metadata": {
        "colab": {
          "base_uri": "https://localhost:8080/",
          "height": 161
        },
        "id": "V_n4AGAWSD1u",
        "outputId": "b4650607-31f6-485b-f08b-1763d3b44624"
      },
      "execution_count": null,
      "outputs": [
        {
          "output_type": "display_data",
          "data": {
            "text/html": [
              "<table class=\"dataframe\">\n",
              "<caption>A anova: 2 × 6</caption>\n",
              "<thead>\n",
              "\t<tr><th></th><th scope=col>Res.Df</th><th scope=col>RSS</th><th scope=col>Df</th><th scope=col>Sum of Sq</th><th scope=col>F</th><th scope=col>Pr(&gt;F)</th></tr>\n",
              "\t<tr><th></th><th scope=col>&lt;dbl&gt;</th><th scope=col>&lt;dbl&gt;</th><th scope=col>&lt;dbl&gt;</th><th scope=col>&lt;dbl&gt;</th><th scope=col>&lt;dbl&gt;</th><th scope=col>&lt;dbl&gt;</th></tr>\n",
              "</thead>\n",
              "<tbody>\n",
              "\t<tr><th scope=row>1</th><td>25</td><td>0.8557412</td><td>NA</td><td>         NA</td><td>       NA</td><td>       NA</td></tr>\n",
              "\t<tr><th scope=row>2</th><td>24</td><td>0.8516337</td><td> 1</td><td>0.004107506</td><td>0.1157542</td><td>0.7366458</td></tr>\n",
              "</tbody>\n",
              "</table>\n"
            ],
            "text/markdown": "\nA anova: 2 × 6\n\n| <!--/--> | Res.Df &lt;dbl&gt; | RSS &lt;dbl&gt; | Df &lt;dbl&gt; | Sum of Sq &lt;dbl&gt; | F &lt;dbl&gt; | Pr(&gt;F) &lt;dbl&gt; |\n|---|---|---|---|---|---|---|\n| 1 | 25 | 0.8557412 | NA |          NA |        NA |        NA |\n| 2 | 24 | 0.8516337 |  1 | 0.004107506 | 0.1157542 | 0.7366458 |\n\n",
            "text/latex": "A anova: 2 × 6\n\\begin{tabular}{r|llllll}\n  & Res.Df & RSS & Df & Sum of Sq & F & Pr(>F)\\\\\n  & <dbl> & <dbl> & <dbl> & <dbl> & <dbl> & <dbl>\\\\\n\\hline\n\t1 & 25 & 0.8557412 & NA &          NA &        NA &        NA\\\\\n\t2 & 24 & 0.8516337 &  1 & 0.004107506 & 0.1157542 & 0.7366458\\\\\n\\end{tabular}\n",
            "text/plain": [
              "  Res.Df RSS       Df Sum of Sq   F         Pr(>F)   \n",
              "1 25     0.8557412 NA          NA        NA        NA\n",
              "2 24     0.8516337  1 0.004107506 0.1157542 0.7366458"
            ]
          },
          "metadata": {}
        }
      ]
    },
    {
      "cell_type": "markdown",
      "source": [
        "## Pregunta 2"
      ],
      "metadata": {
        "id": "Nkjn254Bb9Qd"
      }
    },
    {
      "cell_type": "markdown",
      "source": [
        "**Estimar el modelo Cobb-Douglas imponiendo la restricción de rendimientos constantes a escala**"
      ],
      "metadata": {
        "id": "rb6vmik-b-oj"
      }
    },
    {
      "cell_type": "markdown",
      "source": [
        "Calculamos $\\tilde{\\beta}$ de acuerdo a:\n",
        "\\begin{gather*}\n",
        "\\tilde{\\beta} = \\hat{\\beta} + (X'X)^{-1}R'(R(X'X)^{-1}R')^{-1}(r-R\\hat{\\beta})\n",
        "\\end{gather*}"
      ],
      "metadata": {
        "id": "LbtlHb9JcImN"
      }
    },
    {
      "cell_type": "code",
      "source": [
        "beta_rest <- b_hat + (invx %*% t(R)) %*% RXR^(-1) %*% abs(Rbr)\n",
        "beta_rest"
      ],
      "metadata": {
        "colab": {
          "base_uri": "https://localhost:8080/",
          "height": 163
        },
        "id": "boyyeqkFdCEP",
        "outputId": "3d8121f4-0a3a-46be-9648-524c7310cb3f"
      },
      "execution_count": null,
      "outputs": [
        {
          "output_type": "display_data",
          "data": {
            "text/html": [
              "<table class=\"dataframe\">\n",
              "<caption>A matrix: 3 × 1 of type dbl</caption>\n",
              "<tbody>\n",
              "\t<tr><td>1.069265</td></tr>\n",
              "\t<tr><td>0.363030</td></tr>\n",
              "\t<tr><td>0.636970</td></tr>\n",
              "</tbody>\n",
              "</table>\n"
            ],
            "text/markdown": "\nA matrix: 3 × 1 of type dbl\n\n| 1.069265 |\n| 0.363030 |\n| 0.636970 |\n\n",
            "text/latex": "A matrix: 3 × 1 of type dbl\n\\begin{tabular}{l}\n\t 1.069265\\\\\n\t 0.363030\\\\\n\t 0.636970\\\\\n\\end{tabular}\n",
            "text/plain": [
              "     [,1]    \n",
              "[1,] 1.069265\n",
              "[2,] 0.363030\n",
              "[3,] 0.636970"
            ]
          },
          "metadata": {}
        }
      ]
    },
    {
      "cell_type": "markdown",
      "source": [
        "## Pregunta 3"
      ],
      "metadata": {
        "id": "-Wju88ZWegvV"
      }
    },
    {
      "cell_type": "markdown",
      "source": [
        "Estimar lo mismo transformando el modelo original en uno restricto\n",
        "\\begin{gather*}\n",
        "ln(Q_{i}) = \\tilde{\\beta}_{1} + \\tilde{\\beta}_{2} ln(K_{i}) + (1-\\tilde{\\beta}_{2}) ln(L_{i}) + \\tilde{\\epsilon}_{i}\n",
        "\\end{gather*}\n",
        "\n",
        "\\begin{gather*}\n",
        "ln(Q_{i}) - ln(L_{i})= \\tilde{\\beta}_{1} + \\tilde{\\beta}_{2} [ln(K_{i}) - ln(L_{i})] + \\tilde{\\epsilon}_{i}\n",
        "\\end{gather*}"
      ],
      "metadata": {
        "id": "mIhnO4TKeiKi"
      }
    },
    {
      "cell_type": "code",
      "source": [
        "# Se crea las variables producto per capita y capital per capita\n",
        "SIC33$lnql <- log(SIC33$output) - log(SIC33$labor)\n",
        "SIC33$lnkl <- log(SIC33$capital) - log(SIC33$labor)"
      ],
      "metadata": {
        "id": "TDSbs1ktfWRW"
      },
      "execution_count": null,
      "outputs": []
    },
    {
      "cell_type": "code",
      "source": [
        "# Modelo restringido estimado\n",
        "model_rest <- summary(lm(lnql ~ lnkl, data=SIC33))\n",
        "model_rest"
      ],
      "metadata": {
        "colab": {
          "base_uri": "https://localhost:8080/",
          "height": 329
        },
        "id": "H0VUIyu1fj0Z",
        "outputId": "d26acedf-f177-458b-d35c-6c39446c9442"
      },
      "execution_count": null,
      "outputs": [
        {
          "output_type": "display_data",
          "data": {
            "text/plain": [
              "\n",
              "Call:\n",
              "lm(formula = lnql ~ lnkl, data = SIC33)\n",
              "\n",
              "Residuals:\n",
              "     Min       1Q   Median       3Q      Max \n",
              "-0.29281 -0.10015 -0.01333  0.05748  0.51776 \n",
              "\n",
              "Coefficients:\n",
              "            Estimate Std. Error t value Pr(>|t|)    \n",
              "(Intercept)  1.06926    0.13176   8.115 1.81e-08 ***\n",
              "lnkl         0.36303    0.07541   4.814 6.03e-05 ***\n",
              "---\n",
              "Signif. codes:  0 ‘***’ 0.001 ‘**’ 0.01 ‘*’ 0.05 ‘.’ 0.1 ‘ ’ 1\n",
              "\n",
              "Residual standard error: 0.185 on 25 degrees of freedom\n",
              "Multiple R-squared:  0.4811,\tAdjusted R-squared:  0.4603 \n",
              "F-statistic: 23.18 on 1 and 25 DF,  p-value: 6.03e-05\n"
            ]
          },
          "metadata": {}
        }
      ]
    },
    {
      "cell_type": "code",
      "source": [
        "cat(\"El valor de beta es\", 1-model_rest$coefficients[2])"
      ],
      "metadata": {
        "colab": {
          "base_uri": "https://localhost:8080/"
        },
        "id": "7rT7iEHtfu-m",
        "outputId": "d7374416-ea81-4aa3-cda8-40943d1ff857"
      },
      "execution_count": null,
      "outputs": [
        {
          "output_type": "stream",
          "name": "stdout",
          "text": [
            "El valor de beta es 0.63697"
          ]
        }
      ]
    },
    {
      "cell_type": "markdown",
      "source": [
        "## Pregunta 4\n",
        "**Estimar los modelos Cobb Douglas y translogarítmico y decida qué modelo es más apropiado para los datos**"
      ],
      "metadata": {
        "id": "tvnOpYtVgKKO"
      }
    },
    {
      "cell_type": "markdown",
      "source": [
        "El modelo translogarítmico:\n",
        "\\begin{gather*}\n",
        "Q_{i} = \\alpha_{1} + \\alpha_{2} ln(K_{i}) + \\alpha_{3} ln(L_{i}) + \\alpha_{4} [\\frac{1}{2}ln(K_{i})]^2 + \\alpha_{5} [\\frac{1}{2}ln(L_{i})]^2 + \\alpha_{6} ln(K_{i})*ln(L_{i}) + \\epsilon_{i}\n",
        "\\end{gather*}"
      ],
      "metadata": {
        "id": "Ec7Eoy9VgyQ8"
      }
    },
    {
      "cell_type": "code",
      "source": [
        "## Modelo Translogarítmico\n",
        "fm_tl <- lm(output ~ labor + capital + I(0.5*labor^2) + I(0.5*capital^2) + I(labor * capital),\n",
        "          data = log(SIC33))\n",
        "summary(fm_tl)"
      ],
      "metadata": {
        "colab": {
          "base_uri": "https://localhost:8080/",
          "height": 416
        },
        "id": "sDbTTADhgUXj",
        "outputId": "33ad6645-305f-40f8-a30d-dea1e49ae433"
      },
      "execution_count": null,
      "outputs": [
        {
          "output_type": "display_data",
          "data": {
            "text/plain": [
              "\n",
              "Call:\n",
              "lm(formula = output ~ labor + capital + I(0.5 * labor^2) + I(0.5 * \n",
              "    capital^2) + I(labor * capital), data = log(SIC33))\n",
              "\n",
              "Residuals:\n",
              "     Min       1Q   Median       3Q      Max \n",
              "-0.33990 -0.10106 -0.01238  0.04605  0.39281 \n",
              "\n",
              "Coefficients:\n",
              "                   Estimate Std. Error t value Pr(>|t|)  \n",
              "(Intercept)         0.94420    2.91075   0.324   0.7489  \n",
              "labor               3.61364    1.54807   2.334   0.0296 *\n",
              "capital            -1.89311    1.01626  -1.863   0.0765 .\n",
              "I(0.5 * labor^2)   -0.96405    0.70738  -1.363   0.1874  \n",
              "I(0.5 * capital^2)  0.08529    0.29261   0.291   0.7735  \n",
              "I(labor * capital)  0.31239    0.43893   0.712   0.4845  \n",
              "---\n",
              "Signif. codes:  0 ‘***’ 0.001 ‘**’ 0.01 ‘*’ 0.05 ‘.’ 0.1 ‘ ’ 1\n",
              "\n",
              "Residual standard error: 0.1799 on 21 degrees of freedom\n",
              "Multiple R-squared:  0.9549,\tAdjusted R-squared:  0.9441 \n",
              "F-statistic: 88.85 on 5 and 21 DF,  p-value: 2.121e-13\n"
            ]
          },
          "metadata": {}
        }
      ]
    },
    {
      "cell_type": "markdown",
      "source": [
        "El modelo Cobb-Douglas es un caso especial del translogarítmico que impone la restricción $\\alpha_{4}=\\alpha_{5}=\\alpha_{6}=0$. \n",
        "\n",
        "Probar la hipótesis $H_{0}: \\alpha_{4}=\\alpha_{5}=\\alpha_{6}=0$.\n",
        "\n",
        "Entonces, tomando el modelo Cobb Douglas como el modelo restringido, se calcula el estadístico F."
      ],
      "metadata": {
        "id": "CU8vdR9ahJ96"
      }
    },
    {
      "cell_type": "code",
      "source": [
        "fm_tl$coefficients"
      ],
      "metadata": {
        "colab": {
          "base_uri": "https://localhost:8080/",
          "height": 52
        },
        "id": "pOdGkCMnih0z",
        "outputId": "7ff17cb9-043f-4850-8981-36add831d904"
      },
      "execution_count": null,
      "outputs": [
        {
          "output_type": "display_data",
          "data": {
            "text/html": [
              "<style>\n",
              ".dl-inline {width: auto; margin:0; padding: 0}\n",
              ".dl-inline>dt, .dl-inline>dd {float: none; width: auto; display: inline-block}\n",
              ".dl-inline>dt::after {content: \":\\0020\"; padding-right: .5ex}\n",
              ".dl-inline>dt:not(:first-of-type) {padding-left: .5ex}\n",
              "</style><dl class=dl-inline><dt>(Intercept)</dt><dd>0.944196854264098</dd><dt>labor</dt><dd>3.61363894247745</dd><dt>capital</dt><dd>-1.89311291443838</dd><dt>I(0.5 * labor^2)</dt><dd>-0.96405221021905</dd><dt>I(0.5 * capital^2)</dt><dd>0.0852946646552602</dd><dt>I(labor * capital)</dt><dd>0.312387040991905</dd></dl>\n"
            ],
            "text/markdown": "(Intercept)\n:   0.944196854264098labor\n:   3.61363894247745capital\n:   -1.89311291443838I(0.5 * labor^2)\n:   -0.96405221021905I(0.5 * capital^2)\n:   0.0852946646552602I(labor * capital)\n:   0.312387040991905\n\n",
            "text/latex": "\\begin{description*}\n\\item[(Intercept)] 0.944196854264098\n\\item[labor] 3.61363894247745\n\\item[capital] -1.89311291443838\n\\item[I(0.5 * labor\\textbackslash{}textasciicircum\\{\\}2)] -0.96405221021905\n\\item[I(0.5 * capital\\textbackslash{}textasciicircum\\{\\}2)] 0.0852946646552602\n\\item[I(labor * capital)] 0.312387040991905\n\\end{description*}\n",
            "text/plain": [
              "       (Intercept)              labor            capital   I(0.5 * labor^2) \n",
              "        0.94419685         3.61363894        -1.89311291        -0.96405221 \n",
              "I(0.5 * capital^2) I(labor * capital) \n",
              "        0.08529466         0.31238704 "
            ]
          },
          "metadata": {}
        }
      ]
    },
    {
      "cell_type": "code",
      "source": [
        "linearHypothesis(fm_tl, c(\"I(0.5 * labor^2)=0\", \"I(0.5 * capital^2)=0\", \"I(labor * capital)=0\"))"
      ],
      "metadata": {
        "colab": {
          "base_uri": "https://localhost:8080/",
          "height": 161
        },
        "id": "EqYS-p63j_FA",
        "outputId": "7c9f2f74-fd23-4fda-a8cb-793a263da56c"
      },
      "execution_count": null,
      "outputs": [
        {
          "output_type": "display_data",
          "data": {
            "text/html": [
              "<table class=\"dataframe\">\n",
              "<caption>A anova: 2 × 6</caption>\n",
              "<thead>\n",
              "\t<tr><th></th><th scope=col>Res.Df</th><th scope=col>RSS</th><th scope=col>Df</th><th scope=col>Sum of Sq</th><th scope=col>F</th><th scope=col>Pr(&gt;F)</th></tr>\n",
              "\t<tr><th></th><th scope=col>&lt;dbl&gt;</th><th scope=col>&lt;dbl&gt;</th><th scope=col>&lt;dbl&gt;</th><th scope=col>&lt;dbl&gt;</th><th scope=col>&lt;dbl&gt;</th><th scope=col>&lt;dbl&gt;</th></tr>\n",
              "</thead>\n",
              "<tbody>\n",
              "\t<tr><th scope=row>1</th><td>24</td><td>0.8516337</td><td>NA</td><td>       NA</td><td>      NA</td><td>       NA</td></tr>\n",
              "\t<tr><th scope=row>2</th><td>21</td><td>0.6799272</td><td> 3</td><td>0.1717064</td><td>1.767755</td><td>0.1841388</td></tr>\n",
              "</tbody>\n",
              "</table>\n"
            ],
            "text/markdown": "\nA anova: 2 × 6\n\n| <!--/--> | Res.Df &lt;dbl&gt; | RSS &lt;dbl&gt; | Df &lt;dbl&gt; | Sum of Sq &lt;dbl&gt; | F &lt;dbl&gt; | Pr(&gt;F) &lt;dbl&gt; |\n|---|---|---|---|---|---|---|\n| 1 | 24 | 0.8516337 | NA |        NA |       NA |        NA |\n| 2 | 21 | 0.6799272 |  3 | 0.1717064 | 1.767755 | 0.1841388 |\n\n",
            "text/latex": "A anova: 2 × 6\n\\begin{tabular}{r|llllll}\n  & Res.Df & RSS & Df & Sum of Sq & F & Pr(>F)\\\\\n  & <dbl> & <dbl> & <dbl> & <dbl> & <dbl> & <dbl>\\\\\n\\hline\n\t1 & 24 & 0.8516337 & NA &        NA &       NA &        NA\\\\\n\t2 & 21 & 0.6799272 &  3 & 0.1717064 & 1.767755 & 0.1841388\\\\\n\\end{tabular}\n",
            "text/plain": [
              "  Res.Df RSS       Df Sum of Sq F        Pr(>F)   \n",
              "1 24     0.8516337 NA        NA       NA        NA\n",
              "2 21     0.6799272  3 0.1717064 1.767755 0.1841388"
            ]
          },
          "metadata": {}
        }
      ]
    },
    {
      "cell_type": "markdown",
      "source": [
        "No se rechaza la hipótesis nula."
      ],
      "metadata": {
        "id": "sllFe8XckRE9"
      }
    }
  ]
}